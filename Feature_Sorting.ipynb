{
 "cells": [
  {
   "cell_type": "code",
   "execution_count": 20,
   "metadata": {},
   "outputs": [],
   "source": [
    "import pandas as pd\n",
    "from functools import reduce"
   ]
  },
  {
   "cell_type": "code",
   "execution_count": 21,
   "metadata": {},
   "outputs": [],
   "source": [
    "feature_sets=[]\n",
    "for t in range(1,19):\n",
    "    feature_sets.append(pd.read_csv(f'./Version31/feature_importance_question{t}.csv'))"
   ]
  },
  {
   "cell_type": "code",
   "execution_count": 22,
   "metadata": {},
   "outputs": [
    {
     "data": {
      "text/plain": [
       "18"
      ]
     },
     "execution_count": 22,
     "metadata": {},
     "output_type": "execute_result"
    }
   ],
   "source": [
    "len(feature_sets)"
   ]
  },
  {
   "cell_type": "code",
   "execution_count": 31,
   "metadata": {},
   "outputs": [
    {
     "data": {
      "text/plain": [
       "0                                    plaque_fqid_counts\n",
       "1                             cutscene_click_ET_median_\n",
       "2                                chap1_finale_c_ET_sum_\n",
       "3                                    checkpoint_ET_sum_\n",
       "4      tunic.historicalsociety.collection.cs_ET_median_\n",
       "                             ...                       \n",
       "639                                   teddy_fqid_counts\n",
       "640                                            word_you\n",
       "641                                        word_std_Ooh\n",
       "642       tunic.kohlcenter.halloffame.togrampa_ET_mean_\n",
       "643                                 janitor_fqid_counts\n",
       "Name: feature, Length: 644, dtype: object"
      ]
     },
     "execution_count": 31,
     "metadata": {},
     "output_type": "execute_result"
    }
   ],
   "source": [
    "feature_sets[0].sort_values(by='mean', ascending=False).loc[feature_sets[0].sort_values(by='mean', ascending=False)['mean']>0.0005, 'feature']"
   ]
  },
  {
   "cell_type": "code",
   "execution_count": 23,
   "metadata": {},
   "outputs": [],
   "source": [
    "from functools import reduce\n",
    "\n",
    "mt_feat1=list(reduce(set.intersection, map(set, \\\n",
    "    [feature_sets[0].sort_values(by='mean', ascending=False).loc[1:400, 'feature'],\\\n",
    "     feature_sets[1].sort_values(by='mean', ascending=False).loc[1:400, 'feature'],\\\n",
    "     feature_sets[2].sort_values(by='mean', ascending=False).loc[1:400, 'feature'],\\\n",
    "        ])))\n"
   ]
  },
  {
   "cell_type": "code",
   "execution_count": 24,
   "metadata": {},
   "outputs": [],
   "source": [
    "mt_feat2=list(reduce(set.intersection, map(set, \\\n",
    "    [feature_sets[3].sort_values(by='mean', ascending=False).loc[1:400, 'feature'],\\\n",
    "     feature_sets[4].sort_values(by='mean', ascending=False).loc[1:400, 'feature'],\\\n",
    "     feature_sets[5].sort_values(by='mean', ascending=False).loc[1:400, 'feature'],\\\n",
    "     feature_sets[6].sort_values(by='mean', ascending=False).loc[1:400, 'feature'],\\\n",
    "     feature_sets[7].sort_values(by='mean', ascending=False).loc[1:400, 'feature'],\\\n",
    "     feature_sets[8].sort_values(by='mean', ascending=False).loc[1:400, 'feature'],\\\n",
    "     feature_sets[9].sort_values(by='mean', ascending=False).loc[1:400, 'feature'],\\\n",
    "     feature_sets[10].sort_values(by='mean', ascending=False).loc[1:400, 'feature'],\\\n",
    "     feature_sets[11].sort_values(by='mean', ascending=False).loc[1:400, 'feature'],\\\n",
    "     feature_sets[12].sort_values(by='mean', ascending=False).loc[1:400, 'feature'],\\\n",
    "        ])))\n"
   ]
  },
  {
   "cell_type": "code",
   "execution_count": 25,
   "metadata": {},
   "outputs": [],
   "source": [
    "mt_feat3=list(reduce(set.intersection, map(set, \\\n",
    "    [feature_sets[13].sort_values(by='mean', ascending=False).loc[1:400, 'feature'],\\\n",
    "     feature_sets[14].sort_values(by='mean', ascending=False).loc[1:400, 'feature'],\\\n",
    "     feature_sets[15].sort_values(by='mean', ascending=False).loc[1:400, 'feature'],\\\n",
    "     feature_sets[16].sort_values(by='mean', ascending=False).loc[1:400, 'feature'],\\\n",
    "     feature_sets[17].sort_values(by='mean', ascending=False).loc[1:400, 'feature'],\\\n",
    "     \n",
    "        ])))"
   ]
  },
  {
   "cell_type": "code",
   "execution_count": 26,
   "metadata": {},
   "outputs": [
    {
     "data": {
      "text/plain": [
       "(206, 40, 40)"
      ]
     },
     "execution_count": 26,
     "metadata": {},
     "output_type": "execute_result"
    }
   ],
   "source": [
    "len(mt_feat1),len(mt_feat2), len(mt_feat3)"
   ]
  },
  {
   "cell_type": "code",
   "execution_count": 29,
   "metadata": {},
   "outputs": [
    {
     "data": {
      "text/plain": [
       "['undefined_ET_sum_',\n",
       " 'tunic.historicalsociety.entry.boss.flag_ET_q25_',\n",
       " 'map_hover_ET_sum_',\n",
       " 'tunic.library.frontdesk.worker.nelson_ET_median_',\n",
       " 'expert_ET_sum_',\n",
       " 'tunic.historicalsociety_ET_sum_',\n",
       " 'tunic.library.frontdesk.worker.flag_recap_ET_mean_',\n",
       " '20_ET_sum_',\n",
       " 'tunic.historicalsociety.frontdesk.archivist_glasses.confrontation_recap_ET_sum_',\n",
       " 'directory_ET_sum_',\n",
       " '20_LEVEL_count',\n",
       " 'navigate_click_ET_sum_',\n",
       " 'groupconvo_flag_ET_q25_',\n",
       " 'journals_flag.pic_1.next_ET_q75_',\n",
       " 'tunic.historicalsociety.cage.teddy.trapped_ET_mean_',\n",
       " 'tunic.historicalsociety.closet_dirty_ET_sum_',\n",
       " '15_ET_mean_',\n",
       " 'tunic.library.frontdesk_ET_sum_',\n",
       " 'tunic.historicalsociety.entry.groupconvo_flag_ET_q75_',\n",
       " 'tunic.library.frontdesk.worker.flag_recap_ET_std_',\n",
       " 'directory.closeup.archivist_ET_q75_',\n",
       " 'tunic.historicalsociety.frontdesk.archivist_glasses.confrontation_recap_ET_mean_',\n",
       " 'tunic.historicalsociety.closet_dirty_room_fqid_counts',\n",
       " 'tunic.library.frontdesk.worker.nelson_ET_q25_',\n",
       " 'directory_ET_std_',\n",
       " 'tunic.flaghouse.entry.colorbook_ET_q75_',\n",
       " 'directory_ET_q75_',\n",
       " 'tunic.historicalsociety.entry.directory.closeup.archivist_ET_median_',\n",
       " 'tunic.historicalsociety.frontdesk.archivist_glasses.confrontation_recap_ET_q75_',\n",
       " 'tocloset_dirty_ET_sum_',\n",
       " 'tracks_ET_sum_',\n",
       " 'tunic.library.frontdesk.worker.nelson_ET_q75_',\n",
       " 'confrontation_ET_median_',\n",
       " 'map_click_ET_sum_',\n",
       " 'tunic.historicalsociety.cage.teddy.trapped_ET_median_',\n",
       " 'tracks_fqid_counts',\n",
       " 'tunic.flaghouse.entry.colorbook_ET_sum_',\n",
       " 'tunic.historicalsociety.frontdesk_room_fqid_counts',\n",
       " 'word_q25_it',\n",
       " 'journals_flag.pic_0.next_ET_sum_']"
      ]
     },
     "execution_count": 29,
     "metadata": {},
     "output_type": "execute_result"
    }
   ],
   "source": [
    "mt_feat3"
   ]
  },
  {
   "cell_type": "code",
   "execution_count": null,
   "metadata": {},
   "outputs": [],
   "source": []
  }
 ],
 "metadata": {
  "kernelspec": {
   "display_name": "SP",
   "language": "python",
   "name": "python3"
  },
  "language_info": {
   "codemirror_mode": {
    "name": "ipython",
    "version": 3
   },
   "file_extension": ".py",
   "mimetype": "text/x-python",
   "name": "python",
   "nbconvert_exporter": "python",
   "pygments_lexer": "ipython3",
   "version": "3.7.16"
  },
  "orig_nbformat": 4
 },
 "nbformat": 4,
 "nbformat_minor": 2
}
