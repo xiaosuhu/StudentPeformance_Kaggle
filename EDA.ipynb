{
 "cells": [
  {
   "cell_type": "code",
   "execution_count": 1,
   "metadata": {},
   "outputs": [],
   "source": [
    "import pandas as pd\n",
    "import numpy as np\n",
    "import matplotlib.pyplot as plt\n",
    "import gc\n",
    "import pickle\n",
    "import polars as pl\n",
    "from sklearn.model_selection import KFold, GroupKFold, train_test_split\n",
    "from xgboost import XGBClassifier\n",
    "# from catboost import CatBoostClassifier, Pool\n",
    "from sklearn.metrics import f1_score, accuracy_score\n",
    "from tqdm.notebook import tqdm\n",
    "from collections import defaultdict\n",
    "import warnings\n",
    "from itertools import combinations\n",
    "\n",
    "warnings.filterwarnings('ignore')\n",
    "pd.set_option(\"display.max_columns\", None)\n",
    "pd.set_option(\"display.max_rows\", 200)"
   ]
  },
  {
   "cell_type": "code",
   "execution_count": 2,
   "metadata": {},
   "outputs": [
    {
     "name": "stdout",
     "output_type": "stream",
     "text": [
      "(424116, 4)\n"
     ]
    }
   ],
   "source": [
    "# targets = pd.read_csv('/kaggle/input/predict-student-performance-from-game-play/train_labels.csv')\n",
    "\n",
    "# ----------------Locally load data\n",
    "targets = pd.read_csv('./Data/train_labels.csv')\n",
    "targets['session'] = targets.session_id.apply(lambda x: int(x.split('_')[0]))\n",
    "targets['q'] = targets.session_id.apply(lambda x: int(x.split('_')[-1][1:]))\n",
    "print(targets.shape)"
   ]
  },
  {
   "cell_type": "code",
   "execution_count": 3,
   "metadata": {},
   "outputs": [
    {
     "data": {
      "text/plain": [
       "session\n",
       "22040509300204092     1\n",
       "21080614332146020     1\n",
       "21000110313687256     1\n",
       "21020008201271976     1\n",
       "20110318124381970     2\n",
       "                     ..\n",
       "21020113594322660    18\n",
       "21040614001990668    18\n",
       "21080608243033080    18\n",
       "21040617192201100    18\n",
       "20100514144222530    18\n",
       "Name: correct, Length: 23562, dtype: int64"
      ]
     },
     "execution_count": 3,
     "metadata": {},
     "output_type": "execute_result"
    }
   ],
   "source": [
    "targets.groupby('session')['correct'].agg('sum').sort_values()"
   ]
  },
  {
   "cell_type": "code",
   "execution_count": null,
   "metadata": {},
   "outputs": [],
   "source": [
    "targets.loc[targets['session']==20100514144222530].to_csv('20100514144222530_answer.csv')"
   ]
  },
  {
   "cell_type": "code",
   "execution_count": null,
   "metadata": {},
   "outputs": [],
   "source": [
    "train_dtypes = {\"session_id\": pl.Int64,\"elapsed_time\": pl.Int64,\"event_name\": pl.Categorical,\n",
    "                \"name\": pl.Categorical,\"level\": pl.Int8,\"page\": pl.Float32,\n",
    "                \"room_coor_x\": pl.Float32,\"room_coor_y\": pl.Float32,\"screen_coor_x\": pl.Float32,\n",
    "                \"screen_coor_y\": pl.Float32,\"hover_duration\": pl.Float32,\"text\": pl.Utf8,\n",
    "                \"fqid\": pl.Utf8,\"room_fqid\": pl.Categorical,\"text_fqid\": pl.Utf8,\n",
    "                \"fullscreen\": pl.Int8,\"hq\": pl.Int8,\"music\": pl.Int8,\"level_group\": pl.Categorical\n",
    "               }"
   ]
  },
  {
   "cell_type": "code",
   "execution_count": null,
   "metadata": {},
   "outputs": [],
   "source": [
    "time_up_lim = 3.6e6 # 1 hour. events longer than 1 hour are outliers.\n",
    "columns = [\n",
    "    pl.col(\"page\").cast(pl.Float32),\n",
    "    (\n",
    "        (pl.col(\"elapsed_time\") - pl.col(\"elapsed_time\").shift(1)) # time used for each action\n",
    "         .fill_null(0)\n",
    "         .clip(0, time_up_lim)\n",
    "         .over([\"session_id\", \"level_group\"])\n",
    "         .alias(\"elapsed_time_diff\")\n",
    "    ),\n",
    "    (\n",
    "        (pl.col(\"screen_coor_x\") - pl.col(\"screen_coor_x\").shift(1)) # location x changed for click \n",
    "         .abs()\n",
    "         .over([\"session_id\", \"level_group\"])\n",
    "    ),\n",
    "    (\n",
    "        (pl.col(\"screen_coor_y\") - pl.col(\"screen_coor_y\").shift(1)) # location y changed for click \n",
    "         .abs()\n",
    "         .over([\"session_id\", \"level_group\"])\n",
    "    ),\n",
    "    pl.col(\"fqid\").fill_null(\"fqid_None\"),\n",
    "    pl.col(\"text_fqid\").fill_null(\"text_fqid_None\")\n",
    "]"
   ]
  },
  {
   "cell_type": "code",
   "execution_count": null,
   "metadata": {},
   "outputs": [],
   "source": [
    "%%time\n",
    "\n",
    "# we prepare the dataset for the training by level :\n",
    "\"\"\"df = (pl.read_csv(\"/kaggle/input/predict-student-performance-from-game-play/train.csv\", dtypes=train_dtypes)\n",
    "      .drop([\"fullscreen\", \"hq\", \"music\"])\n",
    "      .with_columns(columns))\"\"\"\n",
    "#df = reduce_mem_usage_pl(df)\n",
    "\n",
    "# ----------------Locally load data\n",
    "df = (pl.read_csv(\"./Data/train.csv\", dtypes=train_dtypes)\n",
    "      .drop([\"fullscreen\", \"hq\", \"music\"])\n",
    "      .with_columns(columns))\n",
    "\n",
    "print(f'df loaded with shape: {df.shape}')"
   ]
  },
  {
   "cell_type": "code",
   "execution_count": null,
   "metadata": {},
   "outputs": [],
   "source": [
    "df1 = df.filter(pl.col(\"level_group\")=='0-4')\n",
    "df2 = df.filter(pl.col(\"level_group\")=='5-12')\n",
    "df3 = df.filter(pl.col(\"level_group\")=='13-22')\n",
    "\n",
    "print(f'df1 loaded with shape: {df1.shape}')\n",
    "print(f'df2 loaded with shape: {df2.shape}')\n",
    "print(f'df3 loaded with shape: {df3.shape}')"
   ]
  },
  {
   "cell_type": "code",
   "execution_count": null,
   "metadata": {},
   "outputs": [],
   "source": [
    "df1.filter(pl.col(\"session_id\")== 20100514144222530).write_csv('20100514144222530_part1.csv')"
   ]
  },
  {
   "cell_type": "code",
   "execution_count": null,
   "metadata": {},
   "outputs": [],
   "source": [
    "df2.filter(pl.col(\"session_id\")== 20100514144222530).write_csv('20100514144222530_part2.csv')"
   ]
  },
  {
   "cell_type": "code",
   "execution_count": null,
   "metadata": {},
   "outputs": [],
   "source": [
    "df3.filter(pl.col(\"session_id\")== 20100514144222530).write_csv('20100514144222530_part3.csv')"
   ]
  },
  {
   "cell_type": "code",
   "execution_count": null,
   "metadata": {},
   "outputs": [],
   "source": [
    "df1.groupby(['fqid','text_fqid']).n_unique().write_csv('./fqid_text_interact1.csv')\n",
    "df2.groupby(['fqid','text_fqid']).n_unique().write_csv('./fqid_text_interact2.csv')\n",
    "df3.groupby(['fqid','text_fqid']).n_unique().write_csv('./fqid_text_interact3.csv')"
   ]
  }
 ],
 "metadata": {
  "kernelspec": {
   "display_name": "SP",
   "language": "python",
   "name": "python3"
  },
  "language_info": {
   "codemirror_mode": {
    "name": "ipython",
    "version": 3
   },
   "file_extension": ".py",
   "mimetype": "text/x-python",
   "name": "python",
   "nbconvert_exporter": "python",
   "pygments_lexer": "ipython3",
   "version": "3.7.16"
  },
  "orig_nbformat": 4
 },
 "nbformat": 4,
 "nbformat_minor": 2
}
