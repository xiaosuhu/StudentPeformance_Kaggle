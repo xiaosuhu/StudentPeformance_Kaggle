{
 "cells": [
  {
   "attachments": {},
   "cell_type": "markdown",
   "id": "5f7705ec",
   "metadata": {
    "papermill": {
     "duration": 0.0084,
     "end_time": "2023-05-26T19:29:16.299986",
     "exception": false,
     "start_time": "2023-05-26T19:29:16.291586",
     "status": "completed"
    },
    "tags": []
   },
   "source": [
    "I'm glad to share my plan. This is based on the landmark notebook by Chris [Here](https://www.kaggle.com/code/cdeotte/xgboost-baseline-0-676). Thanks to him and all the participants who share their ideas.\n",
    "My inference part is [Here](https://www.kaggle.com/code/takanashihumbert/magic-bingo-inference-part-lb-0-687)"
   ]
  },
  {
   "cell_type": "code",
   "execution_count": 16,
   "id": "56ad41f6",
   "metadata": {
    "execution": {
     "iopub.execute_input": "2023-05-26T19:29:16.351930Z",
     "iopub.status.busy": "2023-05-26T19:29:16.350973Z",
     "iopub.status.idle": "2023-05-26T19:29:17.837821Z",
     "shell.execute_reply": "2023-05-26T19:29:17.836611Z"
    },
    "papermill": {
     "duration": 1.497796,
     "end_time": "2023-05-26T19:29:17.840772",
     "exception": false,
     "start_time": "2023-05-26T19:29:16.342976",
     "status": "completed"
    },
    "tags": []
   },
   "outputs": [],
   "source": [
    "import pandas as pd\n",
    "import numpy as np\n",
    "import matplotlib.pyplot as plt\n",
    "import gc\n",
    "import pickle\n",
    "import polars as pl\n",
    "from sklearn.model_selection import KFold, GroupKFold, train_test_split\n",
    "from xgboost import XGBClassifier\n",
    "from catboost import CatBoostClassifier, Pool\n",
    "from sklearn.metrics import f1_score\n",
    "from tqdm.notebook import tqdm\n",
    "from collections import defaultdict\n",
    "import warnings\n",
    "from itertools import combinations\n",
    "\n",
    "warnings.filterwarnings('ignore')\n",
    "pd.set_option(\"display.max_columns\", None)\n",
    "pd.set_option(\"display.max_rows\", 200)"
   ]
  },
  {
   "cell_type": "code",
   "execution_count": 2,
   "id": "81697e31",
   "metadata": {
    "execution": {
     "iopub.execute_input": "2023-05-26T19:29:17.856851Z",
     "iopub.status.busy": "2023-05-26T19:29:17.856460Z",
     "iopub.status.idle": "2023-05-26T19:29:19.211583Z",
     "shell.execute_reply": "2023-05-26T19:29:19.210557Z"
    },
    "papermill": {
     "duration": 1.366164,
     "end_time": "2023-05-26T19:29:19.214331",
     "exception": false,
     "start_time": "2023-05-26T19:29:17.848167",
     "status": "completed"
    },
    "tags": []
   },
   "outputs": [
    {
     "name": "stdout",
     "output_type": "stream",
     "text": [
      "(424116, 4)\n"
     ]
    }
   ],
   "source": [
    "# targets = pd.read_csv('/kaggle/input/predict-student-performance-from-game-play/train_labels.csv')\n",
    "\n",
    "# ----------------Locally load data\n",
    "targets = pd.read_csv('./train_labels.csv')\n",
    "targets['session'] = targets.session_id.apply(lambda x: int(x.split('_')[0]))\n",
    "targets['q'] = targets.session_id.apply(lambda x: int(x.split('_')[-1][1:]))\n",
    "print(targets.shape)"
   ]
  },
  {
   "cell_type": "code",
   "execution_count": 3,
   "id": "54c82b5d",
   "metadata": {
    "execution": {
     "iopub.execute_input": "2023-05-26T19:29:19.367916Z",
     "iopub.status.busy": "2023-05-26T19:29:19.367503Z",
     "iopub.status.idle": "2023-05-26T19:29:19.375593Z",
     "shell.execute_reply": "2023-05-26T19:29:19.374307Z"
    },
    "papermill": {
     "duration": 0.019497,
     "end_time": "2023-05-26T19:29:19.378200",
     "exception": false,
     "start_time": "2023-05-26T19:29:19.358703",
     "status": "completed"
    },
    "tags": []
   },
   "outputs": [],
   "source": [
    "train_dtypes = {\"session_id\": pl.Int64,\"elapsed_time\": pl.Int64,\"event_name\": pl.Categorical,\n",
    "                \"name\": pl.Categorical,\"level\": pl.Int8,\"page\": pl.Float32,\n",
    "                \"room_coor_x\": pl.Float32,\"room_coor_y\": pl.Float32,\"screen_coor_x\": pl.Float32,\n",
    "                \"screen_coor_y\": pl.Float32,\"hover_duration\": pl.Float32,\"text\": pl.Utf8,\n",
    "                \"fqid\": pl.Utf8,\"room_fqid\": pl.Categorical,\"text_fqid\": pl.Utf8,\n",
    "                \"fullscreen\": pl.Int8,\"hq\": pl.Int8,\"music\": pl.Int8,\"level_group\": pl.Categorical\n",
    "               }"
   ]
  },
  {
   "cell_type": "code",
   "execution_count": 4,
   "id": "e8e8f5c0",
   "metadata": {
    "execution": {
     "iopub.execute_input": "2023-05-26T19:29:19.396513Z",
     "iopub.status.busy": "2023-05-26T19:29:19.396095Z",
     "iopub.status.idle": "2023-05-26T19:29:19.420053Z",
     "shell.execute_reply": "2023-05-26T19:29:19.418784Z"
    },
    "papermill": {
     "duration": 0.03689,
     "end_time": "2023-05-26T19:29:19.423291",
     "exception": false,
     "start_time": "2023-05-26T19:29:19.386401",
     "status": "completed"
    },
    "tags": []
   },
   "outputs": [],
   "source": [
    "time_up_lim = 3.6e6 # 1 hour. events longer than 1 hour are outliers.\n",
    "columns = [\n",
    "    pl.col(\"page\").cast(pl.Float32),\n",
    "    (\n",
    "        (pl.col(\"elapsed_time\") - pl.col(\"elapsed_time\").shift(1)) # time used for each action\n",
    "         .fill_null(0)\n",
    "         .clip(0, time_up_lim)\n",
    "         .over([\"session_id\", \"level_group\"])\n",
    "         .alias(\"elapsed_time_diff\")\n",
    "    ),\n",
    "    (\n",
    "        (pl.col(\"elapsed_time\") - pl.col(\"elapsed_time\").shift(1))\n",
    "        .shift(-1)\n",
    "        .clip(0, time_up_lim)\n",
    "        .over([\"session_id\", \"level_group\"])\n",
    "        .alias(\"elapsed_time_diff_next\")\n",
    "    ),\n",
    "    (\n",
    "        (pl.col(\"screen_coor_x\") - pl.col(\"screen_coor_x\").shift(1)) # location x changed for click \n",
    "         .abs()\n",
    "         .over([\"session_id\", \"level_group\"])\n",
    "    ),\n",
    "    (\n",
    "        (pl.col(\"screen_coor_y\") - pl.col(\"screen_coor_y\").shift(1)) # location y changed for click \n",
    "         .abs()\n",
    "         .over([\"session_id\", \"level_group\"])\n",
    "    ),\n",
    "    pl.col(\"fqid\").fill_null(\"fqid_None\"),\n",
    "    pl.col(\"text_fqid\").fill_null(\"text_fqid_None\")\n",
    "]"
   ]
  },
  {
   "cell_type": "code",
   "execution_count": 5,
   "id": "f1c7f415",
   "metadata": {
    "execution": {
     "iopub.execute_input": "2023-05-26T19:29:19.442497Z",
     "iopub.status.busy": "2023-05-26T19:29:19.441403Z",
     "iopub.status.idle": "2023-05-26T19:30:12.106259Z",
     "shell.execute_reply": "2023-05-26T19:30:12.105082Z"
    },
    "papermill": {
     "duration": 52.68447,
     "end_time": "2023-05-26T19:30:12.116258",
     "exception": false,
     "start_time": "2023-05-26T19:29:19.431788",
     "status": "completed"
    },
    "tags": []
   },
   "outputs": [
    {
     "name": "stdout",
     "output_type": "stream",
     "text": [
      "df loaded with shape: (26296946, 19)\n",
      "CPU times: user 29.8 s, sys: 12.3 s, total: 42 s\n",
      "Wall time: 9.62 s\n"
     ]
    }
   ],
   "source": [
    "%%time\n",
    "\n",
    "# we prepare the dataset for the training by level :\n",
    "\"\"\"df = (pl.read_csv(\"/kaggle/input/predict-student-performance-from-game-play/train.csv\", dtypes=train_dtypes)\n",
    "      .drop([\"fullscreen\", \"hq\", \"music\"])\n",
    "      .with_columns(columns))\"\"\"\n",
    "#df = reduce_mem_usage_pl(df)\n",
    "\n",
    "# ----------------Locally load data\n",
    "df = (pl.read_csv(\"./train.csv\", dtypes=train_dtypes)\n",
    "      .drop([\"fullscreen\", \"hq\", \"music\"])\n",
    "      .with_columns(columns))\n",
    "\n",
    "print(f'df loaded with shape: {df.shape}')"
   ]
  },
  {
   "cell_type": "code",
   "execution_count": 6,
   "id": "10e6c1a4",
   "metadata": {
    "execution": {
     "iopub.execute_input": "2023-05-26T19:30:12.133347Z",
     "iopub.status.busy": "2023-05-26T19:30:12.132974Z",
     "iopub.status.idle": "2023-05-26T19:30:18.030474Z",
     "shell.execute_reply": "2023-05-26T19:30:18.029045Z"
    },
    "papermill": {
     "duration": 5.909717,
     "end_time": "2023-05-26T19:30:18.033691",
     "exception": false,
     "start_time": "2023-05-26T19:30:12.123974",
     "status": "completed"
    },
    "tags": []
   },
   "outputs": [
    {
     "name": "stdout",
     "output_type": "stream",
     "text": [
      "df1 loaded with shape: (3981005, 19)\n",
      "df2 loaded with shape: (8844238, 19)\n",
      "df3 loaded with shape: (13471703, 19)\n"
     ]
    }
   ],
   "source": [
    "df1 = df.filter(pl.col(\"level_group\")=='0-4')\n",
    "df2 = df.filter(pl.col(\"level_group\")=='5-12')\n",
    "df3 = df.filter(pl.col(\"level_group\")=='13-22')\n",
    "\n",
    "print(f'df1 loaded with shape: {df1.shape}')\n",
    "print(f'df2 loaded with shape: {df2.shape}')\n",
    "print(f'df3 loaded with shape: {df3.shape}')"
   ]
  },
  {
   "cell_type": "code",
   "execution_count": 7,
   "id": "92434db7",
   "metadata": {
    "execution": {
     "iopub.execute_input": "2023-05-26T19:30:18.052273Z",
     "iopub.status.busy": "2023-05-26T19:30:18.051941Z",
     "iopub.status.idle": "2023-05-26T19:30:18.078385Z",
     "shell.execute_reply": "2023-05-26T19:30:18.077061Z"
    },
    "papermill": {
     "duration": 0.039931,
     "end_time": "2023-05-26T19:30:18.081841",
     "exception": false,
     "start_time": "2023-05-26T19:30:18.041910",
     "status": "completed"
    },
    "tags": []
   },
   "outputs": [],
   "source": [
    "CATS = ['event_name', 'name','fqid', 'room_fqid', 'text_fqid']\n",
    "\n",
    "\"\"\"event_name_feature = ['cutscene_click', 'person_click', 'navigate_click',\n",
    "       'observation_click', 'notification_click', 'object_click',\n",
    "       'object_hover', 'map_hover', 'map_click', 'checkpoint',\n",
    "       'notebook_click']\n",
    "\n",
    "name_feature = ['basic', 'undefined', 'close', 'open', 'prev', 'next']\"\"\"\n",
    "\n",
    "combined_name_feature = [['checkpoint', 'basic'], \n",
    "['cutscene_click', 'basic'], \n",
    "['map_click', 'basic'], \n",
    "['map_click', 'close'],\n",
    "['map_click', 'undefined'], \n",
    "['map_hover', 'basic'], \n",
    "['navigate_click', 'undefined'], \n",
    "['notebook_click', 'basic'], \n",
    "['notebook_click', 'close'],\n",
    "['notebook_click', 'next'], \n",
    "['notebook_click', 'open'],\n",
    "['notebook_click', 'prev'], \n",
    "['notification_click', 'basic'], \n",
    "['object_click', 'basic'], \n",
    "['object_click', 'close'], \n",
    "['object_hover', 'basic'], \n",
    "['object_hover', 'undefined'], \n",
    "['observation_click', 'basic'], \n",
    "['person_click', 'basic'],]\n",
    "\n",
    "NUMS = [ \n",
    "    'page', \n",
    "    'room_coor_x', \n",
    "    'room_coor_y', \n",
    "    'screen_coor_x', \n",
    "    'screen_coor_y', \n",
    "    'hover_duration', \n",
    "    'elapsed_time_diff'\n",
    "]\n",
    "\n",
    "\n",
    "# ----------------From another Notebook https://www.kaggle.com/code/xiaosufrankhu/lgbm-train-infer-with-cpu\n",
    "# DIALOGS = ['that', 'this', 'it', 'you','find','found','Found','notebook','Wells','wells','help','need', 'Oh','Ooh','Jo', 'flag', 'can','and','is','the','to']\n",
    "DIALOGS = ['Gramps','myself', 'national movement', 'Wisconsin Wonders','Earth Day', '1916', 'cleaning', 'cleaner', 'slip', 'jersey', 'Theodora Youmans', 'suffragist', 'that', 'this', 'it', 'you','find','found','Found','notebook','Wells','wells','help','need', 'Oh','Ooh','Jo', 'flag', 'can','and','is','the','to']\n",
    "\n",
    "fqid_lists = ['worker', 'archivist', 'gramps', 'wells', 'toentry', 'confrontation', 'crane_ranger', 'groupconvo', 'flag_girl', 'tomap', 'tostacks', 'tobasement', 'archivist_glasses', 'boss', 'journals', 'seescratches', 'groupconvo_flag', 'cs', 'teddy', 'expert', 'businesscards', 'ch3start', 'tunic.historicalsociety', 'tofrontdesk', 'savedteddy', 'plaque', 'glasses', 'tunic.drycleaner', 'reader_flag', 'tunic.library', 'tracks', 'tunic.capitol_2', 'trigger_scarf', 'reader', 'directory', 'tunic.capitol_1', 'journals.pic_0.next', 'unlockdoor', 'tunic', 'what_happened', 'tunic.kohlcenter', 'tunic.humanecology', 'colorbook', 'logbook', 'businesscards.card_0.next', 'journals.hub.topics', 'logbook.page.bingo', 'journals.pic_1.next', 'journals_flag', 'reader.paper0.next', 'tracks.hub.deer', 'reader_flag.paper0.next', 'trigger_coffee', 'wellsbadge', 'journals.pic_2.next', 'tomicrofiche', 'journals_flag.pic_0.bingo', 'plaque.face.date', 'notebook', 'tocloset_dirty', 'businesscards.card_bingo.bingo', 'businesscards.card_1.next', 'tunic.wildlife', 'tunic.hub.slip', 'tocage', 'journals.pic_2.bingo', 'tocollectionflag', 'tocollection', 'chap4_finale_c', 'chap2_finale_c', 'lockeddoor', 'journals_flag.hub.topics', 'tunic.capitol_0', 'reader_flag.paper2.bingo', 'photo', 'tunic.flaghouse', 'reader.paper1.next', 'directory.closeup.archivist', 'intro', 'businesscards.card_bingo.next', 'reader.paper2.bingo', 'retirement_letter', 'remove_cup', 'journals_flag.pic_0.next', 'magnify', 'coffee', 'key', 'togrampa', 'reader_flag.paper1.next', 'janitor', 'tohallway', 'chap1_finale', 'report', 'outtolunch', 'journals_flag.hub.topics_old', 'journals_flag.pic_1.next', 'reader.paper2.next', 'chap1_finale_c', 'reader_flag.paper2.next', 'door_block_talk', 'journals_flag.pic_1.bingo', 'journals_flag.pic_2.next', 'journals_flag.pic_2.bingo', 'block_magnify', 'reader.paper0.prev', 'block', 'reader_flag.paper0.prev', 'block_0', 'door_block_clean', 'reader.paper2.prev', 'reader.paper1.prev', 'doorblock', 'tocloset', 'reader_flag.paper2.prev', 'reader_flag.paper1.prev', 'block_tomap2', 'journals_flag.pic_0_old.next', 'journals_flag.pic_1_old.next', 'block_tocollection', 'block_nelson', 'journals_flag.pic_2_old.next', 'block_tomap1', 'block_badge', 'need_glasses', 'block_badge_2', 'fox', 'block_1']\n",
    "text_lists = ['tunic.historicalsociety.cage.confrontation', 'tunic.wildlife.center.crane_ranger.crane', 'tunic.historicalsociety.frontdesk.archivist.newspaper', 'tunic.historicalsociety.entry.groupconvo', 'tunic.wildlife.center.wells.nodeer', 'tunic.historicalsociety.frontdesk.archivist.have_glass', 'tunic.drycleaner.frontdesk.worker.hub', 'tunic.historicalsociety.closet_dirty.gramps.news', 'tunic.humanecology.frontdesk.worker.intro', 'tunic.historicalsociety.frontdesk.archivist_glasses.confrontation', 'tunic.historicalsociety.basement.seescratches', 'tunic.historicalsociety.collection.cs', 'tunic.flaghouse.entry.flag_girl.hello', 'tunic.historicalsociety.collection.gramps.found', 'tunic.historicalsociety.basement.ch3start', 'tunic.historicalsociety.entry.groupconvo_flag', 'tunic.library.frontdesk.worker.hello', 'tunic.library.frontdesk.worker.wells', 'tunic.historicalsociety.collection_flag.gramps.flag', 'tunic.historicalsociety.basement.savedteddy', 'tunic.library.frontdesk.worker.nelson', 'tunic.wildlife.center.expert.removed_cup', 'tunic.library.frontdesk.worker.flag', 'tunic.historicalsociety.frontdesk.archivist.hello', 'tunic.historicalsociety.closet.gramps.intro_0_cs_0', 'tunic.historicalsociety.entry.boss.flag', 'tunic.flaghouse.entry.flag_girl.symbol', 'tunic.historicalsociety.closet_dirty.trigger_scarf', 'tunic.drycleaner.frontdesk.worker.done', 'tunic.historicalsociety.closet_dirty.what_happened', 'tunic.wildlife.center.wells.animals', 'tunic.historicalsociety.closet.teddy.intro_0_cs_0', 'tunic.historicalsociety.cage.glasses.afterteddy', 'tunic.historicalsociety.cage.teddy.trapped', 'tunic.historicalsociety.cage.unlockdoor', 'tunic.historicalsociety.stacks.journals.pic_2.bingo', 'tunic.historicalsociety.entry.wells.flag', 'tunic.humanecology.frontdesk.worker.badger', 'tunic.historicalsociety.stacks.journals_flag.pic_0.bingo', 'tunic.historicalsociety.closet.intro', 'tunic.historicalsociety.closet.retirement_letter.hub', 'tunic.historicalsociety.entry.directory.closeup.archivist', 'tunic.historicalsociety.collection.tunic.slip', 'tunic.kohlcenter.halloffame.plaque.face.date', 'tunic.historicalsociety.closet_dirty.trigger_coffee', 'tunic.drycleaner.frontdesk.logbook.page.bingo', 'tunic.library.microfiche.reader.paper2.bingo', 'tunic.kohlcenter.halloffame.togrampa', 'tunic.capitol_2.hall.boss.haveyougotit', 'tunic.wildlife.center.wells.nodeer_recap', 'tunic.historicalsociety.cage.glasses.beforeteddy', 'tunic.historicalsociety.closet_dirty.gramps.helpclean', 'tunic.wildlife.center.expert.recap', 'tunic.historicalsociety.frontdesk.archivist.have_glass_recap', 'tunic.historicalsociety.stacks.journals_flag.pic_1.bingo', 'tunic.historicalsociety.cage.lockeddoor', 'tunic.historicalsociety.stacks.journals_flag.pic_2.bingo', 'tunic.historicalsociety.collection.gramps.lost', 'tunic.historicalsociety.closet.notebook', 'tunic.historicalsociety.frontdesk.magnify', 'tunic.humanecology.frontdesk.businesscards.card_bingo.bingo', 'tunic.wildlife.center.remove_cup', 'tunic.library.frontdesk.wellsbadge.hub', 'tunic.wildlife.center.tracks.hub.deer', 'tunic.historicalsociety.frontdesk.key', 'tunic.library.microfiche.reader_flag.paper2.bingo', 'tunic.flaghouse.entry.colorbook', 'tunic.wildlife.center.coffee', 'tunic.capitol_1.hall.boss.haveyougotit', 'tunic.historicalsociety.basement.janitor', 'tunic.historicalsociety.collection_flag.gramps.recap', 'tunic.wildlife.center.wells.animals2', 'tunic.flaghouse.entry.flag_girl.symbol_recap', 'tunic.historicalsociety.closet_dirty.photo', 'tunic.historicalsociety.stacks.outtolunch', 'tunic.library.frontdesk.worker.wells_recap', 'tunic.historicalsociety.frontdesk.archivist_glasses.confrontation_recap', 'tunic.capitol_0.hall.boss.talktogramps', 'tunic.historicalsociety.closet.photo', 'tunic.historicalsociety.collection.tunic', 'tunic.historicalsociety.closet.teddy.intro_0_cs_5', 'tunic.historicalsociety.closet_dirty.gramps.archivist', 'tunic.historicalsociety.closet_dirty.door_block_talk', 'tunic.historicalsociety.entry.boss.flag_recap', 'tunic.historicalsociety.frontdesk.archivist.need_glass_0', 'tunic.historicalsociety.entry.wells.talktogramps', 'tunic.historicalsociety.frontdesk.block_magnify', 'tunic.historicalsociety.frontdesk.archivist.foundtheodora', 'tunic.historicalsociety.closet_dirty.gramps.nothing', 'tunic.historicalsociety.closet_dirty.door_block_clean', 'tunic.capitol_1.hall.boss.writeitup', 'tunic.library.frontdesk.worker.nelson_recap', 'tunic.library.frontdesk.worker.hello_short', 'tunic.historicalsociety.stacks.block', 'tunic.historicalsociety.frontdesk.archivist.need_glass_1', 'tunic.historicalsociety.entry.boss.talktogramps', 'tunic.historicalsociety.frontdesk.archivist.newspaper_recap', 'tunic.historicalsociety.entry.wells.flag_recap', 'tunic.drycleaner.frontdesk.worker.done2', 'tunic.library.frontdesk.worker.flag_recap', 'tunic.humanecology.frontdesk.block_0', 'tunic.library.frontdesk.worker.preflag', 'tunic.historicalsociety.basement.gramps.seeyalater', 'tunic.flaghouse.entry.flag_girl.hello_recap', 'tunic.historicalsociety.closet.doorblock', 'tunic.drycleaner.frontdesk.worker.takealook', 'tunic.historicalsociety.basement.gramps.whatdo', 'tunic.library.frontdesk.worker.droppedbadge', 'tunic.historicalsociety.entry.block_tomap2', 'tunic.library.frontdesk.block_nelson', 'tunic.library.microfiche.block_0', 'tunic.historicalsociety.entry.block_tocollection', 'tunic.historicalsociety.entry.block_tomap1', 'tunic.historicalsociety.collection.gramps.look_0', 'tunic.library.frontdesk.block_badge', 'tunic.historicalsociety.cage.need_glasses', 'tunic.library.frontdesk.block_badge_2', 'tunic.kohlcenter.halloffame.block_0', 'tunic.capitol_0.hall.chap1_finale_c', 'tunic.capitol_1.hall.chap2_finale_c', 'tunic.capitol_2.hall.chap4_finale_c', 'tunic.wildlife.center.fox.concern', 'tunic.drycleaner.frontdesk.block_0', 'tunic.historicalsociety.entry.gramps.hub', 'tunic.humanecology.frontdesk.block_1', 'tunic.drycleaner.frontdesk.block_1']\n",
    "room_lists = ['tunic.historicalsociety.entry', 'tunic.wildlife.center', 'tunic.historicalsociety.cage', 'tunic.library.frontdesk', 'tunic.historicalsociety.frontdesk', 'tunic.historicalsociety.stacks', 'tunic.historicalsociety.closet_dirty', 'tunic.humanecology.frontdesk', 'tunic.historicalsociety.basement', 'tunic.kohlcenter.halloffame', 'tunic.library.microfiche', 'tunic.drycleaner.frontdesk', 'tunic.historicalsociety.collection', 'tunic.historicalsociety.closet', 'tunic.flaghouse.entry', 'tunic.historicalsociety.collection_flag', 'tunic.capitol_1.hall', 'tunic.capitol_0.hall', 'tunic.capitol_2.hall']\n",
    "LEVELS = [1, 2, 3, 4, 5, 6, 7, 8, 9, 10, 11, 12, 13, 14, 15, 16, 17, 18, 19, 20, 21, 22]\n",
    "level_groups = [\"0-4\", \"5-12\", \"13-22\"]"
   ]
  },
  {
   "attachments": {},
   "cell_type": "markdown",
   "id": "568f2268",
   "metadata": {
    "papermill": {
     "duration": 0.007466,
     "end_time": "2023-05-26T19:30:18.097107",
     "exception": false,
     "start_time": "2023-05-26T19:30:18.089641",
     "status": "completed"
    },
    "tags": []
   },
   "source": [
    "Here are some useful features:\n",
    "* event numbers for each sessions\n",
    "* average, minimum and maximum time consumed for each 'event_name' and 'name'\n",
    "* features about 'bingo'(when users successfully click the correct place and finish the phased games), which can be translated as comprehension and deductive ability."
   ]
  },
  {
   "cell_type": "code",
   "execution_count": 8,
   "id": "a02e1e02",
   "metadata": {
    "execution": {
     "iopub.execute_input": "2023-05-26T19:30:18.115120Z",
     "iopub.status.busy": "2023-05-26T19:30:18.114392Z",
     "iopub.status.idle": "2023-05-26T19:30:18.178347Z",
     "shell.execute_reply": "2023-05-26T19:30:18.177292Z"
    },
    "papermill": {
     "duration": 0.076612,
     "end_time": "2023-05-26T19:30:18.181347",
     "exception": false,
     "start_time": "2023-05-26T19:30:18.104735",
     "status": "completed"
    },
    "tags": []
   },
   "outputs": [],
   "source": [
    "def feature_engineer(x, grp, use_extra, feature_suffix):\n",
    "        \n",
    "    aggs = [\n",
    "        pl.col(\"index\").count().alias(f\"session_number_{feature_suffix}\"),\n",
    "        *[pl.col(c).drop_nulls().n_unique().alias(f\"{c}_unique_{feature_suffix}\") for c in CATS],\n",
    "        \n",
    "        *[pl.col(c).mean().alias(f\"{c}_mean_{feature_suffix}\") for c in NUMS],\n",
    "        *[pl.col(c).median().alias(f\"{c}_median_{feature_suffix}\") for c in NUMS],\n",
    "        *[pl.col(c).std().alias(f\"{c}_std_{feature_suffix}\") for c in NUMS],\n",
    "        *[pl.col(c).quantile(.25).alias(f\"{c}_q25_{feature_suffix}\") for c in NUMS],\n",
    "        *[pl.col(c).quantile(.75).alias(f\"{c}_q75_{feature_suffix}\") for c in NUMS],\n",
    "\n",
    "        *[pl.col('index').filter(pl.col('text').str.contains(c)).count().alias(f'word_{c}') for c in DIALOGS],\n",
    "        *[pl.col(\"elapsed_time_diff\").filter((pl.col('text').str.contains(c))).mean().alias(f'word_mean_{c}') for c in DIALOGS],\n",
    "        *[pl.col(\"elapsed_time_diff\").filter((pl.col('text').str.contains(c))).std().alias(f'word_std_{c}') for c in DIALOGS],\n",
    "        *[pl.col(\"elapsed_time_diff\").filter((pl.col('text').str.contains(c))).sum().alias(f'word_sum_{c}') for c in DIALOGS],\n",
    "        *[pl.col(\"elapsed_time_diff\").filter((pl.col('text').str.contains(c))).median().alias(f'word_median_{c}') for c in DIALOGS],\n",
    "        *[pl.col(\"elapsed_time_diff\").filter((pl.col('text').str.contains(c))).quantile(.25).alias(f'word_q25_{c}') for c in DIALOGS],\n",
    "        *[pl.col(\"elapsed_time_diff\").filter((pl.col('text').str.contains(c))).quantile(.75).alias(f'word_q75_{c}') for c in DIALOGS],\n",
    "        *[pl.col(\"elapsed_time_diff_next\").filter((pl.col('text').str.contains(c))).mean().alias(f'word_mean_next_{c}') for c in DIALOGS],\n",
    "        *[pl.col(\"elapsed_time_diff_next\").filter((pl.col('text').str.contains(c))).std().alias(f'word_std_next_{c}') for c in DIALOGS],\n",
    "        *[pl.col(\"elapsed_time_diff_next\").filter((pl.col('text').str.contains(c))).sum().alias(f'word_sum_next_{c}') for c in DIALOGS],\n",
    "        *[pl.col(\"elapsed_time_diff_next\").filter((pl.col('text').str.contains(c))).median().alias(f'word_median_next_{c}') for c in DIALOGS],\n",
    "        *[pl.col(\"elapsed_time_diff_next\").filter((pl.col('text').str.contains(c))).quantile(.25).alias(f'word_q25_next_{c}') for c in DIALOGS],\n",
    "        *[pl.col(\"elapsed_time_diff_next\").filter((pl.col('text').str.contains(c))).quantile(.75).alias(f'word_q75_next_{c}') for c in DIALOGS],\n",
    "\n",
    "        *[pl.col(\"event_name\").filter((pl.col(\"event_name\") == c[0]) & (pl.col(\"name\") == c[1])).count().alias(f\"{c[0]+'_'+c[1]}_event_name_counts{feature_suffix}\") for c in combined_name_feature],\n",
    "        *[pl.col(\"elapsed_time_diff\").filter((pl.col(\"event_name\") == c[0]) & (pl.col(\"name\") == c[1])).mean().alias(f\"{c[0]+'_'+c[1]}_ET_mean_{feature_suffix}\") for c in combined_name_feature],\n",
    "        *[pl.col(\"elapsed_time_diff\").filter((pl.col(\"event_name\") == c[0]) & (pl.col(\"name\") == c[1])).std().alias(f\"{c[0]+'_'+c[1]}_ET_std_{feature_suffix}\") for c in combined_name_feature],\n",
    "        *[pl.col(\"elapsed_time_diff\").filter((pl.col(\"event_name\") == c[0]) & (pl.col(\"name\") == c[1])).median().alias(f\"{c[0]+'_'+c[1]}_ET_median_{feature_suffix}\") for c in combined_name_feature],\n",
    "        *[pl.col(\"elapsed_time_diff\").filter((pl.col(\"event_name\") == c[0]) & (pl.col(\"name\") == c[1])).quantile(.25).alias(f\"{c[0]+'_'+c[1]}_ET_q25_{feature_suffix}\") for c in combined_name_feature],\n",
    "        *[pl.col(\"elapsed_time_diff\").filter((pl.col(\"event_name\") == c[0]) & (pl.col(\"name\") == c[1])).quantile(.75).alias(f\"{c[0]+'_'+c[1]}_ET_q75_{feature_suffix}\") for c in combined_name_feature],\n",
    "        *[pl.col(\"elapsed_time_diff\").filter((pl.col(\"event_name\") == c[0]) & (pl.col(\"name\") == c[1])).sum().alias(f\"{c[0]+'_'+c[1]}_ET_sum_{feature_suffix}\") for c in combined_name_feature],\n",
    "        *[pl.col(\"elapsed_time_diff_next\").filter((pl.col(\"event_name\") == c[0]) & (pl.col(\"name\") == c[1])).mean().alias(f\"{c[0]+'_'+c[1]}_ET_mean_next_{feature_suffix}\") for c in combined_name_feature],\n",
    "        *[pl.col(\"elapsed_time_diff_next\").filter((pl.col(\"event_name\") == c[0]) & (pl.col(\"name\") == c[1])).std().alias(f\"{c[0]+'_'+c[1]}_ET_std_next_{feature_suffix}\") for c in combined_name_feature],\n",
    "        *[pl.col(\"elapsed_time_diff_next\").filter((pl.col(\"event_name\") == c[0]) & (pl.col(\"name\") == c[1])).median().alias(f\"{c[0]+'_'+c[1]}_ET_median_next_{feature_suffix}\") for c in combined_name_feature],\n",
    "        *[pl.col(\"elapsed_time_diff_next\").filter((pl.col(\"event_name\") == c[0]) & (pl.col(\"name\") == c[1])).quantile(.25).alias(f\"{c[0]+'_'+c[1]}_ET_q25_next_{feature_suffix}\") for c in combined_name_feature],\n",
    "        *[pl.col(\"elapsed_time_diff_next\").filter((pl.col(\"event_name\") == c[0]) & (pl.col(\"name\") == c[1])).quantile(.75).alias(f\"{c[0]+'_'+c[1]}_ET_q75_next_{feature_suffix}\") for c in combined_name_feature],\n",
    "        *[pl.col(\"elapsed_time_diff_next\").filter((pl.col(\"event_name\") == c[0]) & (pl.col(\"name\") == c[1])).sum().alias(f\"{c[0]+'_'+c[1]}_ET_sum_next_{feature_suffix}\") for c in combined_name_feature],\n",
    "\n",
    "        *[pl.col(\"level\").filter(pl.col(\"level\") == c).count().alias(f\"{c}_LEVEL_count{feature_suffix}\") for c in LEVELS],\n",
    "        *[pl.col(\"elapsed_time_diff\").filter(pl.col(\"level\") == c).std().alias(f\"{c}_ET_std_{feature_suffix}\") for c in LEVELS],\n",
    "        *[pl.col(\"elapsed_time_diff\").filter(pl.col(\"level\") == c).mean().alias(f\"{c}_ET_mean_{feature_suffix}\") for c in LEVELS],\n",
    "        *[pl.col(\"elapsed_time_diff\").filter(pl.col(\"level\") == c).sum().alias(f\"{c}_ET_sum_{feature_suffix}\") for c in LEVELS],\n",
    "        *[pl.col(\"elapsed_time_diff\").filter(pl.col(\"level\") == c).median().alias(f\"{c}_ET_median_{feature_suffix}\") for c in LEVELS],\n",
    "        *[pl.col(\"elapsed_time_diff\").filter(pl.col(\"level\") == c).quantile(.25).alias(f\"{c}_ET_q25_{feature_suffix}\") for c in LEVELS],\n",
    "        *[pl.col(\"elapsed_time_diff\").filter(pl.col(\"level\") == c).quantile(.75).alias(f\"{c}_ET_q75_{feature_suffix}\") for c in LEVELS],\n",
    "        *[pl.col(\"elapsed_time_diff_next\").filter(pl.col(\"level\") == c).std().alias(f\"{c}_ET_std_next_{feature_suffix}\") for c in LEVELS],\n",
    "        *[pl.col(\"elapsed_time_diff_next\").filter(pl.col(\"level\") == c).mean().alias(f\"{c}_ET_mean_next_{feature_suffix}\") for c in LEVELS],\n",
    "        *[pl.col(\"elapsed_time_diff_next\").filter(pl.col(\"level\") == c).sum().alias(f\"{c}_ET_sum_next_{feature_suffix}\") for c in LEVELS],\n",
    "        *[pl.col(\"elapsed_time_diff_next\").filter(pl.col(\"level\") == c).median().alias(f\"{c}_ET_median_next_{feature_suffix}\") for c in LEVELS],\n",
    "        *[pl.col(\"elapsed_time_diff_next\").filter(pl.col(\"level\") == c).quantile(.25).alias(f\"{c}_ET_q25_next_{feature_suffix}\") for c in LEVELS],\n",
    "        *[pl.col(\"elapsed_time_diff_next\").filter(pl.col(\"level\") == c).quantile(.75).alias(f\"{c}_ET_q75_next_{feature_suffix}\") for c in LEVELS],\n",
    "\n",
    "        *[pl.col(\"text_fqid\").filter(pl.col(\"text_fqid\") == c).count().alias(f\"{c}_text_fqid_counts{feature_suffix}\") for c in text_lists],\n",
    "        *[pl.col(\"elapsed_time_diff\").filter(pl.col(\"text_fqid\") == c).std().alias(f\"{c}_ET_std_{feature_suffix}\") for c in text_lists],\n",
    "        *[pl.col(\"elapsed_time_diff\").filter(pl.col(\"text_fqid\") == c).mean().alias(f\"{c}_ET_mean_{feature_suffix}\") for c in text_lists],\n",
    "        *[pl.col(\"elapsed_time_diff\").filter(pl.col(\"text_fqid\") == c).sum().alias(f\"{c}_ET_sum_{feature_suffix}\") for c in text_lists],\n",
    "        *[pl.col(\"elapsed_time_diff\").filter(pl.col(\"text_fqid\") == c).median().alias(f\"{c}_ET_median_{feature_suffix}\") for c in text_lists],\n",
    "        *[pl.col(\"elapsed_time_diff\").filter(pl.col(\"text_fqid\") == c).quantile(.25).alias(f\"{c}_ET_q25_{feature_suffix}\") for c in text_lists],\n",
    "        *[pl.col(\"elapsed_time_diff\").filter(pl.col(\"text_fqid\") == c).quantile(.75).alias(f\"{c}_ET_q75_{feature_suffix}\") for c in text_lists],\n",
    "        *[pl.col(\"elapsed_time_diff_next\").filter(pl.col(\"text_fqid\") == c).std().alias(f\"{c}_ET_std_next_{feature_suffix}\") for c in text_lists],\n",
    "        *[pl.col(\"elapsed_time_diff_next\").filter(pl.col(\"text_fqid\") == c).mean().alias(f\"{c}_ET_mean_next_{feature_suffix}\") for c in text_lists],\n",
    "        *[pl.col(\"elapsed_time_diff_next\").filter(pl.col(\"text_fqid\") == c).sum().alias(f\"{c}_ET_sum_next_{feature_suffix}\") for c in text_lists],\n",
    "        *[pl.col(\"elapsed_time_diff_next\").filter(pl.col(\"text_fqid\") == c).median().alias(f\"{c}_ET_median_next_{feature_suffix}\") for c in text_lists],\n",
    "        *[pl.col(\"elapsed_time_diff_next\").filter(pl.col(\"text_fqid\") == c).quantile(.25).alias(f\"{c}_ET_q25_next_{feature_suffix}\") for c in text_lists],\n",
    "        *[pl.col(\"elapsed_time_diff_next\").filter(pl.col(\"text_fqid\") == c).quantile(.75).alias(f\"{c}_ET_q75_next_{feature_suffix}\") for c in text_lists],\n",
    "\n",
    "        *[pl.col(\"room_fqid\").filter(pl.col(\"room_fqid\") == c).count().alias(f\"{c}_room_fqid_counts{feature_suffix}\") for c in room_lists],\n",
    "        *[pl.col(\"elapsed_time_diff\").filter(pl.col(\"room_fqid\") == c).std().alias(f\"{c}_ET_std_{feature_suffix}\") for c in room_lists],\n",
    "        *[pl.col(\"elapsed_time_diff\").filter(pl.col(\"room_fqid\") == c).mean().alias(f\"{c}_ET_mean_{feature_suffix}\") for c in room_lists],\n",
    "        *[pl.col(\"elapsed_time_diff\").filter(pl.col(\"room_fqid\") == c).sum().alias(f\"{c}_ET_sum_{feature_suffix}\") for c in room_lists],\n",
    "        *[pl.col(\"elapsed_time_diff\").filter(pl.col(\"room_fqid\") == c).median().alias(f\"{c}_ET_median_{feature_suffix}\") for c in room_lists],\n",
    "        *[pl.col(\"elapsed_time_diff\").filter(pl.col(\"room_fqid\") == c).quantile(.25).alias(f\"{c}_ET_q25_{feature_suffix}\") for c in room_lists],\n",
    "        *[pl.col(\"elapsed_time_diff\").filter(pl.col(\"room_fqid\") == c).quantile(.75).alias(f\"{c}_ET_q75_{feature_suffix}\") for c in room_lists],\n",
    "        *[pl.col(\"elapsed_time_diff_next\").filter(pl.col(\"room_fqid\") == c).std().alias(f\"{c}_ET_std_next_{feature_suffix}\") for c in room_lists],\n",
    "        *[pl.col(\"elapsed_time_diff_next\").filter(pl.col(\"room_fqid\") == c).mean().alias(f\"{c}_ET_mean_next_{feature_suffix}\") for c in room_lists],\n",
    "        *[pl.col(\"elapsed_time_diff_next\").filter(pl.col(\"room_fqid\") == c).sum().alias(f\"{c}_ET_sum_next_{feature_suffix}\") for c in room_lists],\n",
    "        *[pl.col(\"elapsed_time_diff_next\").filter(pl.col(\"room_fqid\") == c).median().alias(f\"{c}_ET_median_next_{feature_suffix}\") for c in room_lists],\n",
    "        *[pl.col(\"elapsed_time_diff_next\").filter(pl.col(\"room_fqid\") == c).quantile(.25).alias(f\"{c}_ET_q25_next_{feature_suffix}\") for c in room_lists],\n",
    "        *[pl.col(\"elapsed_time_diff_next\").filter(pl.col(\"room_fqid\") == c).quantile(.75).alias(f\"{c}_ET_q75_next_{feature_suffix}\") for c in room_lists],\n",
    "\n",
    "        *[pl.col(\"fqid\").filter(pl.col(\"fqid\") == c).count().alias(f\"{c}_fqid_counts{feature_suffix}\") for c in fqid_lists],\n",
    "        *[pl.col(\"elapsed_time_diff\").filter(pl.col(\"fqid\") == c).std().alias(f\"{c}_ET_std_{feature_suffix}\") for c in fqid_lists],\n",
    "        *[pl.col(\"elapsed_time_diff\").filter(pl.col(\"fqid\") == c).mean().alias(f\"{c}_ET_mean_{feature_suffix}\") for c in fqid_lists],\n",
    "        *[pl.col(\"elapsed_time_diff\").filter(pl.col(\"fqid\") == c).sum().alias(f\"{c}_ET_sum_{feature_suffix}\") for c in fqid_lists],\n",
    "        *[pl.col(\"elapsed_time_diff\").filter(pl.col(\"fqid\") == c).median().alias(f\"{c}_ET_median_{feature_suffix}\") for c in fqid_lists],\n",
    "        *[pl.col(\"elapsed_time_diff\").filter(pl.col(\"fqid\") == c).quantile(.25).alias(f\"{c}_ET_q25_{feature_suffix}\") for c in fqid_lists],\n",
    "        *[pl.col(\"elapsed_time_diff\").filter(pl.col(\"fqid\") == c).quantile(.75).alias(f\"{c}_ET_q75_{feature_suffix}\") for c in fqid_lists],\n",
    "        *[pl.col(\"elapsed_time_diff_next\").filter(pl.col(\"fqid\") == c).std().alias(f\"{c}_ET_std_next_{feature_suffix}\") for c in fqid_lists],\n",
    "        *[pl.col(\"elapsed_time_diff_next\").filter(pl.col(\"fqid\") == c).mean().alias(f\"{c}_ET_mean_next_{feature_suffix}\") for c in fqid_lists],\n",
    "        *[pl.col(\"elapsed_time_diff_next\").filter(pl.col(\"fqid\") == c).sum().alias(f\"{c}_ET_sum_next_{feature_suffix}\") for c in fqid_lists],\n",
    "        *[pl.col(\"elapsed_time_diff_next\").filter(pl.col(\"fqid\") == c).median().alias(f\"{c}_ET_median_next_{feature_suffix}\") for c in fqid_lists],\n",
    "        *[pl.col(\"elapsed_time_diff_next\").filter(pl.col(\"fqid\") == c).quantile(.25).alias(f\"{c}_ET_q25_next_{feature_suffix}\") for c in fqid_lists],\n",
    "        *[pl.col(\"elapsed_time_diff_next\").filter(pl.col(\"fqid\") == c).quantile(.75).alias(f\"{c}_ET_q75_next_{feature_suffix}\") for c in fqid_lists],\n",
    "    ]\n",
    "    \n",
    "    df = x.groupby([\"session_id\"], maintain_order=True).agg(aggs).sort(\"session_id\")\n",
    "\n",
    "    if use_extra:\n",
    "        if grp=='5-12':\n",
    "            aggs = [\n",
    "                pl.col(\"elapsed_time\").filter((pl.col(\"text\")==\"Here's the log book.\")|(pl.col(\"fqid\")=='logbook.page.bingo')).apply(lambda s: s.quantile(.75)-s.quantile(.25)).alias(\"logbook_bingo_duration\"),\n",
    "                pl.col(\"index\").filter((pl.col(\"text\")==\"Here's the log book.\")|(pl.col(\"fqid\")=='logbook.page.bingo')).apply(lambda s: s.max()-s.min()).alias(\"logbook_bingo_indexCount\"),\n",
    "                pl.col(\"elapsed_time\").filter(((pl.col(\"event_name\")=='navigate_click')&(pl.col(\"fqid\")=='reader'))|(pl.col(\"fqid\")==\"reader.paper2.bingo\")).apply(lambda s: s.quantile(.75)-s.quantile(.25)).alias(\"reader_bingo_duration\"),\n",
    "                pl.col(\"index\").filter(((pl.col(\"event_name\")=='navigate_click')&(pl.col(\"fqid\")=='reader'))|(pl.col(\"fqid\")==\"reader.paper2.bingo\")).apply(lambda s: s.max()-s.min()).alias(\"reader_bingo_indexCount\"),\n",
    "                pl.col(\"elapsed_time\").filter(((pl.col(\"event_name\")=='navigate_click')&(pl.col(\"fqid\")=='journals'))|(pl.col(\"fqid\")==\"journals.pic_2.bingo\")).apply(lambda s: s.quantile(.75)-s.quantile(.25)).alias(\"journals_bingo_duration\"),\n",
    "                pl.col(\"index\").filter(((pl.col(\"event_name\")=='navigate_click')&(pl.col(\"fqid\")=='journals'))|(pl.col(\"fqid\")==\"journals.pic_2.bingo\")).apply(lambda s: s.max()-s.min()).alias(\"journals_bingo_indexCount\"),\n",
    "            ]\n",
    "            tmp = x.groupby([\"session_id\"], maintain_order=True).agg(aggs).sort(\"session_id\")\n",
    "            df = df.join(tmp, on=\"session_id\", how='left')\n",
    "\n",
    "        if grp=='13-22':\n",
    "            aggs = [\n",
    "                pl.col(\"elapsed_time\").filter(((pl.col(\"event_name\")=='navigate_click')&(pl.col(\"fqid\")=='reader_flag'))|(pl.col(\"fqid\")==\"tunic.library.microfiche.reader_flag.paper2.bingo\")).apply(lambda s: s.quantile(.75)-s.quantile(.25) if s.len()>0 else 0).alias(\"reader_flag_duration\"),\n",
    "                pl.col(\"index\").filter(((pl.col(\"event_name\")=='navigate_click')&(pl.col(\"fqid\")=='reader_flag'))|(pl.col(\"fqid\")==\"tunic.library.microfiche.reader_flag.paper2.bingo\")).apply(lambda s: s.max()-s.min() if s.len()>0 else 0).alias(\"reader_flag_indexCount\"),\n",
    "                pl.col(\"elapsed_time\").filter(((pl.col(\"event_name\")=='navigate_click')&(pl.col(\"fqid\")=='journals_flag'))|(pl.col(\"fqid\")==\"journals_flag.pic_0.bingo\")).apply(lambda s: s.quantile(.75)-s.quantile(.25) if s.len()>0 else 0).alias(\"journalsFlag_bingo_duration\"),\n",
    "                pl.col(\"index\").filter(((pl.col(\"event_name\")=='navigate_click')&(pl.col(\"fqid\")=='journals_flag'))|(pl.col(\"fqid\")==\"journals_flag.pic_0.bingo\")).apply(lambda s: s.max()-s.min() if s.len()>0 else 0).alias(\"journalsFlag_bingo_indexCount\")\n",
    "            ]\n",
    "            tmp = x.groupby([\"session_id\"], maintain_order=True).agg(aggs).sort(\"session_id\")\n",
    "            df = df.join(tmp, on=\"session_id\", how='left')\n",
    "        \n",
    "    return df.to_pandas()"
   ]
  },
  {
   "cell_type": "code",
   "execution_count": 9,
   "id": "89701c11",
   "metadata": {
    "execution": {
     "iopub.execute_input": "2023-05-26T19:30:18.198293Z",
     "iopub.status.busy": "2023-05-26T19:30:18.197868Z",
     "iopub.status.idle": "2023-05-26T19:33:49.406276Z",
     "shell.execute_reply": "2023-05-26T19:33:49.404187Z"
    },
    "papermill": {
     "duration": 211.227523,
     "end_time": "2023-05-26T19:33:49.416506",
     "exception": false,
     "start_time": "2023-05-26T19:30:18.188983",
     "status": "completed"
    },
    "tags": []
   },
   "outputs": [
    {
     "name": "stdout",
     "output_type": "stream",
     "text": [
      "df1 done with shape: (23562, 4540)\n",
      "df2 done with shape: (23562, 4546)\n",
      "df3 done with shape: (23562, 4544)\n",
      "CPU times: user 11min 40s, sys: 11.5 s, total: 11min 52s\n",
      "Wall time: 2min 13s\n"
     ]
    }
   ],
   "source": [
    "%%time\n",
    "df1 = feature_engineer(df1, grp='0-4', use_extra=True, feature_suffix='')\n",
    "print(f'df1 done with shape: {df1.shape}')\n",
    "df2 = feature_engineer(df2, grp='5-12', use_extra=True, feature_suffix='')\n",
    "print(f'df2 done with shape: {df2.shape}')\n",
    "df3 = feature_engineer(df3, grp='13-22', use_extra=True, feature_suffix='')\n",
    "print(f'df3 done with shape: {df3.shape}')"
   ]
  },
  {
   "cell_type": "code",
   "execution_count": 10,
   "id": "d1438d14",
   "metadata": {},
   "outputs": [],
   "source": [
    "#-----------------------Break Session ID into different terms e.g. year, month, day, hour\n",
    "def time_feature(train):\n",
    "    \n",
    "    train[\"year\"] = train[\"session_id\"].apply(lambda x: int(str(x)[:2])).astype(np.uint8)\n",
    "    train[\"month\"] = train[\"session_id\"].apply(lambda x: int(str(x)[2:4])+1).astype(np.uint8)\n",
    "    train[\"day\"] = train[\"session_id\"].apply(lambda x: int(str(x)[4:6])).astype(np.uint8)\n",
    "    train[\"hour\"] = train[\"session_id\"].apply(lambda x: int(str(x)[6:8])).astype(np.uint8)\n",
    "    train[\"minute\"] = train[\"session_id\"].apply(lambda x: int(str(x)[8:10])).astype(np.uint8)\n",
    "    train[\"second\"] = train[\"session_id\"].apply(lambda x: int(str(x)[10:12])).astype(np.uint8)\n",
    "\n",
    "    return train\n",
    "\n",
    "\n",
    "df1 = time_feature(df1)\n",
    "df2 = time_feature(df2)\n",
    "df3 = time_feature(df3)"
   ]
  },
  {
   "attachments": {},
   "cell_type": "markdown",
   "id": "d52eb4f4",
   "metadata": {
    "papermill": {
     "duration": 0.007896,
     "end_time": "2023-05-26T19:33:49.432267",
     "exception": false,
     "start_time": "2023-05-26T19:33:49.424371",
     "status": "completed"
    },
    "tags": []
   },
   "source": [
    "Remove some redundant features"
   ]
  },
  {
   "cell_type": "code",
   "execution_count": 11,
   "id": "cb0673f0",
   "metadata": {
    "execution": {
     "iopub.execute_input": "2023-05-26T19:33:49.450359Z",
     "iopub.status.busy": "2023-05-26T19:33:49.449962Z",
     "iopub.status.idle": "2023-05-26T19:33:52.397688Z",
     "shell.execute_reply": "2023-05-26T19:33:52.396252Z"
    },
    "papermill": {
     "duration": 2.961665,
     "end_time": "2023-05-26T19:33:52.402075",
     "exception": false,
     "start_time": "2023-05-26T19:33:49.440410",
     "status": "completed"
    },
    "tags": []
   },
   "outputs": [
    {
     "name": "stdout",
     "output_type": "stream",
     "text": [
      "2962 2261 1997\n",
      "word_myself\n",
      "word_national movement\n",
      "word_Earth Day\n",
      "word_cleaning\n",
      "word_cleaner\n",
      "word_Theodora Youmans\n",
      "word_suffragist\n",
      "word_found\n",
      "word_wells\n",
      "word_Oh\n",
      "word_flag\n",
      "5_LEVEL_count\n",
      "6_LEVEL_count\n",
      "7_LEVEL_count\n",
      "8_LEVEL_count\n",
      "9_LEVEL_count\n",
      "10_LEVEL_count\n",
      "11_LEVEL_count\n",
      "12_LEVEL_count\n",
      "13_LEVEL_count\n",
      "14_LEVEL_count\n",
      "15_LEVEL_count\n",
      "16_LEVEL_count\n",
      "17_LEVEL_count\n",
      "18_LEVEL_count\n",
      "19_LEVEL_count\n",
      "20_LEVEL_count\n",
      "21_LEVEL_count\n",
      "22_LEVEL_count\n",
      "tunic.historicalsociety.cage.confrontation_text_fqid_counts\n",
      "tunic.wildlife.center.crane_ranger.crane_text_fqid_counts\n",
      "tunic.historicalsociety.frontdesk.archivist.newspaper_text_fqid_counts\n",
      "tunic.wildlife.center.wells.nodeer_text_fqid_counts\n",
      "tunic.historicalsociety.frontdesk.archivist.have_glass_text_fqid_counts\n",
      "tunic.drycleaner.frontdesk.worker.hub_text_fqid_counts\n",
      "tunic.historicalsociety.closet_dirty.gramps.news_text_fqid_counts\n",
      "tunic.humanecology.frontdesk.worker.intro_text_fqid_counts\n",
      "tunic.historicalsociety.frontdesk.archivist_glasses.confrontation_text_fqid_counts\n",
      "tunic.historicalsociety.basement.seescratches_text_fqid_counts\n",
      "tunic.flaghouse.entry.flag_girl.hello_text_fqid_counts\n",
      "tunic.historicalsociety.basement.ch3start_text_fqid_counts\n",
      "tunic.historicalsociety.entry.groupconvo_flag_text_fqid_counts\n",
      "tunic.library.frontdesk.worker.hello_text_fqid_counts\n",
      "tunic.library.frontdesk.worker.wells_text_fqid_counts\n",
      "tunic.historicalsociety.collection_flag.gramps.flag_text_fqid_counts\n",
      "tunic.historicalsociety.basement.savedteddy_text_fqid_counts\n",
      "tunic.library.frontdesk.worker.nelson_text_fqid_counts\n",
      "tunic.wildlife.center.expert.removed_cup_text_fqid_counts\n",
      "tunic.library.frontdesk.worker.flag_text_fqid_counts\n",
      "tunic.historicalsociety.frontdesk.archivist.hello_text_fqid_counts\n",
      "tunic.historicalsociety.entry.boss.flag_text_fqid_counts\n",
      "tunic.flaghouse.entry.flag_girl.symbol_text_fqid_counts\n",
      "tunic.historicalsociety.closet_dirty.trigger_scarf_text_fqid_counts\n",
      "tunic.drycleaner.frontdesk.worker.done_text_fqid_counts\n",
      "tunic.historicalsociety.closet_dirty.what_happened_text_fqid_counts\n",
      "tunic.wildlife.center.wells.animals_text_fqid_counts\n",
      "tunic.historicalsociety.cage.glasses.afterteddy_text_fqid_counts\n",
      "tunic.historicalsociety.cage.teddy.trapped_text_fqid_counts\n",
      "tunic.historicalsociety.cage.unlockdoor_text_fqid_counts\n",
      "tunic.historicalsociety.stacks.journals.pic_2.bingo_text_fqid_counts\n",
      "tunic.historicalsociety.entry.wells.flag_text_fqid_counts\n",
      "tunic.humanecology.frontdesk.worker.badger_text_fqid_counts\n",
      "tunic.historicalsociety.stacks.journals_flag.pic_0.bingo_text_fqid_counts\n",
      "tunic.historicalsociety.entry.directory.closeup.archivist_text_fqid_counts\n",
      "tunic.historicalsociety.closet_dirty.trigger_coffee_text_fqid_counts\n",
      "tunic.drycleaner.frontdesk.logbook.page.bingo_text_fqid_counts\n",
      "tunic.library.microfiche.reader.paper2.bingo_text_fqid_counts\n",
      "tunic.capitol_2.hall.boss.haveyougotit_text_fqid_counts\n",
      "tunic.wildlife.center.wells.nodeer_recap_text_fqid_counts\n",
      "tunic.historicalsociety.cage.glasses.beforeteddy_text_fqid_counts\n",
      "tunic.historicalsociety.closet_dirty.gramps.helpclean_text_fqid_counts\n",
      "tunic.wildlife.center.expert.recap_text_fqid_counts\n",
      "tunic.historicalsociety.frontdesk.archivist.have_glass_recap_text_fqid_counts\n",
      "tunic.historicalsociety.stacks.journals_flag.pic_1.bingo_text_fqid_counts\n",
      "tunic.historicalsociety.cage.lockeddoor_text_fqid_counts\n",
      "tunic.historicalsociety.stacks.journals_flag.pic_2.bingo_text_fqid_counts\n",
      "tunic.historicalsociety.frontdesk.magnify_text_fqid_counts\n",
      "tunic.humanecology.frontdesk.businesscards.card_bingo.bingo_text_fqid_counts\n",
      "tunic.wildlife.center.remove_cup_text_fqid_counts\n",
      "tunic.library.frontdesk.wellsbadge.hub_text_fqid_counts\n",
      "tunic.wildlife.center.tracks.hub.deer_text_fqid_counts\n",
      "tunic.historicalsociety.frontdesk.key_text_fqid_counts\n",
      "tunic.library.microfiche.reader_flag.paper2.bingo_text_fqid_counts\n",
      "tunic.flaghouse.entry.colorbook_text_fqid_counts\n",
      "tunic.wildlife.center.coffee_text_fqid_counts\n",
      "tunic.capitol_1.hall.boss.haveyougotit_text_fqid_counts\n",
      "tunic.historicalsociety.collection_flag.gramps.recap_text_fqid_counts\n",
      "tunic.wildlife.center.wells.animals2_text_fqid_counts\n",
      "tunic.flaghouse.entry.flag_girl.symbol_recap_text_fqid_counts\n",
      "tunic.historicalsociety.closet_dirty.photo_text_fqid_counts\n",
      "tunic.library.frontdesk.worker.wells_recap_text_fqid_counts\n",
      "tunic.historicalsociety.frontdesk.archivist_glasses.confrontation_recap_text_fqid_counts\n",
      "tunic.capitol_0.hall.boss.talktogramps_text_fqid_counts\n",
      "tunic.historicalsociety.closet_dirty.gramps.archivist_text_fqid_counts\n",
      "tunic.historicalsociety.closet_dirty.door_block_talk_text_fqid_counts\n",
      "tunic.historicalsociety.entry.boss.flag_recap_text_fqid_counts\n",
      "tunic.historicalsociety.frontdesk.archivist.need_glass_0_text_fqid_counts\n",
      "tunic.historicalsociety.frontdesk.block_magnify_text_fqid_counts\n",
      "tunic.historicalsociety.frontdesk.archivist.foundtheodora_text_fqid_counts\n",
      "tunic.historicalsociety.closet_dirty.gramps.nothing_text_fqid_counts\n",
      "tunic.historicalsociety.closet_dirty.door_block_clean_text_fqid_counts\n",
      "tunic.capitol_1.hall.boss.writeitup_text_fqid_counts\n",
      "tunic.library.frontdesk.worker.nelson_recap_text_fqid_counts\n",
      "tunic.library.frontdesk.worker.hello_short_text_fqid_counts\n",
      "tunic.historicalsociety.stacks.block_text_fqid_counts\n",
      "tunic.historicalsociety.frontdesk.archivist.need_glass_1_text_fqid_counts\n",
      "tunic.historicalsociety.frontdesk.archivist.newspaper_recap_text_fqid_counts\n",
      "tunic.historicalsociety.entry.wells.flag_recap_text_fqid_counts\n",
      "tunic.drycleaner.frontdesk.worker.done2_text_fqid_counts\n",
      "tunic.library.frontdesk.worker.flag_recap_text_fqid_counts\n",
      "tunic.humanecology.frontdesk.block_0_text_fqid_counts\n",
      "tunic.library.frontdesk.worker.preflag_text_fqid_counts\n",
      "tunic.historicalsociety.basement.gramps.seeyalater_text_fqid_counts\n",
      "tunic.flaghouse.entry.flag_girl.hello_recap_text_fqid_counts\n",
      "tunic.drycleaner.frontdesk.worker.takealook_text_fqid_counts\n",
      "tunic.historicalsociety.basement.gramps.whatdo_text_fqid_counts\n",
      "tunic.library.frontdesk.worker.droppedbadge_text_fqid_counts\n",
      "tunic.library.frontdesk.block_nelson_text_fqid_counts\n",
      "tunic.library.microfiche.block_0_text_fqid_counts\n",
      "tunic.library.frontdesk.block_badge_text_fqid_counts\n",
      "tunic.historicalsociety.cage.need_glasses_text_fqid_counts\n",
      "tunic.library.frontdesk.block_badge_2_text_fqid_counts\n",
      "tunic.capitol_1.hall.chap2_finale_c_text_fqid_counts\n",
      "tunic.capitol_2.hall.chap4_finale_c_text_fqid_counts\n",
      "tunic.wildlife.center.fox.concern_text_fqid_counts\n",
      "tunic.drycleaner.frontdesk.block_0_text_fqid_counts\n",
      "tunic.humanecology.frontdesk.block_1_text_fqid_counts\n",
      "tunic.drycleaner.frontdesk.block_1_text_fqid_counts\n",
      "tunic.wildlife.center_room_fqid_counts\n",
      "tunic.historicalsociety.cage_room_fqid_counts\n",
      "tunic.library.frontdesk_room_fqid_counts\n",
      "tunic.historicalsociety.frontdesk_room_fqid_counts\n",
      "tunic.historicalsociety.closet_dirty_room_fqid_counts\n",
      "tunic.humanecology.frontdesk_room_fqid_counts\n",
      "tunic.library.microfiche_room_fqid_counts\n",
      "tunic.drycleaner.frontdesk_room_fqid_counts\n",
      "tunic.flaghouse.entry_room_fqid_counts\n",
      "tunic.historicalsociety.collection_flag_room_fqid_counts\n",
      "tunic.capitol_1.hall_room_fqid_counts\n",
      "tunic.capitol_2.hall_room_fqid_counts\n",
      "worker_fqid_counts\n",
      "archivist_fqid_counts\n",
      "confrontation_fqid_counts\n",
      "crane_ranger_fqid_counts\n",
      "flag_girl_fqid_counts\n",
      "archivist_glasses_fqid_counts\n",
      "journals_fqid_counts\n",
      "seescratches_fqid_counts\n",
      "groupconvo_flag_fqid_counts\n",
      "expert_fqid_counts\n",
      "businesscards_fqid_counts\n",
      "ch3start_fqid_counts\n",
      "tofrontdesk_fqid_counts\n",
      "savedteddy_fqid_counts\n",
      "glasses_fqid_counts\n",
      "tunic.drycleaner_fqid_counts\n",
      "reader_flag_fqid_counts\n",
      "tunic.library_fqid_counts\n",
      "tracks_fqid_counts\n",
      "tunic.capitol_2_fqid_counts\n",
      "trigger_scarf_fqid_counts\n",
      "reader_fqid_counts\n",
      "tunic.capitol_1_fqid_counts\n",
      "journals.pic_0.next_fqid_counts\n",
      "unlockdoor_fqid_counts\n",
      "what_happened_fqid_counts\n",
      "tunic.humanecology_fqid_counts\n",
      "colorbook_fqid_counts\n",
      "logbook_fqid_counts\n",
      "businesscards.card_0.next_fqid_counts\n",
      "journals.hub.topics_fqid_counts\n",
      "logbook.page.bingo_fqid_counts\n",
      "journals.pic_1.next_fqid_counts\n",
      "journals_flag_fqid_counts\n",
      "reader.paper0.next_fqid_counts\n",
      "tracks.hub.deer_fqid_counts\n",
      "reader_flag.paper0.next_fqid_counts\n",
      "trigger_coffee_fqid_counts\n",
      "wellsbadge_fqid_counts\n",
      "journals.pic_2.next_fqid_counts\n",
      "tomicrofiche_fqid_counts\n",
      "journals_flag.pic_0.bingo_fqid_counts\n",
      "tocloset_dirty_fqid_counts\n",
      "businesscards.card_bingo.bingo_fqid_counts\n",
      "businesscards.card_1.next_fqid_counts\n",
      "tunic.wildlife_fqid_counts\n",
      "tocage_fqid_counts\n",
      "journals.pic_2.bingo_fqid_counts\n",
      "tocollectionflag_fqid_counts\n",
      "chap4_finale_c_fqid_counts\n",
      "chap2_finale_c_fqid_counts\n",
      "lockeddoor_fqid_counts\n",
      "journals_flag.hub.topics_fqid_counts\n",
      "reader_flag.paper2.bingo_fqid_counts\n",
      "tunic.flaghouse_fqid_counts\n",
      "reader.paper1.next_fqid_counts\n",
      "directory.closeup.archivist_fqid_counts\n",
      "businesscards.card_bingo.next_fqid_counts\n",
      "reader.paper2.bingo_fqid_counts\n",
      "remove_cup_fqid_counts\n",
      "journals_flag.pic_0.next_fqid_counts\n",
      "magnify_fqid_counts\n",
      "coffee_fqid_counts\n",
      "key_fqid_counts\n",
      "reader_flag.paper1.next_fqid_counts\n",
      "tohallway_fqid_counts\n",
      "journals_flag.hub.topics_old_fqid_counts\n",
      "journals_flag.pic_1.next_fqid_counts\n",
      "reader.paper2.next_fqid_counts\n",
      "reader_flag.paper2.next_fqid_counts\n",
      "door_block_talk_fqid_counts\n",
      "journals_flag.pic_1.bingo_fqid_counts\n",
      "journals_flag.pic_2.next_fqid_counts\n",
      "journals_flag.pic_2.bingo_fqid_counts\n",
      "block_magnify_fqid_counts\n",
      "reader.paper0.prev_fqid_counts\n",
      "block_fqid_counts\n",
      "reader_flag.paper0.prev_fqid_counts\n",
      "door_block_clean_fqid_counts\n",
      "reader.paper2.prev_fqid_counts\n",
      "reader.paper1.prev_fqid_counts\n",
      "reader_flag.paper2.prev_fqid_counts\n",
      "reader_flag.paper1.prev_fqid_counts\n",
      "journals_flag.pic_0_old.next_fqid_counts\n",
      "journals_flag.pic_1_old.next_fqid_counts\n",
      "block_nelson_fqid_counts\n",
      "journals_flag.pic_2_old.next_fqid_counts\n",
      "block_badge_fqid_counts\n",
      "need_glasses_fqid_counts\n",
      "block_badge_2_fqid_counts\n",
      "fox_fqid_counts\n",
      "block_1_fqid_counts\n",
      "*********df1 DONE*********\n",
      "word_myself\n",
      "word_national movement\n",
      "word_Wisconsin Wonders\n",
      "word_Earth Day\n",
      "word_jersey\n",
      "word_Found\n",
      "word_notebook\n",
      "word_wells\n",
      "word_flag\n",
      "1_LEVEL_count\n",
      "2_LEVEL_count\n",
      "3_LEVEL_count\n",
      "4_LEVEL_count\n",
      "13_LEVEL_count\n",
      "14_LEVEL_count\n",
      "15_LEVEL_count\n",
      "16_LEVEL_count\n",
      "17_LEVEL_count\n",
      "18_LEVEL_count\n",
      "19_LEVEL_count\n",
      "20_LEVEL_count\n",
      "21_LEVEL_count\n",
      "22_LEVEL_count\n",
      "tunic.historicalsociety.cage.confrontation_text_fqid_counts\n",
      "tunic.wildlife.center.crane_ranger.crane_text_fqid_counts\n",
      "tunic.historicalsociety.entry.groupconvo_text_fqid_counts\n",
      "tunic.wildlife.center.wells.nodeer_text_fqid_counts\n",
      "tunic.historicalsociety.frontdesk.archivist_glasses.confrontation_text_fqid_counts\n",
      "tunic.historicalsociety.basement.seescratches_text_fqid_counts\n",
      "tunic.historicalsociety.collection.cs_text_fqid_counts\n",
      "tunic.flaghouse.entry.flag_girl.hello_text_fqid_counts\n",
      "tunic.historicalsociety.collection.gramps.found_text_fqid_counts\n",
      "tunic.historicalsociety.basement.ch3start_text_fqid_counts\n",
      "tunic.historicalsociety.entry.groupconvo_flag_text_fqid_counts\n",
      "tunic.historicalsociety.collection_flag.gramps.flag_text_fqid_counts\n",
      "tunic.historicalsociety.basement.savedteddy_text_fqid_counts\n",
      "tunic.library.frontdesk.worker.nelson_text_fqid_counts\n",
      "tunic.wildlife.center.expert.removed_cup_text_fqid_counts\n",
      "tunic.library.frontdesk.worker.flag_text_fqid_counts\n",
      "tunic.historicalsociety.closet.gramps.intro_0_cs_0_text_fqid_counts\n",
      "tunic.historicalsociety.entry.boss.flag_text_fqid_counts\n",
      "tunic.flaghouse.entry.flag_girl.symbol_text_fqid_counts\n",
      "tunic.wildlife.center.wells.animals_text_fqid_counts\n",
      "tunic.historicalsociety.closet.teddy.intro_0_cs_0_text_fqid_counts\n",
      "tunic.historicalsociety.cage.glasses.afterteddy_text_fqid_counts\n",
      "tunic.historicalsociety.cage.teddy.trapped_text_fqid_counts\n",
      "tunic.historicalsociety.cage.unlockdoor_text_fqid_counts\n",
      "tunic.historicalsociety.entry.wells.flag_text_fqid_counts\n",
      "tunic.historicalsociety.stacks.journals_flag.pic_0.bingo_text_fqid_counts\n",
      "tunic.historicalsociety.closet.intro_text_fqid_counts\n",
      "tunic.historicalsociety.closet.retirement_letter.hub_text_fqid_counts\n",
      "tunic.historicalsociety.entry.directory.closeup.archivist_text_fqid_counts\n",
      "tunic.historicalsociety.collection.tunic.slip_text_fqid_counts\n",
      "tunic.kohlcenter.halloffame.plaque.face.date_text_fqid_counts\n",
      "tunic.kohlcenter.halloffame.togrampa_text_fqid_counts\n",
      "tunic.capitol_2.hall.boss.haveyougotit_text_fqid_counts\n",
      "tunic.wildlife.center.wells.nodeer_recap_text_fqid_counts\n",
      "tunic.historicalsociety.cage.glasses.beforeteddy_text_fqid_counts\n",
      "tunic.wildlife.center.expert.recap_text_fqid_counts\n",
      "tunic.historicalsociety.stacks.journals_flag.pic_1.bingo_text_fqid_counts\n",
      "tunic.historicalsociety.cage.lockeddoor_text_fqid_counts\n",
      "tunic.historicalsociety.stacks.journals_flag.pic_2.bingo_text_fqid_counts\n",
      "tunic.historicalsociety.collection.gramps.lost_text_fqid_counts\n",
      "tunic.historicalsociety.closet.notebook_text_fqid_counts\n",
      "tunic.wildlife.center.remove_cup_text_fqid_counts\n",
      "tunic.wildlife.center.tracks.hub.deer_text_fqid_counts\n",
      "tunic.historicalsociety.frontdesk.key_text_fqid_counts\n",
      "tunic.library.microfiche.reader_flag.paper2.bingo_text_fqid_counts\n",
      "tunic.flaghouse.entry.colorbook_text_fqid_counts\n",
      "tunic.wildlife.center.coffee_text_fqid_counts\n",
      "tunic.historicalsociety.collection_flag.gramps.recap_text_fqid_counts\n",
      "tunic.wildlife.center.wells.animals2_text_fqid_counts\n",
      "tunic.flaghouse.entry.flag_girl.symbol_recap_text_fqid_counts\n",
      "tunic.historicalsociety.frontdesk.archivist_glasses.confrontation_recap_text_fqid_counts\n",
      "tunic.historicalsociety.closet.photo_text_fqid_counts\n",
      "tunic.historicalsociety.collection.tunic_text_fqid_counts\n",
      "tunic.historicalsociety.closet.teddy.intro_0_cs_5_text_fqid_counts\n",
      "tunic.historicalsociety.entry.boss.flag_recap_text_fqid_counts\n",
      "tunic.historicalsociety.entry.wells.talktogramps_text_fqid_counts\n",
      "tunic.capitol_1.hall.boss.writeitup_text_fqid_counts\n",
      "tunic.library.frontdesk.worker.nelson_recap_text_fqid_counts\n",
      "tunic.historicalsociety.entry.boss.talktogramps_text_fqid_counts\n",
      "tunic.historicalsociety.entry.wells.flag_recap_text_fqid_counts\n",
      "tunic.library.frontdesk.worker.flag_recap_text_fqid_counts\n",
      "tunic.historicalsociety.basement.gramps.seeyalater_text_fqid_counts\n",
      "tunic.flaghouse.entry.flag_girl.hello_recap_text_fqid_counts\n",
      "tunic.historicalsociety.closet.doorblock_text_fqid_counts\n",
      "tunic.historicalsociety.basement.gramps.whatdo_text_fqid_counts\n",
      "tunic.historicalsociety.entry.block_tomap2_text_fqid_counts\n",
      "tunic.library.frontdesk.block_nelson_text_fqid_counts\n",
      "tunic.historicalsociety.entry.block_tocollection_text_fqid_counts\n",
      "tunic.historicalsociety.entry.block_tomap1_text_fqid_counts\n",
      "tunic.historicalsociety.collection.gramps.look_0_text_fqid_counts\n",
      "tunic.historicalsociety.cage.need_glasses_text_fqid_counts\n",
      "tunic.kohlcenter.halloffame.block_0_text_fqid_counts\n",
      "tunic.capitol_0.hall.chap1_finale_c_text_fqid_counts\n",
      "tunic.capitol_2.hall.chap4_finale_c_text_fqid_counts\n",
      "tunic.wildlife.center.fox.concern_text_fqid_counts\n",
      "tunic.historicalsociety.entry.gramps.hub_text_fqid_counts\n",
      "tunic.humanecology.frontdesk.block_1_ET_std_\n",
      "tunic.capitol_1.hall.chap2_finale_c_ET_q25_\n",
      "tunic.humanecology.frontdesk.block_1_ET_std_next_\n",
      "tunic.wildlife.center_room_fqid_counts\n",
      "tunic.historicalsociety.cage_room_fqid_counts\n",
      "tunic.historicalsociety.closet_room_fqid_counts\n",
      "tunic.flaghouse.entry_room_fqid_counts\n",
      "tunic.historicalsociety.collection_flag_room_fqid_counts\n",
      "tunic.capitol_2.hall_room_fqid_counts\n",
      "wells_fqid_counts\n",
      "confrontation_fqid_counts\n",
      "crane_ranger_fqid_counts\n",
      "groupconvo_fqid_counts\n",
      "flag_girl_fqid_counts\n",
      "archivist_glasses_fqid_counts\n",
      "seescratches_fqid_counts\n",
      "groupconvo_flag_fqid_counts\n",
      "cs_fqid_counts\n",
      "teddy_fqid_counts\n",
      "expert_fqid_counts\n",
      "ch3start_fqid_counts\n",
      "savedteddy_fqid_counts\n",
      "glasses_fqid_counts\n",
      "reader_flag_fqid_counts\n",
      "tracks_fqid_counts\n",
      "tunic.capitol_2_fqid_counts\n",
      "unlockdoor_fqid_counts\n",
      "colorbook_fqid_counts\n",
      "journals_flag_fqid_counts\n",
      "tracks.hub.deer_fqid_counts\n",
      "reader_flag.paper0.next_fqid_counts\n",
      "journals_flag.pic_0.bingo_fqid_counts\n",
      "plaque.face.date_fqid_counts\n",
      "notebook_fqid_counts\n",
      "tunic.wildlife_fqid_counts\n",
      "tocage_fqid_counts\n",
      "tocollectionflag_fqid_counts\n",
      "chap4_finale_c_fqid_counts\n",
      "lockeddoor_fqid_counts\n",
      "journals_flag.hub.topics_fqid_counts\n",
      "reader_flag.paper2.bingo_fqid_counts\n",
      "tunic.flaghouse_fqid_counts\n",
      "directory.closeup.archivist_fqid_counts\n",
      "intro_fqid_counts\n",
      "retirement_letter_fqid_counts\n",
      "remove_cup_fqid_counts\n",
      "journals_flag.pic_0.next_fqid_counts\n",
      "coffee_fqid_counts\n",
      "key_fqid_counts\n",
      "togrampa_fqid_counts\n",
      "reader_flag.paper1.next_fqid_counts\n",
      "chap1_finale_fqid_counts\n",
      "report_fqid_counts\n",
      "journals_flag.hub.topics_old_fqid_counts\n",
      "journals_flag.pic_1.next_fqid_counts\n",
      "chap1_finale_c_fqid_counts\n",
      "reader_flag.paper2.next_fqid_counts\n",
      "journals_flag.pic_1.bingo_fqid_counts\n",
      "journals_flag.pic_2.next_fqid_counts\n",
      "journals_flag.pic_2.bingo_fqid_counts\n",
      "reader_flag.paper0.prev_fqid_counts\n",
      "doorblock_fqid_counts\n",
      "tocloset_fqid_counts\n",
      "reader_flag.paper2.prev_fqid_counts\n",
      "reader_flag.paper1.prev_fqid_counts\n",
      "block_tomap2_fqid_counts\n",
      "journals_flag.pic_0_old.next_fqid_counts\n",
      "journals_flag.pic_1_old.next_fqid_counts\n",
      "block_tocollection_fqid_counts\n",
      "block_nelson_fqid_counts\n",
      "journals_flag.pic_2_old.next_fqid_counts\n",
      "block_tomap1_fqid_counts\n",
      "need_glasses_fqid_counts\n",
      "fox_fqid_counts\n",
      "*********df2 DONE*********\n",
      "word_Wisconsin Wonders\n",
      "word_1916\n",
      "word_cleaning\n",
      "word_cleaner\n",
      "word_slip\n",
      "word_jersey\n",
      "word_Theodora Youmans\n",
      "word_suffragist\n",
      "word_Found\n",
      "word_notebook\n",
      "word_wells\n",
      "1_LEVEL_count\n",
      "2_LEVEL_count\n",
      "3_LEVEL_count\n",
      "4_LEVEL_count\n",
      "5_LEVEL_count\n",
      "6_LEVEL_count\n",
      "7_LEVEL_count\n",
      "8_LEVEL_count\n",
      "9_LEVEL_count\n",
      "10_LEVEL_count\n",
      "11_LEVEL_count\n",
      "12_LEVEL_count\n",
      "tunic.historicalsociety.frontdesk.archivist.newspaper_text_fqid_counts\n",
      "tunic.historicalsociety.entry.groupconvo_text_fqid_counts\n",
      "tunic.historicalsociety.frontdesk.archivist.have_glass_text_fqid_counts\n",
      "tunic.drycleaner.frontdesk.worker.hub_text_fqid_counts\n",
      "tunic.historicalsociety.closet_dirty.gramps.news_text_fqid_counts\n",
      "tunic.humanecology.frontdesk.worker.intro_text_fqid_counts\n",
      "tunic.historicalsociety.collection.cs_text_fqid_counts\n",
      "tunic.historicalsociety.collection.gramps.found_text_fqid_counts\n",
      "tunic.library.frontdesk.worker.hello_text_fqid_counts\n",
      "tunic.library.frontdesk.worker.wells_text_fqid_counts\n",
      "tunic.historicalsociety.frontdesk.archivist.hello_text_fqid_counts\n",
      "tunic.historicalsociety.closet.gramps.intro_0_cs_0_text_fqid_counts\n",
      "tunic.historicalsociety.closet_dirty.trigger_scarf_text_fqid_counts\n",
      "tunic.drycleaner.frontdesk.worker.done_text_fqid_counts\n",
      "tunic.historicalsociety.closet_dirty.what_happened_text_fqid_counts\n",
      "tunic.historicalsociety.closet.teddy.intro_0_cs_0_text_fqid_counts\n",
      "tunic.historicalsociety.closet.intro_text_fqid_counts\n",
      "tunic.historicalsociety.closet.retirement_letter.hub_text_fqid_counts\n",
      "tunic.historicalsociety.collection.tunic.slip_text_fqid_counts\n",
      "tunic.kohlcenter.halloffame.plaque.face.date_text_fqid_counts\n",
      "tunic.historicalsociety.closet_dirty.trigger_coffee_text_fqid_counts\n",
      "tunic.drycleaner.frontdesk.logbook.page.bingo_text_fqid_counts\n",
      "tunic.library.microfiche.reader.paper2.bingo_text_fqid_counts\n",
      "tunic.kohlcenter.halloffame.togrampa_text_fqid_counts\n",
      "tunic.historicalsociety.closet_dirty.gramps.helpclean_text_fqid_counts\n",
      "tunic.historicalsociety.frontdesk.archivist.have_glass_recap_text_fqid_counts\n",
      "tunic.historicalsociety.collection.gramps.lost_text_fqid_counts\n",
      "tunic.historicalsociety.closet.notebook_text_fqid_counts\n",
      "tunic.historicalsociety.frontdesk.magnify_text_fqid_counts\n",
      "tunic.humanecology.frontdesk.businesscards.card_bingo.bingo_text_fqid_counts\n",
      "tunic.library.frontdesk.wellsbadge.hub_text_fqid_counts\n",
      "tunic.capitol_1.hall.boss.haveyougotit_text_fqid_counts\n",
      "tunic.historicalsociety.basement.janitor_text_fqid_counts\n",
      "tunic.library.frontdesk.worker.wells_recap_text_fqid_counts\n",
      "tunic.capitol_0.hall.boss.talktogramps_text_fqid_counts\n",
      "tunic.historicalsociety.closet.photo_text_fqid_counts\n",
      "tunic.historicalsociety.collection.tunic_text_fqid_counts\n",
      "tunic.historicalsociety.closet.teddy.intro_0_cs_5_text_fqid_counts\n",
      "tunic.historicalsociety.closet_dirty.gramps.archivist_text_fqid_counts\n",
      "tunic.historicalsociety.closet_dirty.door_block_talk_text_fqid_counts\n",
      "tunic.historicalsociety.frontdesk.archivist.need_glass_0_text_fqid_counts\n",
      "tunic.historicalsociety.entry.wells.talktogramps_text_fqid_counts\n",
      "tunic.historicalsociety.frontdesk.block_magnify_text_fqid_counts\n",
      "tunic.historicalsociety.frontdesk.archivist.foundtheodora_text_fqid_counts\n",
      "tunic.historicalsociety.closet_dirty.gramps.nothing_text_fqid_counts\n",
      "tunic.historicalsociety.closet_dirty.door_block_clean_text_fqid_counts\n",
      "tunic.library.frontdesk.worker.hello_short_text_fqid_counts\n",
      "tunic.historicalsociety.stacks.block_text_fqid_counts\n",
      "tunic.historicalsociety.frontdesk.archivist.need_glass_1_text_fqid_counts\n",
      "tunic.historicalsociety.entry.boss.talktogramps_text_fqid_counts\n",
      "tunic.historicalsociety.frontdesk.archivist.newspaper_recap_text_fqid_counts\n",
      "tunic.humanecology.frontdesk.block_0_text_fqid_counts\n",
      "tunic.historicalsociety.closet.doorblock_text_fqid_counts\n",
      "tunic.drycleaner.frontdesk.worker.takealook_text_fqid_counts\n",
      "tunic.library.frontdesk.worker.droppedbadge_text_fqid_counts\n",
      "tunic.historicalsociety.entry.block_tomap2_text_fqid_counts\n",
      "tunic.library.microfiche.block_0_text_fqid_counts\n",
      "tunic.historicalsociety.entry.block_tocollection_text_fqid_counts\n",
      "tunic.historicalsociety.entry.block_tomap1_text_fqid_counts\n",
      "tunic.historicalsociety.collection.gramps.look_0_text_fqid_counts\n",
      "tunic.library.frontdesk.block_badge_text_fqid_counts\n",
      "tunic.library.frontdesk.block_badge_2_text_fqid_counts\n",
      "tunic.kohlcenter.halloffame.block_0_text_fqid_counts\n",
      "tunic.capitol_0.hall.chap1_finale_c_text_fqid_counts\n",
      "tunic.capitol_1.hall.chap2_finale_c_text_fqid_counts\n",
      "tunic.drycleaner.frontdesk.block_0_text_fqid_counts\n",
      "tunic.historicalsociety.entry.gramps.hub_text_fqid_counts\n",
      "tunic.humanecology.frontdesk.block_1_text_fqid_counts\n",
      "tunic.drycleaner.frontdesk.block_1_text_fqid_counts\n",
      "tunic.capitol_2.hall.chap4_finale_c_ET_q25_\n",
      "tunic.historicalsociety.closet_room_fqid_counts\n",
      "tunic.capitol_0.hall_room_fqid_counts\n",
      "archivist_fqid_counts\n",
      "groupconvo_fqid_counts\n",
      "cs_fqid_counts\n",
      "trigger_scarf_fqid_counts\n",
      "what_happened_fqid_counts\n",
      "logbook.page.bingo_fqid_counts\n",
      "trigger_coffee_fqid_counts\n",
      "wellsbadge_fqid_counts\n",
      "plaque.face.date_fqid_counts\n",
      "notebook_fqid_counts\n",
      "businesscards.card_bingo.bingo_fqid_counts\n",
      "chap2_finale_c_fqid_counts\n",
      "tunic.capitol_0_fqid_counts\n",
      "intro_fqid_counts\n",
      "reader.paper2.bingo_fqid_counts\n",
      "retirement_letter_fqid_counts\n",
      "magnify_fqid_counts\n",
      "togrampa_fqid_counts\n",
      "janitor_fqid_counts\n",
      "chap1_finale_fqid_counts\n",
      "report_fqid_counts\n",
      "chap1_finale_c_fqid_counts\n",
      "door_block_talk_fqid_counts\n",
      "block_magnify_fqid_counts\n",
      "block_fqid_counts\n",
      "block_0_fqid_counts\n",
      "door_block_clean_fqid_counts\n",
      "doorblock_fqid_counts\n",
      "tocloset_fqid_counts\n",
      "block_tomap2_fqid_counts\n",
      "block_tocollection_fqid_counts\n",
      "block_tomap1_fqid_counts\n",
      "block_badge_fqid_counts\n",
      "block_badge_2_fqid_counts\n",
      "block_1_fqid_counts\n",
      "*********df3 DONE*********\n"
     ]
    }
   ],
   "source": [
    "null1 = df1.isnull().sum().sort_values(ascending=False) / len(df1)\n",
    "null2 = df2.isnull().sum().sort_values(ascending=False) / len(df1)\n",
    "null3 = df3.isnull().sum().sort_values(ascending=False) / len(df1)\n",
    "\n",
    "drop1 = list(null1[null1>0.9].index)\n",
    "drop2 = list(null2[null2>0.9].index)\n",
    "drop3 = list(null3[null3>0.9].index)\n",
    "print(len(drop1), len(drop2), len(drop3))\n",
    "\n",
    "for col in df1.columns:\n",
    "    if df1[col].nunique()==1:\n",
    "        print(col)\n",
    "        drop1.append(col)\n",
    "print(\"*********df1 DONE*********\")\n",
    "for col in df2.columns:\n",
    "    if df2[col].nunique()==1:\n",
    "        print(col)\n",
    "        drop2.append(col)\n",
    "print(\"*********df2 DONE*********\")\n",
    "for col in df3.columns:\n",
    "    if df3[col].nunique()==1:\n",
    "        print(col)\n",
    "        drop3.append(col)\n",
    "print(\"*********df3 DONE*********\")"
   ]
  },
  {
   "cell_type": "code",
   "execution_count": 12,
   "id": "b9a1a4e9",
   "metadata": {
    "execution": {
     "iopub.execute_input": "2023-05-26T19:33:52.426344Z",
     "iopub.status.busy": "2023-05-26T19:33:52.425383Z",
     "iopub.status.idle": "2023-05-26T19:33:52.868064Z",
     "shell.execute_reply": "2023-05-26T19:33:52.866980Z"
    },
    "papermill": {
     "duration": 0.45774,
     "end_time": "2023-05-26T19:33:52.871380",
     "exception": false,
     "start_time": "2023-05-26T19:33:52.413640",
     "status": "completed"
    },
    "tags": []
   },
   "outputs": [],
   "source": [
    "df1 = df1.set_index('session_id')\n",
    "df2 = df2.set_index('session_id')\n",
    "df3 = df3.set_index('session_id')"
   ]
  },
  {
   "cell_type": "code",
   "execution_count": 13,
   "id": "3285425b",
   "metadata": {
    "execution": {
     "iopub.execute_input": "2023-05-26T19:33:52.894818Z",
     "iopub.status.busy": "2023-05-26T19:33:52.893726Z",
     "iopub.status.idle": "2023-05-26T19:33:53.040476Z",
     "shell.execute_reply": "2023-05-26T19:33:53.038382Z"
    },
    "papermill": {
     "duration": 0.160977,
     "end_time": "2023-05-26T19:33:53.043137",
     "exception": false,
     "start_time": "2023-05-26T19:33:52.882160",
     "status": "completed"
    },
    "tags": []
   },
   "outputs": [
    {
     "name": "stdout",
     "output_type": "stream",
     "text": [
      "We will train with 1351 2120 2423 features\n",
      "We will train with 23562 users info\n"
     ]
    }
   ],
   "source": [
    "FEATURES1 = [c for c in df1.columns if c not in drop1+['level_group']]\n",
    "FEATURES2 = [c for c in df2.columns if c not in drop2+['level_group']]\n",
    "FEATURES3 = [c for c in df3.columns if c not in drop3+['level_group']]\n",
    "print('We will train with', len(FEATURES1), len(FEATURES2), len(FEATURES3) ,'features')\n",
    "ALL_USERS = df1.index.unique()\n",
    "print('We will train with', len(ALL_USERS) ,'users info')"
   ]
  },
  {
   "cell_type": "code",
   "execution_count": 14,
   "id": "3362ec93",
   "metadata": {},
   "outputs": [],
   "source": [
    "# Make a train_test_split for a test set which will be used for feature engineering\n",
    "\n",
    "total_train_idx,total_test_idx,_,_ = train_test_split(ALL_USERS, np.zeros((len(ALL_USERS),1)), test_size=0.2, random_state=42)\n",
    "# train_idx, test_idx\n",
    "\n",
    "df1_train, df1_test = df1.loc[total_train_idx], df1.loc[total_test_idx]\n",
    "df2_train, df2_test = df2.loc[total_train_idx], df2.loc[total_test_idx]\n",
    "df3_train, df3_test = df3.loc[total_train_idx], df3.loc[total_test_idx]"
   ]
  },
  {
   "cell_type": "code",
   "execution_count": 19,
   "id": "2b4ccb21",
   "metadata": {
    "execution": {
     "iopub.execute_input": "2023-05-26T19:33:53.066597Z",
     "iopub.status.busy": "2023-05-26T19:33:53.065618Z",
     "iopub.status.idle": "2023-05-26T19:48:11.371471Z",
     "shell.execute_reply": "2023-05-26T19:48:11.370072Z"
    },
    "papermill": {
     "duration": 858.321164,
     "end_time": "2023-05-26T19:48:11.374668",
     "exception": false,
     "start_time": "2023-05-26T19:33:53.053504",
     "status": "completed"
    },
    "tags": []
   },
   "outputs": [
    {
     "name": "stdout",
     "output_type": "stream",
     "text": [
      "#########################\n",
      "### question 1 with features 1351\n",
      "#########################\n"
     ]
    },
    {
     "name": "stderr",
     "output_type": "stream",
     "text": [
      "Warning: less than 75% gpu memory available for training. Free: 6795.5 Total: 10001.3125\n"
     ]
    },
    {
     "name": "stdout",
     "output_type": "stream",
     "text": [
      "1 , "
     ]
    },
    {
     "name": "stderr",
     "output_type": "stream",
     "text": [
      "Warning: less than 75% gpu memory available for training. Free: 6770.875 Total: 10001.3125\n"
     ]
    },
    {
     "name": "stdout",
     "output_type": "stream",
     "text": [
      "2 , "
     ]
    },
    {
     "name": "stderr",
     "output_type": "stream",
     "text": [
      "Warning: less than 75% gpu memory available for training. Free: 6869.0625 Total: 10001.3125\n"
     ]
    },
    {
     "name": "stdout",
     "output_type": "stream",
     "text": [
      "3 , "
     ]
    },
    {
     "name": "stderr",
     "output_type": "stream",
     "text": [
      "Warning: less than 75% gpu memory available for training. Free: 6876.125 Total: 10001.3125\n"
     ]
    },
    {
     "name": "stdout",
     "output_type": "stream",
     "text": [
      "4 , "
     ]
    },
    {
     "name": "stderr",
     "output_type": "stream",
     "text": [
      "Warning: less than 75% gpu memory available for training. Free: 6899.3125 Total: 10001.3125\n"
     ]
    },
    {
     "name": "stdout",
     "output_type": "stream",
     "text": [
      "5 , \n"
     ]
    },
    {
     "data": {
      "text/html": [
       "<div>\n",
       "<style scoped>\n",
       "    .dataframe tbody tr th:only-of-type {\n",
       "        vertical-align: middle;\n",
       "    }\n",
       "\n",
       "    .dataframe tbody tr th {\n",
       "        vertical-align: top;\n",
       "    }\n",
       "\n",
       "    .dataframe thead th {\n",
       "        text-align: right;\n",
       "    }\n",
       "</style>\n",
       "<table border=\"1\" class=\"dataframe\">\n",
       "  <thead>\n",
       "    <tr style=\"text-align: right;\">\n",
       "      <th></th>\n",
       "      <th>mean</th>\n",
       "    </tr>\n",
       "    <tr>\n",
       "      <th>feature</th>\n",
       "      <th></th>\n",
       "    </tr>\n",
       "  </thead>\n",
       "  <tbody>\n",
       "    <tr>\n",
       "      <th>tunic.capitol_0.hall_ET_sum_next_</th>\n",
       "      <td>2.485112</td>\n",
       "    </tr>\n",
       "    <tr>\n",
       "      <th>chap1_finale_ET_sum_next_</th>\n",
       "      <td>2.158820</td>\n",
       "    </tr>\n",
       "    <tr>\n",
       "      <th>tunic.capitol_0.hall_ET_sum_</th>\n",
       "      <td>2.028493</td>\n",
       "    </tr>\n",
       "    <tr>\n",
       "      <th>checkpoint_basic_ET_sum_</th>\n",
       "      <td>1.973427</td>\n",
       "    </tr>\n",
       "    <tr>\n",
       "      <th>plaque_fqid_counts</th>\n",
       "      <td>1.776227</td>\n",
       "    </tr>\n",
       "    <tr>\n",
       "      <th>chap1_finale_c_ET_sum_</th>\n",
       "      <td>1.725275</td>\n",
       "    </tr>\n",
       "    <tr>\n",
       "      <th>object_click_basic_event_name_counts</th>\n",
       "      <td>1.703838</td>\n",
       "    </tr>\n",
       "    <tr>\n",
       "      <th>checkpoint_basic_ET_q75_</th>\n",
       "      <td>1.570902</td>\n",
       "    </tr>\n",
       "    <tr>\n",
       "      <th>checkpoint_basic_ET_median_</th>\n",
       "      <td>1.345270</td>\n",
       "    </tr>\n",
       "    <tr>\n",
       "      <th>word_q25_help</th>\n",
       "      <td>1.322565</td>\n",
       "    </tr>\n",
       "  </tbody>\n",
       "</table>\n",
       "</div>"
      ],
      "text/plain": [
       "                                          mean\n",
       "feature                                       \n",
       "tunic.capitol_0.hall_ET_sum_next_     2.485112\n",
       "chap1_finale_ET_sum_next_             2.158820\n",
       "tunic.capitol_0.hall_ET_sum_          2.028493\n",
       "checkpoint_basic_ET_sum_              1.973427\n",
       "plaque_fqid_counts                    1.776227\n",
       "chap1_finale_c_ET_sum_                1.725275\n",
       "object_click_basic_event_name_counts  1.703838\n",
       "checkpoint_basic_ET_q75_              1.570902\n",
       "checkpoint_basic_ET_median_           1.345270\n",
       "word_q25_help                         1.322565"
      ]
     },
     "metadata": {},
     "output_type": "display_data"
    },
    {
     "name": "stdout",
     "output_type": "stream",
     "text": [
      "#########################\n",
      "### question 2 with features 1351\n",
      "#########################\n"
     ]
    },
    {
     "name": "stderr",
     "output_type": "stream",
     "text": [
      "Warning: less than 75% gpu memory available for training. Free: 6755.125 Total: 10001.3125\n"
     ]
    },
    {
     "name": "stdout",
     "output_type": "stream",
     "text": [
      "1 , "
     ]
    },
    {
     "name": "stderr",
     "output_type": "stream",
     "text": [
      "Warning: less than 75% gpu memory available for training. Free: 6842.3125 Total: 10001.3125\n"
     ]
    },
    {
     "name": "stdout",
     "output_type": "stream",
     "text": [
      "2 , "
     ]
    },
    {
     "name": "stderr",
     "output_type": "stream",
     "text": [
      "Warning: less than 75% gpu memory available for training. Free: 6908.0625 Total: 10001.3125\n"
     ]
    },
    {
     "name": "stdout",
     "output_type": "stream",
     "text": [
      "3 , "
     ]
    },
    {
     "name": "stderr",
     "output_type": "stream",
     "text": [
      "Warning: less than 75% gpu memory available for training. Free: 6971.5625 Total: 10001.3125\n"
     ]
    },
    {
     "name": "stdout",
     "output_type": "stream",
     "text": [
      "4 , "
     ]
    },
    {
     "name": "stderr",
     "output_type": "stream",
     "text": [
      "Warning: less than 75% gpu memory available for training. Free: 6985.375 Total: 10001.3125\n"
     ]
    },
    {
     "name": "stdout",
     "output_type": "stream",
     "text": [
      "5 , \n"
     ]
    },
    {
     "data": {
      "text/html": [
       "<div>\n",
       "<style scoped>\n",
       "    .dataframe tbody tr th:only-of-type {\n",
       "        vertical-align: middle;\n",
       "    }\n",
       "\n",
       "    .dataframe tbody tr th {\n",
       "        vertical-align: top;\n",
       "    }\n",
       "\n",
       "    .dataframe thead th {\n",
       "        text-align: right;\n",
       "    }\n",
       "</style>\n",
       "<table border=\"1\" class=\"dataframe\">\n",
       "  <thead>\n",
       "    <tr style=\"text-align: right;\">\n",
       "      <th></th>\n",
       "      <th>mean</th>\n",
       "    </tr>\n",
       "    <tr>\n",
       "      <th>feature</th>\n",
       "      <th></th>\n",
       "    </tr>\n",
       "  </thead>\n",
       "  <tbody>\n",
       "    <tr>\n",
       "      <th>object_click_basic_event_name_counts</th>\n",
       "      <td>1.745936</td>\n",
       "    </tr>\n",
       "    <tr>\n",
       "      <th>tunic.capitol_0.hall_ET_sum_</th>\n",
       "      <td>1.336819</td>\n",
       "    </tr>\n",
       "    <tr>\n",
       "      <th>checkpoint_basic_ET_q75_</th>\n",
       "      <td>1.331269</td>\n",
       "    </tr>\n",
       "    <tr>\n",
       "      <th>4_ET_sum_</th>\n",
       "      <td>1.318247</td>\n",
       "    </tr>\n",
       "    <tr>\n",
       "      <th>chap1_finale_c_ET_sum_</th>\n",
       "      <td>1.251483</td>\n",
       "    </tr>\n",
       "    <tr>\n",
       "      <th>checkpoint_basic_ET_mean_</th>\n",
       "      <td>1.238398</td>\n",
       "    </tr>\n",
       "    <tr>\n",
       "      <th>chap1_finale_c_ET_q75_</th>\n",
       "      <td>0.999401</td>\n",
       "    </tr>\n",
       "    <tr>\n",
       "      <th>chap1_finale_c_ET_q25_</th>\n",
       "      <td>0.962456</td>\n",
       "    </tr>\n",
       "    <tr>\n",
       "      <th>3_LEVEL_count</th>\n",
       "      <td>0.841567</td>\n",
       "    </tr>\n",
       "    <tr>\n",
       "      <th>4_ET_sum_next_</th>\n",
       "      <td>0.814124</td>\n",
       "    </tr>\n",
       "  </tbody>\n",
       "</table>\n",
       "</div>"
      ],
      "text/plain": [
       "                                          mean\n",
       "feature                                       \n",
       "object_click_basic_event_name_counts  1.745936\n",
       "tunic.capitol_0.hall_ET_sum_          1.336819\n",
       "checkpoint_basic_ET_q75_              1.331269\n",
       "4_ET_sum_                             1.318247\n",
       "chap1_finale_c_ET_sum_                1.251483\n",
       "checkpoint_basic_ET_mean_             1.238398\n",
       "chap1_finale_c_ET_q75_                0.999401\n",
       "chap1_finale_c_ET_q25_                0.962456\n",
       "3_LEVEL_count                         0.841567\n",
       "4_ET_sum_next_                        0.814124"
      ]
     },
     "metadata": {},
     "output_type": "display_data"
    },
    {
     "name": "stdout",
     "output_type": "stream",
     "text": [
      "#########################\n",
      "### question 3 with features 1351\n",
      "#########################\n"
     ]
    },
    {
     "name": "stderr",
     "output_type": "stream",
     "text": [
      "Warning: less than 75% gpu memory available for training. Free: 6973.5 Total: 10001.3125\n"
     ]
    },
    {
     "name": "stdout",
     "output_type": "stream",
     "text": [
      "1 , "
     ]
    },
    {
     "name": "stderr",
     "output_type": "stream",
     "text": [
      "Warning: less than 75% gpu memory available for training. Free: 7007.125 Total: 10001.3125\n"
     ]
    },
    {
     "name": "stdout",
     "output_type": "stream",
     "text": [
      "2 , "
     ]
    },
    {
     "name": "stderr",
     "output_type": "stream",
     "text": [
      "Warning: less than 75% gpu memory available for training. Free: 7013.375 Total: 10001.3125\n"
     ]
    },
    {
     "name": "stdout",
     "output_type": "stream",
     "text": [
      "3 , "
     ]
    },
    {
     "name": "stderr",
     "output_type": "stream",
     "text": [
      "Warning: less than 75% gpu memory available for training. Free: 6997.375 Total: 10001.3125\n"
     ]
    },
    {
     "name": "stdout",
     "output_type": "stream",
     "text": [
      "4 , "
     ]
    },
    {
     "name": "stderr",
     "output_type": "stream",
     "text": [
      "Warning: less than 75% gpu memory available for training. Free: 6997.375 Total: 10001.3125\n"
     ]
    },
    {
     "name": "stdout",
     "output_type": "stream",
     "text": [
      "5 , \n"
     ]
    },
    {
     "data": {
      "text/html": [
       "<div>\n",
       "<style scoped>\n",
       "    .dataframe tbody tr th:only-of-type {\n",
       "        vertical-align: middle;\n",
       "    }\n",
       "\n",
       "    .dataframe tbody tr th {\n",
       "        vertical-align: top;\n",
       "    }\n",
       "\n",
       "    .dataframe thead th {\n",
       "        text-align: right;\n",
       "    }\n",
       "</style>\n",
       "<table border=\"1\" class=\"dataframe\">\n",
       "  <thead>\n",
       "    <tr style=\"text-align: right;\">\n",
       "      <th></th>\n",
       "      <th>mean</th>\n",
       "    </tr>\n",
       "    <tr>\n",
       "      <th>feature</th>\n",
       "      <th></th>\n",
       "    </tr>\n",
       "  </thead>\n",
       "  <tbody>\n",
       "    <tr>\n",
       "      <th>object_click_basic_event_name_counts</th>\n",
       "      <td>3.229813</td>\n",
       "    </tr>\n",
       "    <tr>\n",
       "      <th>tunic.capitol_0.hall_ET_sum_</th>\n",
       "      <td>2.034429</td>\n",
       "    </tr>\n",
       "    <tr>\n",
       "      <th>tunic.capitol_0.hall_ET_sum_next_</th>\n",
       "      <td>1.759013</td>\n",
       "    </tr>\n",
       "    <tr>\n",
       "      <th>checkpoint_basic_ET_sum_</th>\n",
       "      <td>1.649597</td>\n",
       "    </tr>\n",
       "    <tr>\n",
       "      <th>chap1_finale_ET_sum_next_</th>\n",
       "      <td>1.623257</td>\n",
       "    </tr>\n",
       "    <tr>\n",
       "      <th>chap1_finale_c_ET_sum_</th>\n",
       "      <td>1.584395</td>\n",
       "    </tr>\n",
       "    <tr>\n",
       "      <th>checkpoint_basic_ET_median_</th>\n",
       "      <td>1.568879</td>\n",
       "    </tr>\n",
       "    <tr>\n",
       "      <th>4_ET_sum_</th>\n",
       "      <td>1.549877</td>\n",
       "    </tr>\n",
       "    <tr>\n",
       "      <th>checkpoint_basic_ET_mean_</th>\n",
       "      <td>1.408257</td>\n",
       "    </tr>\n",
       "    <tr>\n",
       "      <th>checkpoint_basic_ET_q25_</th>\n",
       "      <td>1.391437</td>\n",
       "    </tr>\n",
       "  </tbody>\n",
       "</table>\n",
       "</div>"
      ],
      "text/plain": [
       "                                          mean\n",
       "feature                                       \n",
       "object_click_basic_event_name_counts  3.229813\n",
       "tunic.capitol_0.hall_ET_sum_          2.034429\n",
       "tunic.capitol_0.hall_ET_sum_next_     1.759013\n",
       "checkpoint_basic_ET_sum_              1.649597\n",
       "chap1_finale_ET_sum_next_             1.623257\n",
       "chap1_finale_c_ET_sum_                1.584395\n",
       "checkpoint_basic_ET_median_           1.568879\n",
       "4_ET_sum_                             1.549877\n",
       "checkpoint_basic_ET_mean_             1.408257\n",
       "checkpoint_basic_ET_q25_              1.391437"
      ]
     },
     "metadata": {},
     "output_type": "display_data"
    },
    {
     "name": "stdout",
     "output_type": "stream",
     "text": [
      "#########################\n",
      "### question 4 with features 2120\n",
      "#########################\n"
     ]
    },
    {
     "name": "stderr",
     "output_type": "stream",
     "text": [
      "Warning: less than 75% gpu memory available for training. Free: 6983.25 Total: 10001.3125\n"
     ]
    },
    {
     "name": "stdout",
     "output_type": "stream",
     "text": [
      "1 , "
     ]
    },
    {
     "name": "stderr",
     "output_type": "stream",
     "text": [
      "Warning: less than 75% gpu memory available for training. Free: 6983.25 Total: 10001.3125\n"
     ]
    },
    {
     "name": "stdout",
     "output_type": "stream",
     "text": [
      "2 , "
     ]
    },
    {
     "name": "stderr",
     "output_type": "stream",
     "text": [
      "Warning: less than 75% gpu memory available for training. Free: 6956.125 Total: 10001.3125\n"
     ]
    },
    {
     "name": "stdout",
     "output_type": "stream",
     "text": [
      "3 , "
     ]
    },
    {
     "name": "stderr",
     "output_type": "stream",
     "text": [
      "Warning: less than 75% gpu memory available for training. Free: 6958.125 Total: 10001.3125\n"
     ]
    },
    {
     "name": "stdout",
     "output_type": "stream",
     "text": [
      "4 , "
     ]
    },
    {
     "name": "stderr",
     "output_type": "stream",
     "text": [
      "Warning: less than 75% gpu memory available for training. Free: 6983.375 Total: 10001.3125\n"
     ]
    },
    {
     "name": "stdout",
     "output_type": "stream",
     "text": [
      "5 , \n"
     ]
    },
    {
     "data": {
      "text/html": [
       "<div>\n",
       "<style scoped>\n",
       "    .dataframe tbody tr th:only-of-type {\n",
       "        vertical-align: middle;\n",
       "    }\n",
       "\n",
       "    .dataframe tbody tr th {\n",
       "        vertical-align: top;\n",
       "    }\n",
       "\n",
       "    .dataframe thead th {\n",
       "        text-align: right;\n",
       "    }\n",
       "</style>\n",
       "<table border=\"1\" class=\"dataframe\">\n",
       "  <thead>\n",
       "    <tr style=\"text-align: right;\">\n",
       "      <th></th>\n",
       "      <th>mean</th>\n",
       "    </tr>\n",
       "    <tr>\n",
       "      <th>feature</th>\n",
       "      <th></th>\n",
       "    </tr>\n",
       "  </thead>\n",
       "  <tbody>\n",
       "    <tr>\n",
       "      <th>session_number_</th>\n",
       "      <td>2.813738</td>\n",
       "    </tr>\n",
       "    <tr>\n",
       "      <th>tunic.historicalsociety.frontdesk_room_fqid_counts</th>\n",
       "      <td>1.188346</td>\n",
       "    </tr>\n",
       "    <tr>\n",
       "      <th>11_LEVEL_count</th>\n",
       "      <td>1.186996</td>\n",
       "    </tr>\n",
       "    <tr>\n",
       "      <th>person_click_basic_ET_q25_next_</th>\n",
       "      <td>1.169568</td>\n",
       "    </tr>\n",
       "    <tr>\n",
       "      <th>reader_bingo_indexCount</th>\n",
       "      <td>0.801878</td>\n",
       "    </tr>\n",
       "    <tr>\n",
       "      <th>toentry_ET_sum_</th>\n",
       "      <td>0.683868</td>\n",
       "    </tr>\n",
       "    <tr>\n",
       "      <th>tunic.historicalsociety.frontdesk.archivist.foundtheodora_text_fqid_counts</th>\n",
       "      <td>0.680872</td>\n",
       "    </tr>\n",
       "    <tr>\n",
       "      <th>word_median_suffragist</th>\n",
       "      <td>0.599886</td>\n",
       "    </tr>\n",
       "    <tr>\n",
       "      <th>tunic.historicalsociety.frontdesk.archivist.newspaper_ET_q25_</th>\n",
       "      <td>0.598144</td>\n",
       "    </tr>\n",
       "    <tr>\n",
       "      <th>navigate_click_undefined_ET_sum_next_</th>\n",
       "      <td>0.544196</td>\n",
       "    </tr>\n",
       "  </tbody>\n",
       "</table>\n",
       "</div>"
      ],
      "text/plain": [
       "                                                        mean\n",
       "feature                                                     \n",
       "session_number_                                     2.813738\n",
       "tunic.historicalsociety.frontdesk_room_fqid_counts  1.188346\n",
       "11_LEVEL_count                                      1.186996\n",
       "person_click_basic_ET_q25_next_                     1.169568\n",
       "reader_bingo_indexCount                             0.801878\n",
       "toentry_ET_sum_                                     0.683868\n",
       "tunic.historicalsociety.frontdesk.archivist.fou...  0.680872\n",
       "word_median_suffragist                              0.599886\n",
       "tunic.historicalsociety.frontdesk.archivist.new...  0.598144\n",
       "navigate_click_undefined_ET_sum_next_               0.544196"
      ]
     },
     "metadata": {},
     "output_type": "display_data"
    },
    {
     "name": "stdout",
     "output_type": "stream",
     "text": [
      "#########################\n",
      "### question 5 with features 2120\n",
      "#########################\n"
     ]
    },
    {
     "name": "stderr",
     "output_type": "stream",
     "text": [
      "Warning: less than 75% gpu memory available for training. Free: 6975.375 Total: 10001.3125\n"
     ]
    },
    {
     "name": "stdout",
     "output_type": "stream",
     "text": [
      "1 , "
     ]
    },
    {
     "name": "stderr",
     "output_type": "stream",
     "text": [
      "Warning: less than 75% gpu memory available for training. Free: 6944 Total: 10001.3125\n"
     ]
    },
    {
     "name": "stdout",
     "output_type": "stream",
     "text": [
      "2 , "
     ]
    },
    {
     "name": "stderr",
     "output_type": "stream",
     "text": [
      "Warning: less than 75% gpu memory available for training. Free: 6977.375 Total: 10001.3125\n"
     ]
    },
    {
     "name": "stdout",
     "output_type": "stream",
     "text": [
      "3 , "
     ]
    },
    {
     "name": "stderr",
     "output_type": "stream",
     "text": [
      "Warning: less than 75% gpu memory available for training. Free: 6985.375 Total: 10001.3125\n"
     ]
    },
    {
     "name": "stdout",
     "output_type": "stream",
     "text": [
      "4 , "
     ]
    },
    {
     "name": "stderr",
     "output_type": "stream",
     "text": [
      "Warning: less than 75% gpu memory available for training. Free: 6960.125 Total: 10001.3125\n"
     ]
    },
    {
     "name": "stdout",
     "output_type": "stream",
     "text": [
      "5 , \n"
     ]
    },
    {
     "data": {
      "text/html": [
       "<div>\n",
       "<style scoped>\n",
       "    .dataframe tbody tr th:only-of-type {\n",
       "        vertical-align: middle;\n",
       "    }\n",
       "\n",
       "    .dataframe tbody tr th {\n",
       "        vertical-align: top;\n",
       "    }\n",
       "\n",
       "    .dataframe thead th {\n",
       "        text-align: right;\n",
       "    }\n",
       "</style>\n",
       "<table border=\"1\" class=\"dataframe\">\n",
       "  <thead>\n",
       "    <tr style=\"text-align: right;\">\n",
       "      <th></th>\n",
       "      <th>mean</th>\n",
       "    </tr>\n",
       "    <tr>\n",
       "      <th>feature</th>\n",
       "      <th></th>\n",
       "    </tr>\n",
       "  </thead>\n",
       "  <tbody>\n",
       "    <tr>\n",
       "      <th>session_number_</th>\n",
       "      <td>3.331788</td>\n",
       "    </tr>\n",
       "    <tr>\n",
       "      <th>11_LEVEL_count</th>\n",
       "      <td>2.212120</td>\n",
       "    </tr>\n",
       "    <tr>\n",
       "      <th>tunic.humanecology.frontdesk.worker.intro_ET_q25_next_</th>\n",
       "      <td>1.241395</td>\n",
       "    </tr>\n",
       "    <tr>\n",
       "      <th>word_std_this</th>\n",
       "      <td>1.007562</td>\n",
       "    </tr>\n",
       "    <tr>\n",
       "      <th>word_mean_cleaner</th>\n",
       "      <td>0.984236</td>\n",
       "    </tr>\n",
       "    <tr>\n",
       "      <th>word_median_Wells</th>\n",
       "      <td>0.843126</td>\n",
       "    </tr>\n",
       "    <tr>\n",
       "      <th>tunic.drycleaner.frontdesk.worker.hub_ET_q25_next_</th>\n",
       "      <td>0.731222</td>\n",
       "    </tr>\n",
       "    <tr>\n",
       "      <th>word_q25_cleaner</th>\n",
       "      <td>0.659017</td>\n",
       "    </tr>\n",
       "    <tr>\n",
       "      <th>object_click_basic_event_name_counts</th>\n",
       "      <td>0.636975</td>\n",
       "    </tr>\n",
       "    <tr>\n",
       "      <th>word_sum_cleaner</th>\n",
       "      <td>0.570309</td>\n",
       "    </tr>\n",
       "  </tbody>\n",
       "</table>\n",
       "</div>"
      ],
      "text/plain": [
       "                                                        mean\n",
       "feature                                                     \n",
       "session_number_                                     3.331788\n",
       "11_LEVEL_count                                      2.212120\n",
       "tunic.humanecology.frontdesk.worker.intro_ET_q2...  1.241395\n",
       "word_std_this                                       1.007562\n",
       "word_mean_cleaner                                   0.984236\n",
       "word_median_Wells                                   0.843126\n",
       "tunic.drycleaner.frontdesk.worker.hub_ET_q25_next_  0.731222\n",
       "word_q25_cleaner                                    0.659017\n",
       "object_click_basic_event_name_counts                0.636975\n",
       "word_sum_cleaner                                    0.570309"
      ]
     },
     "metadata": {},
     "output_type": "display_data"
    },
    {
     "name": "stdout",
     "output_type": "stream",
     "text": [
      "#########################\n",
      "### question 6 with features 2120\n",
      "#########################\n"
     ]
    },
    {
     "name": "stderr",
     "output_type": "stream",
     "text": [
      "Warning: less than 75% gpu memory available for training. Free: 6961.375 Total: 10001.3125\n"
     ]
    },
    {
     "name": "stdout",
     "output_type": "stream",
     "text": [
      "1 , "
     ]
    },
    {
     "name": "stderr",
     "output_type": "stream",
     "text": [
      "Warning: less than 75% gpu memory available for training. Free: 6954 Total: 10001.3125\n"
     ]
    },
    {
     "name": "stdout",
     "output_type": "stream",
     "text": [
      "2 , "
     ]
    },
    {
     "name": "stderr",
     "output_type": "stream",
     "text": [
      "Warning: less than 75% gpu memory available for training. Free: 6993.375 Total: 10001.3125\n"
     ]
    },
    {
     "name": "stdout",
     "output_type": "stream",
     "text": [
      "3 , "
     ]
    },
    {
     "name": "stderr",
     "output_type": "stream",
     "text": [
      "Warning: less than 75% gpu memory available for training. Free: 6993.375 Total: 10001.3125\n"
     ]
    },
    {
     "name": "stdout",
     "output_type": "stream",
     "text": [
      "4 , "
     ]
    },
    {
     "name": "stderr",
     "output_type": "stream",
     "text": [
      "Warning: less than 75% gpu memory available for training. Free: 6993.375 Total: 10001.3125\n"
     ]
    },
    {
     "name": "stdout",
     "output_type": "stream",
     "text": [
      "5 , \n"
     ]
    },
    {
     "data": {
      "text/html": [
       "<div>\n",
       "<style scoped>\n",
       "    .dataframe tbody tr th:only-of-type {\n",
       "        vertical-align: middle;\n",
       "    }\n",
       "\n",
       "    .dataframe tbody tr th {\n",
       "        vertical-align: top;\n",
       "    }\n",
       "\n",
       "    .dataframe thead th {\n",
       "        text-align: right;\n",
       "    }\n",
       "</style>\n",
       "<table border=\"1\" class=\"dataframe\">\n",
       "  <thead>\n",
       "    <tr style=\"text-align: right;\">\n",
       "      <th></th>\n",
       "      <th>mean</th>\n",
       "    </tr>\n",
       "    <tr>\n",
       "      <th>feature</th>\n",
       "      <th></th>\n",
       "    </tr>\n",
       "  </thead>\n",
       "  <tbody>\n",
       "    <tr>\n",
       "      <th>session_number_</th>\n",
       "      <td>2.982686</td>\n",
       "    </tr>\n",
       "    <tr>\n",
       "      <th>11_LEVEL_count</th>\n",
       "      <td>2.128329</td>\n",
       "    </tr>\n",
       "    <tr>\n",
       "      <th>logbook.page.bingo_ET_mean_</th>\n",
       "      <td>0.842982</td>\n",
       "    </tr>\n",
       "    <tr>\n",
       "      <th>trigger_scarf_ET_std_</th>\n",
       "      <td>0.749839</td>\n",
       "    </tr>\n",
       "    <tr>\n",
       "      <th>journals.pic_1.next_fqid_counts</th>\n",
       "      <td>0.648583</td>\n",
       "    </tr>\n",
       "    <tr>\n",
       "      <th>reader_bingo_indexCount</th>\n",
       "      <td>0.629580</td>\n",
       "    </tr>\n",
       "    <tr>\n",
       "      <th>hover_duration_q75_</th>\n",
       "      <td>0.617054</td>\n",
       "    </tr>\n",
       "    <tr>\n",
       "      <th>word_q75_cleaner</th>\n",
       "      <td>0.597208</td>\n",
       "    </tr>\n",
       "    <tr>\n",
       "      <th>tunic.historicalsociety.frontdesk.archivist.foundtheodora_text_fqid_counts</th>\n",
       "      <td>0.595800</td>\n",
       "    </tr>\n",
       "    <tr>\n",
       "      <th>logbook.page.bingo_ET_std_</th>\n",
       "      <td>0.587229</td>\n",
       "    </tr>\n",
       "  </tbody>\n",
       "</table>\n",
       "</div>"
      ],
      "text/plain": [
       "                                                        mean\n",
       "feature                                                     \n",
       "session_number_                                     2.982686\n",
       "11_LEVEL_count                                      2.128329\n",
       "logbook.page.bingo_ET_mean_                         0.842982\n",
       "trigger_scarf_ET_std_                               0.749839\n",
       "journals.pic_1.next_fqid_counts                     0.648583\n",
       "reader_bingo_indexCount                             0.629580\n",
       "hover_duration_q75_                                 0.617054\n",
       "word_q75_cleaner                                    0.597208\n",
       "tunic.historicalsociety.frontdesk.archivist.fou...  0.595800\n",
       "logbook.page.bingo_ET_std_                          0.587229"
      ]
     },
     "metadata": {},
     "output_type": "display_data"
    },
    {
     "name": "stdout",
     "output_type": "stream",
     "text": [
      "#########################\n",
      "### question 7 with features 2120\n",
      "#########################\n"
     ]
    },
    {
     "name": "stderr",
     "output_type": "stream",
     "text": [
      "Warning: less than 75% gpu memory available for training. Free: 6977.375 Total: 10001.3125\n"
     ]
    },
    {
     "name": "stdout",
     "output_type": "stream",
     "text": [
      "1 , "
     ]
    },
    {
     "name": "stderr",
     "output_type": "stream",
     "text": [
      "Warning: less than 75% gpu memory available for training. Free: 6962 Total: 10001.3125\n"
     ]
    },
    {
     "name": "stdout",
     "output_type": "stream",
     "text": [
      "2 , "
     ]
    },
    {
     "name": "stderr",
     "output_type": "stream",
     "text": [
      "Warning: less than 75% gpu memory available for training. Free: 6993.375 Total: 10001.3125\n"
     ]
    },
    {
     "name": "stdout",
     "output_type": "stream",
     "text": [
      "3 , "
     ]
    },
    {
     "name": "stderr",
     "output_type": "stream",
     "text": [
      "Warning: less than 75% gpu memory available for training. Free: 6960.125 Total: 10001.3125\n"
     ]
    },
    {
     "name": "stdout",
     "output_type": "stream",
     "text": [
      "4 , "
     ]
    },
    {
     "name": "stderr",
     "output_type": "stream",
     "text": [
      "Warning: less than 75% gpu memory available for training. Free: 6978.1875 Total: 10001.3125\n"
     ]
    },
    {
     "name": "stdout",
     "output_type": "stream",
     "text": [
      "5 , \n"
     ]
    },
    {
     "data": {
      "text/html": [
       "<div>\n",
       "<style scoped>\n",
       "    .dataframe tbody tr th:only-of-type {\n",
       "        vertical-align: middle;\n",
       "    }\n",
       "\n",
       "    .dataframe tbody tr th {\n",
       "        vertical-align: top;\n",
       "    }\n",
       "\n",
       "    .dataframe thead th {\n",
       "        text-align: right;\n",
       "    }\n",
       "</style>\n",
       "<table border=\"1\" class=\"dataframe\">\n",
       "  <thead>\n",
       "    <tr style=\"text-align: right;\">\n",
       "      <th></th>\n",
       "      <th>mean</th>\n",
       "    </tr>\n",
       "    <tr>\n",
       "      <th>feature</th>\n",
       "      <th></th>\n",
       "    </tr>\n",
       "  </thead>\n",
       "  <tbody>\n",
       "    <tr>\n",
       "      <th>session_number_</th>\n",
       "      <td>2.338660</td>\n",
       "    </tr>\n",
       "    <tr>\n",
       "      <th>11_LEVEL_count</th>\n",
       "      <td>1.298138</td>\n",
       "    </tr>\n",
       "    <tr>\n",
       "      <th>hover_duration_mean_</th>\n",
       "      <td>0.910033</td>\n",
       "    </tr>\n",
       "    <tr>\n",
       "      <th>hover_duration_q75_</th>\n",
       "      <td>0.800283</td>\n",
       "    </tr>\n",
       "    <tr>\n",
       "      <th>word_q75_cleaner</th>\n",
       "      <td>0.766098</td>\n",
       "    </tr>\n",
       "    <tr>\n",
       "      <th>word_std_you</th>\n",
       "      <td>0.753969</td>\n",
       "    </tr>\n",
       "    <tr>\n",
       "      <th>tunic.historicalsociety.frontdesk_room_fqid_counts</th>\n",
       "      <td>0.724813</td>\n",
       "    </tr>\n",
       "    <tr>\n",
       "      <th>tunic.historicalsociety.closet_dirty.door_block_talk_text_fqid_counts</th>\n",
       "      <td>0.702220</td>\n",
       "    </tr>\n",
       "    <tr>\n",
       "      <th>logbook.page.bingo_ET_sum_</th>\n",
       "      <td>0.701448</td>\n",
       "    </tr>\n",
       "    <tr>\n",
       "      <th>word_q25_cleaner</th>\n",
       "      <td>0.688555</td>\n",
       "    </tr>\n",
       "  </tbody>\n",
       "</table>\n",
       "</div>"
      ],
      "text/plain": [
       "                                                        mean\n",
       "feature                                                     \n",
       "session_number_                                     2.338660\n",
       "11_LEVEL_count                                      1.298138\n",
       "hover_duration_mean_                                0.910033\n",
       "hover_duration_q75_                                 0.800283\n",
       "word_q75_cleaner                                    0.766098\n",
       "word_std_you                                        0.753969\n",
       "tunic.historicalsociety.frontdesk_room_fqid_counts  0.724813\n",
       "tunic.historicalsociety.closet_dirty.door_block...  0.702220\n",
       "logbook.page.bingo_ET_sum_                          0.701448\n",
       "word_q25_cleaner                                    0.688555"
      ]
     },
     "metadata": {},
     "output_type": "display_data"
    },
    {
     "name": "stdout",
     "output_type": "stream",
     "text": [
      "#########################\n",
      "### question 8 with features 2120\n",
      "#########################\n"
     ]
    },
    {
     "name": "stderr",
     "output_type": "stream",
     "text": [
      "Warning: less than 75% gpu memory available for training. Free: 6978.1875 Total: 10001.3125\n"
     ]
    },
    {
     "name": "stdout",
     "output_type": "stream",
     "text": [
      "1 , "
     ]
    },
    {
     "name": "stderr",
     "output_type": "stream",
     "text": [
      "Warning: less than 75% gpu memory available for training. Free: 6988.0625 Total: 10001.3125\n"
     ]
    },
    {
     "name": "stdout",
     "output_type": "stream",
     "text": [
      "2 , "
     ]
    },
    {
     "name": "stderr",
     "output_type": "stream",
     "text": [
      "Warning: less than 75% gpu memory available for training. Free: 6952.9375 Total: 10001.3125\n"
     ]
    },
    {
     "name": "stdout",
     "output_type": "stream",
     "text": [
      "3 , "
     ]
    },
    {
     "name": "stderr",
     "output_type": "stream",
     "text": [
      "Warning: less than 75% gpu memory available for training. Free: 6978.1875 Total: 10001.3125\n"
     ]
    },
    {
     "name": "stdout",
     "output_type": "stream",
     "text": [
      "4 , "
     ]
    },
    {
     "name": "stderr",
     "output_type": "stream",
     "text": [
      "Warning: less than 75% gpu memory available for training. Free: 6952.9375 Total: 10001.3125\n"
     ]
    },
    {
     "name": "stdout",
     "output_type": "stream",
     "text": [
      "5 , \n"
     ]
    },
    {
     "data": {
      "text/html": [
       "<div>\n",
       "<style scoped>\n",
       "    .dataframe tbody tr th:only-of-type {\n",
       "        vertical-align: middle;\n",
       "    }\n",
       "\n",
       "    .dataframe tbody tr th {\n",
       "        vertical-align: top;\n",
       "    }\n",
       "\n",
       "    .dataframe thead th {\n",
       "        text-align: right;\n",
       "    }\n",
       "</style>\n",
       "<table border=\"1\" class=\"dataframe\">\n",
       "  <thead>\n",
       "    <tr style=\"text-align: right;\">\n",
       "      <th></th>\n",
       "      <th>mean</th>\n",
       "    </tr>\n",
       "    <tr>\n",
       "      <th>feature</th>\n",
       "      <th></th>\n",
       "    </tr>\n",
       "  </thead>\n",
       "  <tbody>\n",
       "    <tr>\n",
       "      <th>object_click_basic_event_name_counts</th>\n",
       "      <td>2.319870</td>\n",
       "    </tr>\n",
       "    <tr>\n",
       "      <th>session_number_</th>\n",
       "      <td>1.437417</td>\n",
       "    </tr>\n",
       "    <tr>\n",
       "      <th>tunic.historicalsociety.frontdesk.archivist.foundtheodora_text_fqid_counts</th>\n",
       "      <td>1.068455</td>\n",
       "    </tr>\n",
       "    <tr>\n",
       "      <th>word_the</th>\n",
       "      <td>1.064028</td>\n",
       "    </tr>\n",
       "    <tr>\n",
       "      <th>room_fqid_unique_</th>\n",
       "      <td>1.052725</td>\n",
       "    </tr>\n",
       "    <tr>\n",
       "      <th>11_LEVEL_count</th>\n",
       "      <td>0.987480</td>\n",
       "    </tr>\n",
       "    <tr>\n",
       "      <th>name_unique_</th>\n",
       "      <td>0.717897</td>\n",
       "    </tr>\n",
       "    <tr>\n",
       "      <th>word_found</th>\n",
       "      <td>0.692825</td>\n",
       "    </tr>\n",
       "    <tr>\n",
       "      <th>word_std_this</th>\n",
       "      <td>0.691974</td>\n",
       "    </tr>\n",
       "    <tr>\n",
       "      <th>journals_ET_sum_next_</th>\n",
       "      <td>0.620517</td>\n",
       "    </tr>\n",
       "  </tbody>\n",
       "</table>\n",
       "</div>"
      ],
      "text/plain": [
       "                                                        mean\n",
       "feature                                                     \n",
       "object_click_basic_event_name_counts                2.319870\n",
       "session_number_                                     1.437417\n",
       "tunic.historicalsociety.frontdesk.archivist.fou...  1.068455\n",
       "word_the                                            1.064028\n",
       "room_fqid_unique_                                   1.052725\n",
       "11_LEVEL_count                                      0.987480\n",
       "name_unique_                                        0.717897\n",
       "word_found                                          0.692825\n",
       "word_std_this                                       0.691974\n",
       "journals_ET_sum_next_                               0.620517"
      ]
     },
     "metadata": {},
     "output_type": "display_data"
    },
    {
     "name": "stdout",
     "output_type": "stream",
     "text": [
      "#########################\n",
      "### question 9 with features 2120\n",
      "#########################\n"
     ]
    },
    {
     "name": "stderr",
     "output_type": "stream",
     "text": [
      "Warning: less than 75% gpu memory available for training. Free: 6829.375 Total: 10001.3125\n"
     ]
    },
    {
     "name": "stdout",
     "output_type": "stream",
     "text": [
      "1 , "
     ]
    },
    {
     "name": "stderr",
     "output_type": "stream",
     "text": [
      "Warning: less than 75% gpu memory available for training. Free: 7055.5 Total: 10001.3125\n"
     ]
    },
    {
     "name": "stdout",
     "output_type": "stream",
     "text": [
      "2 , "
     ]
    },
    {
     "name": "stderr",
     "output_type": "stream",
     "text": [
      "Warning: less than 75% gpu memory available for training. Free: 7089.25 Total: 10001.3125\n"
     ]
    },
    {
     "name": "stdout",
     "output_type": "stream",
     "text": [
      "3 , "
     ]
    },
    {
     "name": "stderr",
     "output_type": "stream",
     "text": [
      "Warning: less than 75% gpu memory available for training. Free: 7078.9375 Total: 10001.3125\n"
     ]
    },
    {
     "name": "stdout",
     "output_type": "stream",
     "text": [
      "4 , "
     ]
    },
    {
     "name": "stderr",
     "output_type": "stream",
     "text": [
      "Warning: less than 75% gpu memory available for training. Free: 7083.6875 Total: 10001.3125\n"
     ]
    },
    {
     "name": "stdout",
     "output_type": "stream",
     "text": [
      "5 , \n"
     ]
    },
    {
     "data": {
      "text/html": [
       "<div>\n",
       "<style scoped>\n",
       "    .dataframe tbody tr th:only-of-type {\n",
       "        vertical-align: middle;\n",
       "    }\n",
       "\n",
       "    .dataframe tbody tr th {\n",
       "        vertical-align: top;\n",
       "    }\n",
       "\n",
       "    .dataframe thead th {\n",
       "        text-align: right;\n",
       "    }\n",
       "</style>\n",
       "<table border=\"1\" class=\"dataframe\">\n",
       "  <thead>\n",
       "    <tr style=\"text-align: right;\">\n",
       "      <th></th>\n",
       "      <th>mean</th>\n",
       "    </tr>\n",
       "    <tr>\n",
       "      <th>feature</th>\n",
       "      <th></th>\n",
       "    </tr>\n",
       "  </thead>\n",
       "  <tbody>\n",
       "    <tr>\n",
       "      <th>11_LEVEL_count</th>\n",
       "      <td>1.508767</td>\n",
       "    </tr>\n",
       "    <tr>\n",
       "      <th>session_number_</th>\n",
       "      <td>1.489264</td>\n",
       "    </tr>\n",
       "    <tr>\n",
       "      <th>reader_bingo_indexCount</th>\n",
       "      <td>1.286855</td>\n",
       "    </tr>\n",
       "    <tr>\n",
       "      <th>reader_fqid_counts</th>\n",
       "      <td>0.915659</td>\n",
       "    </tr>\n",
       "    <tr>\n",
       "      <th>word_std_next_Jo</th>\n",
       "      <td>0.907685</td>\n",
       "    </tr>\n",
       "    <tr>\n",
       "      <th>hover_duration_q75_</th>\n",
       "      <td>0.796261</td>\n",
       "    </tr>\n",
       "    <tr>\n",
       "      <th>tunic.historicalsociety.frontdesk.archivist.foundtheodora_text_fqid_counts</th>\n",
       "      <td>0.741480</td>\n",
       "    </tr>\n",
       "    <tr>\n",
       "      <th>journals_ET_sum_next_</th>\n",
       "      <td>0.689797</td>\n",
       "    </tr>\n",
       "    <tr>\n",
       "      <th>word_the</th>\n",
       "      <td>0.673221</td>\n",
       "    </tr>\n",
       "    <tr>\n",
       "      <th>tunic.historicalsociety.closet_dirty.gramps.nothing_text_fqid_counts</th>\n",
       "      <td>0.667774</td>\n",
       "    </tr>\n",
       "  </tbody>\n",
       "</table>\n",
       "</div>"
      ],
      "text/plain": [
       "                                                        mean\n",
       "feature                                                     \n",
       "11_LEVEL_count                                      1.508767\n",
       "session_number_                                     1.489264\n",
       "reader_bingo_indexCount                             1.286855\n",
       "reader_fqid_counts                                  0.915659\n",
       "word_std_next_Jo                                    0.907685\n",
       "hover_duration_q75_                                 0.796261\n",
       "tunic.historicalsociety.frontdesk.archivist.fou...  0.741480\n",
       "journals_ET_sum_next_                               0.689797\n",
       "word_the                                            0.673221\n",
       "tunic.historicalsociety.closet_dirty.gramps.not...  0.667774"
      ]
     },
     "metadata": {},
     "output_type": "display_data"
    },
    {
     "name": "stdout",
     "output_type": "stream",
     "text": [
      "#########################\n",
      "### question 10 with features 2120\n",
      "#########################\n"
     ]
    },
    {
     "name": "stderr",
     "output_type": "stream",
     "text": [
      "Warning: less than 75% gpu memory available for training. Free: 7078.8125 Total: 10001.3125\n"
     ]
    },
    {
     "name": "stdout",
     "output_type": "stream",
     "text": [
      "1 , "
     ]
    },
    {
     "name": "stderr",
     "output_type": "stream",
     "text": [
      "Warning: less than 75% gpu memory available for training. Free: 7110.375 Total: 10001.3125\n"
     ]
    },
    {
     "name": "stdout",
     "output_type": "stream",
     "text": [
      "2 , "
     ]
    },
    {
     "name": "stderr",
     "output_type": "stream",
     "text": [
      "Warning: less than 75% gpu memory available for training. Free: 7116.5625 Total: 10001.3125\n"
     ]
    },
    {
     "name": "stdout",
     "output_type": "stream",
     "text": [
      "3 , "
     ]
    },
    {
     "name": "stderr",
     "output_type": "stream",
     "text": [
      "Warning: less than 75% gpu memory available for training. Free: 7116.5625 Total: 10001.3125\n"
     ]
    },
    {
     "name": "stdout",
     "output_type": "stream",
     "text": [
      "4 , "
     ]
    },
    {
     "name": "stderr",
     "output_type": "stream",
     "text": [
      "Warning: less than 75% gpu memory available for training. Free: 7116.5625 Total: 10001.3125\n"
     ]
    },
    {
     "name": "stdout",
     "output_type": "stream",
     "text": [
      "5 , \n"
     ]
    },
    {
     "data": {
      "text/html": [
       "<div>\n",
       "<style scoped>\n",
       "    .dataframe tbody tr th:only-of-type {\n",
       "        vertical-align: middle;\n",
       "    }\n",
       "\n",
       "    .dataframe tbody tr th {\n",
       "        vertical-align: top;\n",
       "    }\n",
       "\n",
       "    .dataframe thead th {\n",
       "        text-align: right;\n",
       "    }\n",
       "</style>\n",
       "<table border=\"1\" class=\"dataframe\">\n",
       "  <thead>\n",
       "    <tr style=\"text-align: right;\">\n",
       "      <th></th>\n",
       "      <th>mean</th>\n",
       "    </tr>\n",
       "    <tr>\n",
       "      <th>feature</th>\n",
       "      <th></th>\n",
       "    </tr>\n",
       "  </thead>\n",
       "  <tbody>\n",
       "    <tr>\n",
       "      <th>11_LEVEL_count</th>\n",
       "      <td>2.788244</td>\n",
       "    </tr>\n",
       "    <tr>\n",
       "      <th>session_number_</th>\n",
       "      <td>2.344475</td>\n",
       "    </tr>\n",
       "    <tr>\n",
       "      <th>object_click_basic_event_name_counts</th>\n",
       "      <td>0.959498</td>\n",
       "    </tr>\n",
       "    <tr>\n",
       "      <th>journals_ET_sum_</th>\n",
       "      <td>0.904104</td>\n",
       "    </tr>\n",
       "    <tr>\n",
       "      <th>tunic.historicalsociety.stacks_ET_sum_</th>\n",
       "      <td>0.775556</td>\n",
       "    </tr>\n",
       "    <tr>\n",
       "      <th>tunic.historicalsociety.frontdesk_room_fqid_counts</th>\n",
       "      <td>0.705112</td>\n",
       "    </tr>\n",
       "    <tr>\n",
       "      <th>tunic.historicalsociety.stacks_ET_sum_next_</th>\n",
       "      <td>0.695290</td>\n",
       "    </tr>\n",
       "    <tr>\n",
       "      <th>journals_ET_sum_next_</th>\n",
       "      <td>0.578397</td>\n",
       "    </tr>\n",
       "    <tr>\n",
       "      <th>reader_bingo_indexCount</th>\n",
       "      <td>0.490260</td>\n",
       "    </tr>\n",
       "    <tr>\n",
       "      <th>tunic.drycleaner.frontdesk.worker.hub_ET_q25_next_</th>\n",
       "      <td>0.484801</td>\n",
       "    </tr>\n",
       "  </tbody>\n",
       "</table>\n",
       "</div>"
      ],
      "text/plain": [
       "                                                        mean\n",
       "feature                                                     \n",
       "11_LEVEL_count                                      2.788244\n",
       "session_number_                                     2.344475\n",
       "object_click_basic_event_name_counts                0.959498\n",
       "journals_ET_sum_                                    0.904104\n",
       "tunic.historicalsociety.stacks_ET_sum_              0.775556\n",
       "tunic.historicalsociety.frontdesk_room_fqid_counts  0.705112\n",
       "tunic.historicalsociety.stacks_ET_sum_next_         0.695290\n",
       "journals_ET_sum_next_                               0.578397\n",
       "reader_bingo_indexCount                             0.490260\n",
       "tunic.drycleaner.frontdesk.worker.hub_ET_q25_next_  0.484801"
      ]
     },
     "metadata": {},
     "output_type": "display_data"
    },
    {
     "name": "stdout",
     "output_type": "stream",
     "text": [
      "#########################\n",
      "### question 11 with features 2120\n",
      "#########################\n"
     ]
    },
    {
     "name": "stderr",
     "output_type": "stream",
     "text": [
      "Warning: less than 75% gpu memory available for training. Free: 7100.5625 Total: 10001.3125\n"
     ]
    },
    {
     "name": "stdout",
     "output_type": "stream",
     "text": [
      "1 , "
     ]
    },
    {
     "name": "stderr",
     "output_type": "stream",
     "text": [
      "Warning: less than 75% gpu memory available for training. Free: 7110.4375 Total: 10001.3125\n"
     ]
    },
    {
     "name": "stdout",
     "output_type": "stream",
     "text": [
      "2 , "
     ]
    },
    {
     "name": "stderr",
     "output_type": "stream",
     "text": [
      "Warning: less than 75% gpu memory available for training. Free: 7089.5625 Total: 10001.3125\n"
     ]
    },
    {
     "name": "stdout",
     "output_type": "stream",
     "text": [
      "3 , "
     ]
    },
    {
     "name": "stderr",
     "output_type": "stream",
     "text": [
      "Warning: less than 75% gpu memory available for training. Free: 7126.125 Total: 10001.3125\n"
     ]
    },
    {
     "name": "stdout",
     "output_type": "stream",
     "text": [
      "4 , "
     ]
    },
    {
     "name": "stderr",
     "output_type": "stream",
     "text": [
      "Warning: less than 75% gpu memory available for training. Free: 7105.8125 Total: 10001.3125\n"
     ]
    },
    {
     "name": "stdout",
     "output_type": "stream",
     "text": [
      "5 , \n"
     ]
    },
    {
     "data": {
      "text/html": [
       "<div>\n",
       "<style scoped>\n",
       "    .dataframe tbody tr th:only-of-type {\n",
       "        vertical-align: middle;\n",
       "    }\n",
       "\n",
       "    .dataframe tbody tr th {\n",
       "        vertical-align: top;\n",
       "    }\n",
       "\n",
       "    .dataframe thead th {\n",
       "        text-align: right;\n",
       "    }\n",
       "</style>\n",
       "<table border=\"1\" class=\"dataframe\">\n",
       "  <thead>\n",
       "    <tr style=\"text-align: right;\">\n",
       "      <th></th>\n",
       "      <th>mean</th>\n",
       "    </tr>\n",
       "    <tr>\n",
       "      <th>feature</th>\n",
       "      <th></th>\n",
       "    </tr>\n",
       "  </thead>\n",
       "  <tbody>\n",
       "    <tr>\n",
       "      <th>11_LEVEL_count</th>\n",
       "      <td>1.736009</td>\n",
       "    </tr>\n",
       "    <tr>\n",
       "      <th>session_number_</th>\n",
       "      <td>1.480150</td>\n",
       "    </tr>\n",
       "    <tr>\n",
       "      <th>word_std_this</th>\n",
       "      <td>0.803184</td>\n",
       "    </tr>\n",
       "    <tr>\n",
       "      <th>reader_fqid_counts</th>\n",
       "      <td>0.684768</td>\n",
       "    </tr>\n",
       "    <tr>\n",
       "      <th>journals.hub.topics_fqid_counts</th>\n",
       "      <td>0.616974</td>\n",
       "    </tr>\n",
       "    <tr>\n",
       "      <th>tunic.historicalsociety.frontdesk_room_fqid_counts</th>\n",
       "      <td>0.616200</td>\n",
       "    </tr>\n",
       "    <tr>\n",
       "      <th>object_click_basic_ET_sum_</th>\n",
       "      <td>0.583594</td>\n",
       "    </tr>\n",
       "    <tr>\n",
       "      <th>object_click_basic_event_name_counts</th>\n",
       "      <td>0.583260</td>\n",
       "    </tr>\n",
       "    <tr>\n",
       "      <th>tunic.historicalsociety.stacks_room_fqid_counts</th>\n",
       "      <td>0.551596</td>\n",
       "    </tr>\n",
       "    <tr>\n",
       "      <th>event_name_unique_</th>\n",
       "      <td>0.547787</td>\n",
       "    </tr>\n",
       "  </tbody>\n",
       "</table>\n",
       "</div>"
      ],
      "text/plain": [
       "                                                        mean\n",
       "feature                                                     \n",
       "11_LEVEL_count                                      1.736009\n",
       "session_number_                                     1.480150\n",
       "word_std_this                                       0.803184\n",
       "reader_fqid_counts                                  0.684768\n",
       "journals.hub.topics_fqid_counts                     0.616974\n",
       "tunic.historicalsociety.frontdesk_room_fqid_counts  0.616200\n",
       "object_click_basic_ET_sum_                          0.583594\n",
       "object_click_basic_event_name_counts                0.583260\n",
       "tunic.historicalsociety.stacks_room_fqid_counts     0.551596\n",
       "event_name_unique_                                  0.547787"
      ]
     },
     "metadata": {},
     "output_type": "display_data"
    },
    {
     "name": "stdout",
     "output_type": "stream",
     "text": [
      "#########################\n",
      "### question 12 with features 2120\n",
      "#########################\n"
     ]
    },
    {
     "name": "stderr",
     "output_type": "stream",
     "text": [
      "Warning: less than 75% gpu memory available for training. Free: 7124.9375 Total: 10001.3125\n"
     ]
    },
    {
     "name": "stdout",
     "output_type": "stream",
     "text": [
      "1 , "
     ]
    },
    {
     "name": "stderr",
     "output_type": "stream",
     "text": [
      "Warning: less than 75% gpu memory available for training. Free: 6804 Total: 10001.3125\n"
     ]
    },
    {
     "name": "stdout",
     "output_type": "stream",
     "text": [
      "2 , "
     ]
    },
    {
     "name": "stderr",
     "output_type": "stream",
     "text": [
      "Warning: less than 75% gpu memory available for training. Free: 6829.75 Total: 10001.3125\n"
     ]
    },
    {
     "name": "stdout",
     "output_type": "stream",
     "text": [
      "3 , "
     ]
    },
    {
     "name": "stderr",
     "output_type": "stream",
     "text": [
      "Warning: less than 75% gpu memory available for training. Free: 7025.6875 Total: 10001.3125\n"
     ]
    },
    {
     "name": "stdout",
     "output_type": "stream",
     "text": [
      "4 , "
     ]
    },
    {
     "name": "stderr",
     "output_type": "stream",
     "text": [
      "Warning: less than 75% gpu memory available for training. Free: 7059.125 Total: 10001.3125\n"
     ]
    },
    {
     "name": "stdout",
     "output_type": "stream",
     "text": [
      "5 , \n"
     ]
    },
    {
     "data": {
      "text/html": [
       "<div>\n",
       "<style scoped>\n",
       "    .dataframe tbody tr th:only-of-type {\n",
       "        vertical-align: middle;\n",
       "    }\n",
       "\n",
       "    .dataframe tbody tr th {\n",
       "        vertical-align: top;\n",
       "    }\n",
       "\n",
       "    .dataframe thead th {\n",
       "        text-align: right;\n",
       "    }\n",
       "</style>\n",
       "<table border=\"1\" class=\"dataframe\">\n",
       "  <thead>\n",
       "    <tr style=\"text-align: right;\">\n",
       "      <th></th>\n",
       "      <th>mean</th>\n",
       "    </tr>\n",
       "    <tr>\n",
       "      <th>feature</th>\n",
       "      <th></th>\n",
       "    </tr>\n",
       "  </thead>\n",
       "  <tbody>\n",
       "    <tr>\n",
       "      <th>session_number_</th>\n",
       "      <td>1.124845</td>\n",
       "    </tr>\n",
       "    <tr>\n",
       "      <th>11_LEVEL_count</th>\n",
       "      <td>1.053485</td>\n",
       "    </tr>\n",
       "    <tr>\n",
       "      <th>hover_duration_q75_</th>\n",
       "      <td>0.984334</td>\n",
       "    </tr>\n",
       "    <tr>\n",
       "      <th>tunic.historicalsociety.closet_dirty.door_block_talk_text_fqid_counts</th>\n",
       "      <td>0.761217</td>\n",
       "    </tr>\n",
       "    <tr>\n",
       "      <th>tunic.historicalsociety.frontdesk.archivist.foundtheodora_text_fqid_counts</th>\n",
       "      <td>0.744791</td>\n",
       "    </tr>\n",
       "    <tr>\n",
       "      <th>9_LEVEL_count</th>\n",
       "      <td>0.698712</td>\n",
       "    </tr>\n",
       "    <tr>\n",
       "      <th>word_found</th>\n",
       "      <td>0.675257</td>\n",
       "    </tr>\n",
       "    <tr>\n",
       "      <th>word_sum_Gramps</th>\n",
       "      <td>0.593708</td>\n",
       "    </tr>\n",
       "    <tr>\n",
       "      <th>journals_ET_sum_next_</th>\n",
       "      <td>0.516537</td>\n",
       "    </tr>\n",
       "    <tr>\n",
       "      <th>tunic.historicalsociety.closet_dirty.gramps.nothing_text_fqid_counts</th>\n",
       "      <td>0.488386</td>\n",
       "    </tr>\n",
       "  </tbody>\n",
       "</table>\n",
       "</div>"
      ],
      "text/plain": [
       "                                                        mean\n",
       "feature                                                     \n",
       "session_number_                                     1.124845\n",
       "11_LEVEL_count                                      1.053485\n",
       "hover_duration_q75_                                 0.984334\n",
       "tunic.historicalsociety.closet_dirty.door_block...  0.761217\n",
       "tunic.historicalsociety.frontdesk.archivist.fou...  0.744791\n",
       "9_LEVEL_count                                       0.698712\n",
       "word_found                                          0.675257\n",
       "word_sum_Gramps                                     0.593708\n",
       "journals_ET_sum_next_                               0.516537\n",
       "tunic.historicalsociety.closet_dirty.gramps.not...  0.488386"
      ]
     },
     "metadata": {},
     "output_type": "display_data"
    },
    {
     "name": "stdout",
     "output_type": "stream",
     "text": [
      "#########################\n",
      "### question 13 with features 2120\n",
      "#########################\n"
     ]
    },
    {
     "name": "stderr",
     "output_type": "stream",
     "text": [
      "Warning: less than 75% gpu memory available for training. Free: 7164.9375 Total: 10001.3125\n"
     ]
    },
    {
     "name": "stdout",
     "output_type": "stream",
     "text": [
      "1 , "
     ]
    },
    {
     "name": "stderr",
     "output_type": "stream",
     "text": [
      "Warning: less than 75% gpu memory available for training. Free: 7210.8125 Total: 10001.3125\n"
     ]
    },
    {
     "name": "stdout",
     "output_type": "stream",
     "text": [
      "2 , "
     ]
    },
    {
     "name": "stderr",
     "output_type": "stream",
     "text": [
      "Warning: less than 75% gpu memory available for training. Free: 7214.4375 Total: 10001.3125\n"
     ]
    },
    {
     "name": "stdout",
     "output_type": "stream",
     "text": [
      "3 , "
     ]
    },
    {
     "name": "stderr",
     "output_type": "stream",
     "text": [
      "Warning: less than 75% gpu memory available for training. Free: 7192 Total: 10001.3125\n"
     ]
    },
    {
     "name": "stdout",
     "output_type": "stream",
     "text": [
      "4 , "
     ]
    },
    {
     "name": "stderr",
     "output_type": "stream",
     "text": [
      "Warning: less than 75% gpu memory available for training. Free: 7195.1875 Total: 10001.3125\n"
     ]
    },
    {
     "name": "stdout",
     "output_type": "stream",
     "text": [
      "5 , \n"
     ]
    },
    {
     "data": {
      "text/html": [
       "<div>\n",
       "<style scoped>\n",
       "    .dataframe tbody tr th:only-of-type {\n",
       "        vertical-align: middle;\n",
       "    }\n",
       "\n",
       "    .dataframe tbody tr th {\n",
       "        vertical-align: top;\n",
       "    }\n",
       "\n",
       "    .dataframe thead th {\n",
       "        text-align: right;\n",
       "    }\n",
       "</style>\n",
       "<table border=\"1\" class=\"dataframe\">\n",
       "  <thead>\n",
       "    <tr style=\"text-align: right;\">\n",
       "      <th></th>\n",
       "      <th>mean</th>\n",
       "    </tr>\n",
       "    <tr>\n",
       "      <th>feature</th>\n",
       "      <th></th>\n",
       "    </tr>\n",
       "  </thead>\n",
       "  <tbody>\n",
       "    <tr>\n",
       "      <th>object_click_basic_event_name_counts</th>\n",
       "      <td>2.743913</td>\n",
       "    </tr>\n",
       "    <tr>\n",
       "      <th>object_click_basic_ET_sum_next_</th>\n",
       "      <td>1.529779</td>\n",
       "    </tr>\n",
       "    <tr>\n",
       "      <th>object_click_basic_ET_sum_</th>\n",
       "      <td>1.288159</td>\n",
       "    </tr>\n",
       "    <tr>\n",
       "      <th>11_LEVEL_count</th>\n",
       "      <td>1.045645</td>\n",
       "    </tr>\n",
       "    <tr>\n",
       "      <th>room_fqid_unique_</th>\n",
       "      <td>1.008116</td>\n",
       "    </tr>\n",
       "    <tr>\n",
       "      <th>month</th>\n",
       "      <td>0.724938</td>\n",
       "    </tr>\n",
       "    <tr>\n",
       "      <th>businesscards_fqid_counts</th>\n",
       "      <td>0.689985</td>\n",
       "    </tr>\n",
       "    <tr>\n",
       "      <th>tunic.library.frontdesk.worker.droppedbadge_text_fqid_counts</th>\n",
       "      <td>0.673328</td>\n",
       "    </tr>\n",
       "    <tr>\n",
       "      <th>reader.paper1.next_ET_sum_next_</th>\n",
       "      <td>0.645611</td>\n",
       "    </tr>\n",
       "    <tr>\n",
       "      <th>tunic.historicalsociety.stacks.journals.pic_2.bingo_ET_q25_next_</th>\n",
       "      <td>0.616944</td>\n",
       "    </tr>\n",
       "  </tbody>\n",
       "</table>\n",
       "</div>"
      ],
      "text/plain": [
       "                                                        mean\n",
       "feature                                                     \n",
       "object_click_basic_event_name_counts                2.743913\n",
       "object_click_basic_ET_sum_next_                     1.529779\n",
       "object_click_basic_ET_sum_                          1.288159\n",
       "11_LEVEL_count                                      1.045645\n",
       "room_fqid_unique_                                   1.008116\n",
       "month                                               0.724938\n",
       "businesscards_fqid_counts                           0.689985\n",
       "tunic.library.frontdesk.worker.droppedbadge_tex...  0.673328\n",
       "reader.paper1.next_ET_sum_next_                     0.645611\n",
       "tunic.historicalsociety.stacks.journals.pic_2.b...  0.616944"
      ]
     },
     "metadata": {},
     "output_type": "display_data"
    },
    {
     "name": "stdout",
     "output_type": "stream",
     "text": [
      "#########################\n",
      "### question 14 with features 2423\n",
      "#########################\n"
     ]
    },
    {
     "name": "stderr",
     "output_type": "stream",
     "text": [
      "Warning: less than 75% gpu memory available for training. Free: 7185.125 Total: 10001.3125\n"
     ]
    },
    {
     "name": "stdout",
     "output_type": "stream",
     "text": [
      "1 , "
     ]
    },
    {
     "name": "stderr",
     "output_type": "stream",
     "text": [
      "Warning: less than 75% gpu memory available for training. Free: 7206.875 Total: 10001.3125\n"
     ]
    },
    {
     "name": "stdout",
     "output_type": "stream",
     "text": [
      "2 , "
     ]
    },
    {
     "name": "stderr",
     "output_type": "stream",
     "text": [
      "Warning: less than 75% gpu memory available for training. Free: 7194.4375 Total: 10001.3125\n"
     ]
    },
    {
     "name": "stdout",
     "output_type": "stream",
     "text": [
      "3 , "
     ]
    },
    {
     "name": "stderr",
     "output_type": "stream",
     "text": [
      "Warning: less than 75% gpu memory available for training. Free: 7206.375 Total: 10001.3125\n"
     ]
    },
    {
     "name": "stdout",
     "output_type": "stream",
     "text": [
      "4 , "
     ]
    },
    {
     "name": "stderr",
     "output_type": "stream",
     "text": [
      "Warning: less than 75% gpu memory available for training. Free: 7206.375 Total: 10001.3125\n"
     ]
    },
    {
     "name": "stdout",
     "output_type": "stream",
     "text": [
      "5 , \n"
     ]
    },
    {
     "data": {
      "text/html": [
       "<div>\n",
       "<style scoped>\n",
       "    .dataframe tbody tr th:only-of-type {\n",
       "        vertical-align: middle;\n",
       "    }\n",
       "\n",
       "    .dataframe tbody tr th {\n",
       "        vertical-align: top;\n",
       "    }\n",
       "\n",
       "    .dataframe thead th {\n",
       "        text-align: right;\n",
       "    }\n",
       "</style>\n",
       "<table border=\"1\" class=\"dataframe\">\n",
       "  <thead>\n",
       "    <tr style=\"text-align: right;\">\n",
       "      <th></th>\n",
       "      <th>mean</th>\n",
       "    </tr>\n",
       "    <tr>\n",
       "      <th>feature</th>\n",
       "      <th></th>\n",
       "    </tr>\n",
       "  </thead>\n",
       "  <tbody>\n",
       "    <tr>\n",
       "      <th>20_LEVEL_count</th>\n",
       "      <td>2.135610</td>\n",
       "    </tr>\n",
       "    <tr>\n",
       "      <th>tunic.historicalsociety.frontdesk.archivist_glasses.confrontation_recap_text_fqid_counts</th>\n",
       "      <td>1.907724</td>\n",
       "    </tr>\n",
       "    <tr>\n",
       "      <th>session_number_</th>\n",
       "      <td>1.086056</td>\n",
       "    </tr>\n",
       "    <tr>\n",
       "      <th>room_fqid_unique_</th>\n",
       "      <td>1.001044</td>\n",
       "    </tr>\n",
       "    <tr>\n",
       "      <th>tracks_ET_sum_</th>\n",
       "      <td>0.965193</td>\n",
       "    </tr>\n",
       "    <tr>\n",
       "      <th>tunic.flaghouse.entry.flag_girl.symbol_recap_ET_sum_</th>\n",
       "      <td>0.694047</td>\n",
       "    </tr>\n",
       "    <tr>\n",
       "      <th>tracks_fqid_counts</th>\n",
       "      <td>0.619830</td>\n",
       "    </tr>\n",
       "    <tr>\n",
       "      <th>map_click_close_event_name_counts</th>\n",
       "      <td>0.537624</td>\n",
       "    </tr>\n",
       "    <tr>\n",
       "      <th>colorbook_ET_q75_next_</th>\n",
       "      <td>0.465616</td>\n",
       "    </tr>\n",
       "    <tr>\n",
       "      <th>tunic.flaghouse.entry_room_fqid_counts</th>\n",
       "      <td>0.457109</td>\n",
       "    </tr>\n",
       "  </tbody>\n",
       "</table>\n",
       "</div>"
      ],
      "text/plain": [
       "                                                        mean\n",
       "feature                                                     \n",
       "20_LEVEL_count                                      2.135610\n",
       "tunic.historicalsociety.frontdesk.archivist_gla...  1.907724\n",
       "session_number_                                     1.086056\n",
       "room_fqid_unique_                                   1.001044\n",
       "tracks_ET_sum_                                      0.965193\n",
       "tunic.flaghouse.entry.flag_girl.symbol_recap_ET...  0.694047\n",
       "tracks_fqid_counts                                  0.619830\n",
       "map_click_close_event_name_counts                   0.537624\n",
       "colorbook_ET_q75_next_                              0.465616\n",
       "tunic.flaghouse.entry_room_fqid_counts              0.457109"
      ]
     },
     "metadata": {},
     "output_type": "display_data"
    },
    {
     "name": "stdout",
     "output_type": "stream",
     "text": [
      "#########################\n",
      "### question 15 with features 2423\n",
      "#########################\n"
     ]
    },
    {
     "name": "stderr",
     "output_type": "stream",
     "text": [
      "Warning: less than 75% gpu memory available for training. Free: 7206.375 Total: 10001.3125\n"
     ]
    },
    {
     "name": "stdout",
     "output_type": "stream",
     "text": [
      "1 , "
     ]
    },
    {
     "name": "stderr",
     "output_type": "stream",
     "text": [
      "Warning: less than 75% gpu memory available for training. Free: 7206.375 Total: 10001.3125\n"
     ]
    },
    {
     "name": "stdout",
     "output_type": "stream",
     "text": [
      "2 , "
     ]
    },
    {
     "name": "stderr",
     "output_type": "stream",
     "text": [
      "Warning: less than 75% gpu memory available for training. Free: 7206.375 Total: 10001.3125\n"
     ]
    },
    {
     "name": "stdout",
     "output_type": "stream",
     "text": [
      "3 , "
     ]
    },
    {
     "name": "stderr",
     "output_type": "stream",
     "text": [
      "Warning: less than 75% gpu memory available for training. Free: 7206.375 Total: 10001.3125\n"
     ]
    },
    {
     "name": "stdout",
     "output_type": "stream",
     "text": [
      "4 , "
     ]
    },
    {
     "name": "stderr",
     "output_type": "stream",
     "text": [
      "Warning: less than 75% gpu memory available for training. Free: 7206.375 Total: 10001.3125\n"
     ]
    },
    {
     "name": "stdout",
     "output_type": "stream",
     "text": [
      "5 , \n"
     ]
    },
    {
     "data": {
      "text/html": [
       "<div>\n",
       "<style scoped>\n",
       "    .dataframe tbody tr th:only-of-type {\n",
       "        vertical-align: middle;\n",
       "    }\n",
       "\n",
       "    .dataframe tbody tr th {\n",
       "        vertical-align: top;\n",
       "    }\n",
       "\n",
       "    .dataframe thead th {\n",
       "        text-align: right;\n",
       "    }\n",
       "</style>\n",
       "<table border=\"1\" class=\"dataframe\">\n",
       "  <thead>\n",
       "    <tr style=\"text-align: right;\">\n",
       "      <th></th>\n",
       "      <th>mean</th>\n",
       "    </tr>\n",
       "    <tr>\n",
       "      <th>feature</th>\n",
       "      <th></th>\n",
       "    </tr>\n",
       "  </thead>\n",
       "  <tbody>\n",
       "    <tr>\n",
       "      <th>tunic.historicalsociety.frontdesk.archivist_glasses.confrontation_recap_text_fqid_counts</th>\n",
       "      <td>1.386157</td>\n",
       "    </tr>\n",
       "    <tr>\n",
       "      <th>session_number_</th>\n",
       "      <td>1.225129</td>\n",
       "    </tr>\n",
       "    <tr>\n",
       "      <th>tunic.flaghouse.entry.flag_girl.symbol_recap_ET_sum_</th>\n",
       "      <td>1.060548</td>\n",
       "    </tr>\n",
       "    <tr>\n",
       "      <th>tunic.historicalsociety.entry.groupconvo_flag_ET_q25_next_</th>\n",
       "      <td>0.895031</td>\n",
       "    </tr>\n",
       "    <tr>\n",
       "      <th>tunic.historicalsociety.entry.groupconvo_flag_ET_median_next_</th>\n",
       "      <td>0.847445</td>\n",
       "    </tr>\n",
       "    <tr>\n",
       "      <th>word_to</th>\n",
       "      <td>0.822524</td>\n",
       "    </tr>\n",
       "    <tr>\n",
       "      <th>tunic.historicalsociety.entry.groupconvo_flag_ET_q25_</th>\n",
       "      <td>0.767250</td>\n",
       "    </tr>\n",
       "    <tr>\n",
       "      <th>tunic.library.frontdesk.worker.flag_recap_text_fqid_counts</th>\n",
       "      <td>0.643055</td>\n",
       "    </tr>\n",
       "    <tr>\n",
       "      <th>room_fqid_unique_</th>\n",
       "      <td>0.638508</td>\n",
       "    </tr>\n",
       "    <tr>\n",
       "      <th>tunic.flaghouse.entry.colorbook_ET_median_</th>\n",
       "      <td>0.576513</td>\n",
       "    </tr>\n",
       "  </tbody>\n",
       "</table>\n",
       "</div>"
      ],
      "text/plain": [
       "                                                        mean\n",
       "feature                                                     \n",
       "tunic.historicalsociety.frontdesk.archivist_gla...  1.386157\n",
       "session_number_                                     1.225129\n",
       "tunic.flaghouse.entry.flag_girl.symbol_recap_ET...  1.060548\n",
       "tunic.historicalsociety.entry.groupconvo_flag_E...  0.895031\n",
       "tunic.historicalsociety.entry.groupconvo_flag_E...  0.847445\n",
       "word_to                                             0.822524\n",
       "tunic.historicalsociety.entry.groupconvo_flag_E...  0.767250\n",
       "tunic.library.frontdesk.worker.flag_recap_text_...  0.643055\n",
       "room_fqid_unique_                                   0.638508\n",
       "tunic.flaghouse.entry.colorbook_ET_median_          0.576513"
      ]
     },
     "metadata": {},
     "output_type": "display_data"
    },
    {
     "name": "stdout",
     "output_type": "stream",
     "text": [
      "#########################\n",
      "### question 16 with features 2423\n",
      "#########################\n"
     ]
    },
    {
     "name": "stderr",
     "output_type": "stream",
     "text": [
      "Warning: less than 75% gpu memory available for training. Free: 7194.875 Total: 10001.3125\n"
     ]
    },
    {
     "name": "stdout",
     "output_type": "stream",
     "text": [
      "1 , "
     ]
    },
    {
     "name": "stderr",
     "output_type": "stream",
     "text": [
      "Warning: less than 75% gpu memory available for training. Free: 7195.1875 Total: 10001.3125\n"
     ]
    },
    {
     "name": "stdout",
     "output_type": "stream",
     "text": [
      "2 , "
     ]
    },
    {
     "name": "stderr",
     "output_type": "stream",
     "text": [
      "Warning: less than 75% gpu memory available for training. Free: 7184.1875 Total: 10001.3125\n"
     ]
    },
    {
     "name": "stdout",
     "output_type": "stream",
     "text": [
      "3 , "
     ]
    },
    {
     "name": "stderr",
     "output_type": "stream",
     "text": [
      "Warning: less than 75% gpu memory available for training. Free: 7169.3125 Total: 10001.3125\n"
     ]
    },
    {
     "name": "stdout",
     "output_type": "stream",
     "text": [
      "4 , "
     ]
    },
    {
     "name": "stderr",
     "output_type": "stream",
     "text": [
      "Warning: less than 75% gpu memory available for training. Free: 7139.8125 Total: 10001.3125\n"
     ]
    },
    {
     "name": "stdout",
     "output_type": "stream",
     "text": [
      "5 , \n"
     ]
    },
    {
     "data": {
      "text/html": [
       "<div>\n",
       "<style scoped>\n",
       "    .dataframe tbody tr th:only-of-type {\n",
       "        vertical-align: middle;\n",
       "    }\n",
       "\n",
       "    .dataframe tbody tr th {\n",
       "        vertical-align: top;\n",
       "    }\n",
       "\n",
       "    .dataframe thead th {\n",
       "        text-align: right;\n",
       "    }\n",
       "</style>\n",
       "<table border=\"1\" class=\"dataframe\">\n",
       "  <thead>\n",
       "    <tr style=\"text-align: right;\">\n",
       "      <th></th>\n",
       "      <th>mean</th>\n",
       "    </tr>\n",
       "    <tr>\n",
       "      <th>feature</th>\n",
       "      <th></th>\n",
       "    </tr>\n",
       "  </thead>\n",
       "  <tbody>\n",
       "    <tr>\n",
       "      <th>19_LEVEL_count</th>\n",
       "      <td>0.744255</td>\n",
       "    </tr>\n",
       "    <tr>\n",
       "      <th>day</th>\n",
       "      <td>0.726757</td>\n",
       "    </tr>\n",
       "    <tr>\n",
       "      <th>month</th>\n",
       "      <td>0.711974</td>\n",
       "    </tr>\n",
       "    <tr>\n",
       "      <th>event_name_unique_</th>\n",
       "      <td>0.615716</td>\n",
       "    </tr>\n",
       "    <tr>\n",
       "      <th>tracks.hub.deer_fqid_counts</th>\n",
       "      <td>0.541675</td>\n",
       "    </tr>\n",
       "    <tr>\n",
       "      <th>tunic.historicalsociety.frontdesk.archivist_glasses.confrontation_recap_text_fqid_counts</th>\n",
       "      <td>0.478401</td>\n",
       "    </tr>\n",
       "    <tr>\n",
       "      <th>15_LEVEL_count</th>\n",
       "      <td>0.424387</td>\n",
       "    </tr>\n",
       "    <tr>\n",
       "      <th>tocage_fqid_counts</th>\n",
       "      <td>0.419033</td>\n",
       "    </tr>\n",
       "    <tr>\n",
       "      <th>journals_flag.hub.topics_fqid_counts</th>\n",
       "      <td>0.397587</td>\n",
       "    </tr>\n",
       "    <tr>\n",
       "      <th>room_fqid_unique_</th>\n",
       "      <td>0.380047</td>\n",
       "    </tr>\n",
       "  </tbody>\n",
       "</table>\n",
       "</div>"
      ],
      "text/plain": [
       "                                                        mean\n",
       "feature                                                     \n",
       "19_LEVEL_count                                      0.744255\n",
       "day                                                 0.726757\n",
       "month                                               0.711974\n",
       "event_name_unique_                                  0.615716\n",
       "tracks.hub.deer_fqid_counts                         0.541675\n",
       "tunic.historicalsociety.frontdesk.archivist_gla...  0.478401\n",
       "15_LEVEL_count                                      0.424387\n",
       "tocage_fqid_counts                                  0.419033\n",
       "journals_flag.hub.topics_fqid_counts                0.397587\n",
       "room_fqid_unique_                                   0.380047"
      ]
     },
     "metadata": {},
     "output_type": "display_data"
    },
    {
     "name": "stdout",
     "output_type": "stream",
     "text": [
      "#########################\n",
      "### question 17 with features 2423\n",
      "#########################\n"
     ]
    },
    {
     "name": "stderr",
     "output_type": "stream",
     "text": [
      "Warning: less than 75% gpu memory available for training. Free: 7085.1875 Total: 10001.3125\n"
     ]
    },
    {
     "name": "stdout",
     "output_type": "stream",
     "text": [
      "1 , "
     ]
    },
    {
     "name": "stderr",
     "output_type": "stream",
     "text": [
      "Warning: less than 75% gpu memory available for training. Free: 7097.1875 Total: 10001.3125\n"
     ]
    },
    {
     "name": "stdout",
     "output_type": "stream",
     "text": [
      "2 , "
     ]
    },
    {
     "name": "stderr",
     "output_type": "stream",
     "text": [
      "Warning: less than 75% gpu memory available for training. Free: 7097.3125 Total: 10001.3125\n"
     ]
    },
    {
     "name": "stdout",
     "output_type": "stream",
     "text": [
      "3 , "
     ]
    },
    {
     "name": "stderr",
     "output_type": "stream",
     "text": [
      "Warning: less than 75% gpu memory available for training. Free: 7097.3125 Total: 10001.3125\n"
     ]
    },
    {
     "name": "stdout",
     "output_type": "stream",
     "text": [
      "4 , "
     ]
    },
    {
     "name": "stderr",
     "output_type": "stream",
     "text": [
      "Warning: less than 75% gpu memory available for training. Free: 7061.6875 Total: 10001.3125\n"
     ]
    },
    {
     "name": "stdout",
     "output_type": "stream",
     "text": [
      "5 , \n"
     ]
    },
    {
     "data": {
      "text/html": [
       "<div>\n",
       "<style scoped>\n",
       "    .dataframe tbody tr th:only-of-type {\n",
       "        vertical-align: middle;\n",
       "    }\n",
       "\n",
       "    .dataframe tbody tr th {\n",
       "        vertical-align: top;\n",
       "    }\n",
       "\n",
       "    .dataframe thead th {\n",
       "        text-align: right;\n",
       "    }\n",
       "</style>\n",
       "<table border=\"1\" class=\"dataframe\">\n",
       "  <thead>\n",
       "    <tr style=\"text-align: right;\">\n",
       "      <th></th>\n",
       "      <th>mean</th>\n",
       "    </tr>\n",
       "    <tr>\n",
       "      <th>feature</th>\n",
       "      <th></th>\n",
       "    </tr>\n",
       "  </thead>\n",
       "  <tbody>\n",
       "    <tr>\n",
       "      <th>journals_flag.pic_0.next_ET_sum_</th>\n",
       "      <td>1.167391</td>\n",
       "    </tr>\n",
       "    <tr>\n",
       "      <th>month</th>\n",
       "      <td>0.806938</td>\n",
       "    </tr>\n",
       "    <tr>\n",
       "      <th>tracks_ET_sum_next_</th>\n",
       "      <td>0.770553</td>\n",
       "    </tr>\n",
       "    <tr>\n",
       "      <th>journals_flag.hub.topics_old_ET_q75_next_</th>\n",
       "      <td>0.670872</td>\n",
       "    </tr>\n",
       "    <tr>\n",
       "      <th>map_click_basic_ET_sum_next_</th>\n",
       "      <td>0.646514</td>\n",
       "    </tr>\n",
       "    <tr>\n",
       "      <th>tunic.historicalsociety.entry_room_fqid_counts</th>\n",
       "      <td>0.638222</td>\n",
       "    </tr>\n",
       "    <tr>\n",
       "      <th>navigate_click_undefined_event_name_counts</th>\n",
       "      <td>0.617523</td>\n",
       "    </tr>\n",
       "    <tr>\n",
       "      <th>tunic.wildlife.center_ET_sum_</th>\n",
       "      <td>0.599100</td>\n",
       "    </tr>\n",
       "    <tr>\n",
       "      <th>tunic.historicalsociety.frontdesk.archivist_glasses.confrontation_recap_text_fqid_counts</th>\n",
       "      <td>0.570247</td>\n",
       "    </tr>\n",
       "    <tr>\n",
       "      <th>journals_flag.pic_0.next_ET_sum_next_</th>\n",
       "      <td>0.558993</td>\n",
       "    </tr>\n",
       "  </tbody>\n",
       "</table>\n",
       "</div>"
      ],
      "text/plain": [
       "                                                        mean\n",
       "feature                                                     \n",
       "journals_flag.pic_0.next_ET_sum_                    1.167391\n",
       "month                                               0.806938\n",
       "tracks_ET_sum_next_                                 0.770553\n",
       "journals_flag.hub.topics_old_ET_q75_next_           0.670872\n",
       "map_click_basic_ET_sum_next_                        0.646514\n",
       "tunic.historicalsociety.entry_room_fqid_counts      0.638222\n",
       "navigate_click_undefined_event_name_counts          0.617523\n",
       "tunic.wildlife.center_ET_sum_                       0.599100\n",
       "tunic.historicalsociety.frontdesk.archivist_gla...  0.570247\n",
       "journals_flag.pic_0.next_ET_sum_next_               0.558993"
      ]
     },
     "metadata": {},
     "output_type": "display_data"
    },
    {
     "name": "stdout",
     "output_type": "stream",
     "text": [
      "#########################\n",
      "### question 18 with features 2423\n",
      "#########################\n"
     ]
    },
    {
     "name": "stderr",
     "output_type": "stream",
     "text": [
      "Warning: less than 75% gpu memory available for training. Free: 7103.6875 Total: 10001.3125\n"
     ]
    },
    {
     "name": "stdout",
     "output_type": "stream",
     "text": [
      "1 , "
     ]
    },
    {
     "name": "stderr",
     "output_type": "stream",
     "text": [
      "Warning: less than 75% gpu memory available for training. Free: 7137.1875 Total: 10001.3125\n"
     ]
    },
    {
     "name": "stdout",
     "output_type": "stream",
     "text": [
      "2 , "
     ]
    },
    {
     "name": "stderr",
     "output_type": "stream",
     "text": [
      "Warning: less than 75% gpu memory available for training. Free: 7137.3125 Total: 10001.3125\n"
     ]
    },
    {
     "name": "stdout",
     "output_type": "stream",
     "text": [
      "3 , "
     ]
    },
    {
     "name": "stderr",
     "output_type": "stream",
     "text": [
      "Warning: less than 75% gpu memory available for training. Free: 7137.3125 Total: 10001.3125\n"
     ]
    },
    {
     "name": "stdout",
     "output_type": "stream",
     "text": [
      "4 , "
     ]
    },
    {
     "name": "stderr",
     "output_type": "stream",
     "text": [
      "Warning: less than 75% gpu memory available for training. Free: 7137.3125 Total: 10001.3125\n"
     ]
    },
    {
     "name": "stdout",
     "output_type": "stream",
     "text": [
      "5 , \n"
     ]
    },
    {
     "data": {
      "text/html": [
       "<div>\n",
       "<style scoped>\n",
       "    .dataframe tbody tr th:only-of-type {\n",
       "        vertical-align: middle;\n",
       "    }\n",
       "\n",
       "    .dataframe tbody tr th {\n",
       "        vertical-align: top;\n",
       "    }\n",
       "\n",
       "    .dataframe thead th {\n",
       "        text-align: right;\n",
       "    }\n",
       "</style>\n",
       "<table border=\"1\" class=\"dataframe\">\n",
       "  <thead>\n",
       "    <tr style=\"text-align: right;\">\n",
       "      <th></th>\n",
       "      <th>mean</th>\n",
       "    </tr>\n",
       "    <tr>\n",
       "      <th>feature</th>\n",
       "      <th></th>\n",
       "    </tr>\n",
       "  </thead>\n",
       "  <tbody>\n",
       "    <tr>\n",
       "      <th>map_click_close_event_name_counts</th>\n",
       "      <td>1.173423</td>\n",
       "    </tr>\n",
       "    <tr>\n",
       "      <th>tunic.historicalsociety.frontdesk.archivist_glasses.confrontation_recap_ET_sum_</th>\n",
       "      <td>1.068853</td>\n",
       "    </tr>\n",
       "    <tr>\n",
       "      <th>tunic.historicalsociety.frontdesk.archivist_glasses.confrontation_recap_text_fqid_counts</th>\n",
       "      <td>1.026387</td>\n",
       "    </tr>\n",
       "    <tr>\n",
       "      <th>tunic.wildlife.center.crane_ranger.crane_ET_std_</th>\n",
       "      <td>0.624509</td>\n",
       "    </tr>\n",
       "    <tr>\n",
       "      <th>map_click_close_ET_sum_</th>\n",
       "      <td>0.584213</td>\n",
       "    </tr>\n",
       "    <tr>\n",
       "      <th>20_LEVEL_count</th>\n",
       "      <td>0.582918</td>\n",
       "    </tr>\n",
       "    <tr>\n",
       "      <th>tunic.flaghouse.entry.flag_girl.symbol_recap_ET_sum_</th>\n",
       "      <td>0.537352</td>\n",
       "    </tr>\n",
       "    <tr>\n",
       "      <th>tunic.library.frontdesk.worker.flag_recap_text_fqid_counts</th>\n",
       "      <td>0.522762</td>\n",
       "    </tr>\n",
       "    <tr>\n",
       "      <th>tunic.library.frontdesk.worker.nelson_recap_text_fqid_counts</th>\n",
       "      <td>0.518205</td>\n",
       "    </tr>\n",
       "    <tr>\n",
       "      <th>tunic.historicalsociety.entry.groupconvo_flag_ET_q25_next_</th>\n",
       "      <td>0.456156</td>\n",
       "    </tr>\n",
       "  </tbody>\n",
       "</table>\n",
       "</div>"
      ],
      "text/plain": [
       "                                                        mean\n",
       "feature                                                     \n",
       "map_click_close_event_name_counts                   1.173423\n",
       "tunic.historicalsociety.frontdesk.archivist_gla...  1.068853\n",
       "tunic.historicalsociety.frontdesk.archivist_gla...  1.026387\n",
       "tunic.wildlife.center.crane_ranger.crane_ET_std_    0.624509\n",
       "map_click_close_ET_sum_                             0.584213\n",
       "20_LEVEL_count                                      0.582918\n",
       "tunic.flaghouse.entry.flag_girl.symbol_recap_ET...  0.537352\n",
       "tunic.library.frontdesk.worker.flag_recap_text_...  0.522762\n",
       "tunic.library.frontdesk.worker.nelson_recap_tex...  0.518205\n",
       "tunic.historicalsociety.entry.groupconvo_flag_E...  0.456156"
      ]
     },
     "metadata": {},
     "output_type": "display_data"
    },
    {
     "name": "stdout",
     "output_type": "stream",
     "text": [
      "CPU times: user 14min 12s, sys: 3min 30s, total: 17min 43s\n",
      "Wall time: 7min 10s\n"
     ]
    }
   ],
   "source": [
    "%%time\n",
    "gkf = GroupKFold(n_splits=5)\n",
    "oof_xgb = pd.DataFrame(data=np.zeros((len(total_train_idx),18)), index=total_train_idx, columns=[f'meta_{i}' for i in range(1, 19)])\n",
    "\n",
    "#models = {}\n",
    "# best_iteration_xgb = defaultdict(list)\n",
    "importance_dict = {}\n",
    "\n",
    "# ITERATE THRU QUESTIONS 1 THRU 18\n",
    "for t in range(1,19):\n",
    "\n",
    "    # USE THIS TRAIN DATA WITH THESE QUESTIONS\n",
    "    if t<=3: \n",
    "        grp = '0-4'\n",
    "        df = df1_train\n",
    "        FEATURES = FEATURES1\n",
    "    elif t<=13: \n",
    "        grp = '5-12'\n",
    "        df = df2_train\n",
    "        FEATURES = FEATURES2\n",
    "    elif t<=22: \n",
    "        grp = '13-22'\n",
    "        df = df3_train\n",
    "        FEATURES = FEATURES3\n",
    "        \n",
    "    print('#'*25)\n",
    "    print('### question', t, 'with features', len(FEATURES))\n",
    "    print('#'*25)\n",
    "    \n",
    "\n",
    "    feature_importance_df = pd.DataFrame()\n",
    "    # COMPUTE CV SCORE WITH 5 GROUP K FOLD\n",
    "    for i, (train_index, val_index) in enumerate(gkf.split(X=df, groups=df.index)):\n",
    "        \n",
    "        # TRAIN DATA\n",
    "        train_x = df.iloc[train_index]\n",
    "        train_users = train_x.index.values\n",
    "        train_y = targets.loc[targets.q==t].set_index('session').loc[train_users]\n",
    "        \n",
    "        # VALID DATA\n",
    "        valid_x = df.iloc[val_index]\n",
    "        valid_users = valid_x.index.values\n",
    "        valid_y = targets.loc[targets.q==t].set_index('session').loc[valid_users]\n",
    "\n",
    "        # TRAIN MODEL        \n",
    "        clf =  CatBoostClassifier(\n",
    "                n_estimators = 300,\n",
    "                learning_rate= 0.045,\n",
    "                depth = 6,\n",
    "                task_type=\"GPU\",\n",
    "            )\n",
    "        clf.fit(train_x[FEATURES].astype('float32'), train_y['correct'],\n",
    "                eval_set=[(valid_x[FEATURES].astype('float32'), valid_y['correct'])],\n",
    "                verbose=0)\n",
    "        print(i+1, ', ', end='')\n",
    "        # best_iteration_xgb[str(t)].append(clf.best_ntree_limit)\n",
    "        \n",
    "        fold_importance_df = pd.DataFrame()\n",
    "        fold_importance_df[\"feature\"] = FEATURES\n",
    "        fold_importance_df[\"importance\"] = clf.feature_importances_\n",
    "        fold_importance_df[\"fold\"] = i + 1\n",
    "        feature_importance_df = pd.concat([feature_importance_df, fold_importance_df], axis=0)\n",
    "        \n",
    "        # SAVE MODEL\n",
    "        # clf.save_model(f'XGB_question{t}_fold{i}.xgb')\n",
    "\n",
    "        # PREDICT VALID OOF\n",
    "        oof_xgb.loc[valid_users, f'meta_{t}'] = clf.predict_proba(valid_x[FEATURES].astype('float32'))[:,1]\n",
    "\n",
    "    print()\n",
    "    feature_importance_df = feature_importance_df.groupby(['feature'])['importance'].agg(['mean']).sort_values(by='mean', ascending=False)\n",
    "    feature_importance_df.to_csv(f'feature_importance_question{t}.csv')\n",
    "    display(feature_importance_df.head(10))"
   ]
  },
  {
   "cell_type": "code",
   "execution_count": 20,
   "id": "3683cbea",
   "metadata": {
    "execution": {
     "iopub.execute_input": "2023-05-26T19:48:11.423754Z",
     "iopub.status.busy": "2023-05-26T19:48:11.422628Z",
     "iopub.status.idle": "2023-05-26T19:48:22.288851Z",
     "shell.execute_reply": "2023-05-26T19:48:22.287697Z"
    },
    "papermill": {
     "duration": 10.893665,
     "end_time": "2023-05-26T19:48:22.291979",
     "exception": false,
     "start_time": "2023-05-26T19:48:11.398314",
     "status": "completed"
    },
    "tags": []
   },
   "outputs": [
    {
     "name": "stdout",
     "output_type": "stream",
     "text": [
      "0.400, 0.405, 0.410, 0.415, 0.420, 0.425, 0.430, 0.435, 0.440, 0.445, 0.450, 0.455, 0.460, 0.465, 0.470, 0.475, 0.480, 0.485, 0.490, 0.495, 0.500, 0.505, 0.510, 0.515, 0.520, 0.525, 0.530, 0.535, 0.540, 0.545, 0.550, 0.555, 0.560, 0.565, 0.570, 0.575, 0.580, 0.585, 0.590, 0.595, 0.600, 0.605, 0.610, 0.615, 0.620, 0.625, 0.630, 0.635, 0.640, 0.645, 0.650, 0.655, 0.660, 0.665, 0.670, 0.675, 0.680, 0.685, 0.690, 0.695, 0.700, 0.705, 0.710, 0.715, 0.720, 0.725, 0.730, 0.735, 0.740, 0.745, 0.750, 0.755, 0.760, 0.765, 0.770, 0.775, 0.780, 0.785, 0.790, 0.795, 0.800, 0.805, "
     ]
    },
    {
     "data": {
      "image/png": "[encoded data removed]",
      "text/plain": [
       "<Figure size 2000x500 with 1 Axes>"
      ]
     },
     "metadata": {},
     "output_type": "display_data"
    }
   ],
   "source": [
    "# For the valid data sets combined\n",
    "true = oof_xgb.copy()\n",
    "\n",
    "for i in range(1, 19):\n",
    "    # GET TRUE LABELS\n",
    "    tmp = targets.loc[targets.q==i].set_index('session').loc[total_train_idx]\n",
    "    true[f'meta_{i}'] = tmp.correct.values\n",
    "\n",
    "# FIND BEST THRESHOLD TO CONVERT PROBS INTO 1s AND 0s\n",
    "scores = []; thresholds = []\n",
    "best_score_xgb = 0; best_threshold_xgb = 0\n",
    "\n",
    "for threshold in np.arange(0.4,0.81,0.005):\n",
    "    print(f'{threshold:.03f}, ',end='')\n",
    "    preds = (oof_xgb.values.reshape((-1))>threshold).astype('int')\n",
    "    m = f1_score(true.values.reshape((-1)), preds, average='macro')   \n",
    "    scores.append(m)\n",
    "    thresholds.append(threshold)\n",
    "    if m>best_score_xgb:\n",
    "        best_score_xgb = m\n",
    "        best_threshold_xgb = threshold\n",
    "\n",
    "# PLOT THRESHOLD VS. F1_SCORE\n",
    "plt.figure(figsize=(20,5))\n",
    "plt.plot(thresholds,scores,'-o',color='blue')\n",
    "plt.scatter([best_threshold_xgb], [best_score_xgb], color='blue', s=300, alpha=1)\n",
    "plt.xlabel('Threshold',size=14)\n",
    "plt.ylabel('Validation F1 Score',size=14)\n",
    "plt.title(f'Valid Sets - Threshold vs. F1_Score with Best F1_Score = {best_score_xgb:.5f} at Best Threshold = {best_threshold_xgb:.4}',size=18)\n",
    "# plt.savefig('BestThreshold.png')\n",
    "plt.show()"
   ]
  },
  {
   "cell_type": "code",
   "execution_count": null,
   "id": "d4e000f3",
   "metadata": {
    "execution": {
     "iopub.execute_input": "2023-05-26T19:48:22.354424Z",
     "iopub.status.busy": "2023-05-26T19:48:22.354040Z",
     "iopub.status.idle": "2023-05-26T19:48:22.468925Z",
     "shell.execute_reply": "2023-05-26T19:48:22.467620Z"
    },
    "papermill": {
     "duration": 0.149447,
     "end_time": "2023-05-26T19:48:22.472961",
     "exception": false,
     "start_time": "2023-05-26T19:48:22.323514",
     "status": "completed"
    },
    "tags": []
   },
   "outputs": [],
   "source": [
    "# Print F1 Scores Question by Question\n",
    "try:\n",
    "    print('When using optimal threshold...')\n",
    "    for k in range(1, 19):\n",
    "\n",
    "        # COMPUTE F1 SCORE PER QUESTION\n",
    "        m = f1_score(true[f'meta_{k}'].values, (oof_xgb[f'meta_{k}'].values>best_threshold_xgb).astype('int'), average='macro')\n",
    "        print(f'Q{k}: F1 =',m)\n",
    "        \n",
    "except:\n",
    "    print('Something went wrong.....')\n",
    "\"\"\" Set all value to one and then get the macro f1 score\n",
    "0.4211237500921308\n",
    "0.49464879356568364\n",
    "0.4829379622111523\n",
    "0.4438989851309889\n",
    "0.35411184210526314\n",
    "0.43692197395148763\n",
    "0.42398239823982403\n",
    "0.3816559506626427\n",
    "0.4240527988266927\n",
    "0.3357390544388374\n",
    "0.3915872646990472\n",
    "0.46321904544936776\n",
    "0.21575023299161228\n",
    "0.4144050104384134\n",
    "0.32479367262723524\n",
    "0.42358783668077404\n",
    "0.4075135787567894\n",
    "0.48734796893017995\n",
    "    \"\"\""
   ]
  },
  {
   "attachments": {},
   "cell_type": "markdown",
   "id": "8a2dd4ca",
   "metadata": {
    "papermill": {
     "duration": 0.030483,
     "end_time": "2023-05-26T19:48:22.534321",
     "exception": false,
     "start_time": "2023-05-26T19:48:22.503838",
     "status": "completed"
    },
    "tags": []
   },
   "source": [
    "Now we use full data to retrain our models with the best iterations, and save them. "
   ]
  },
  {
   "cell_type": "code",
   "execution_count": null,
   "id": "a9f1f7a9",
   "metadata": {},
   "outputs": [],
   "source": [
    "# Save the best iteration_xgb variable\n",
    "f_save = open('best_iteration_xgb.pkl', 'wb')\n",
    "pickle.dump(best_iteration_xgb, f_save)\n",
    "f_save.close()"
   ]
  },
  {
   "cell_type": "code",
   "execution_count": null,
   "id": "920592f8",
   "metadata": {},
   "outputs": [],
   "source": [
    "\"\"\"f_read = open('./Version38/best_iteration_xgb.pkl', 'rb')\n",
    "best_iteration_xgb = pickle.load(f_read)\n",
    "f_read.close()\"\"\"\n",
    "\n",
    "# best_threshold_xgb = 0.63\n"
   ]
  },
  {
   "cell_type": "code",
   "execution_count": null,
   "id": "33ab77c8",
   "metadata": {},
   "outputs": [],
   "source": [
    "# Train the model again with all data but selected features from the cross_val dump into pickle\n",
    "\n",
    "feature_dict={}\n",
    "for t in range(1,19):\n",
    "    feat_tmp = pd.read_csv(f'./feature_importance_question{t}.csv')\n",
    "\n",
    "    if t<=3: \n",
    "        feature_dict[str(t)] = feat_tmp.sort_values(by='mean', ascending=False).loc[1:250, 'feature']\n",
    "        #feature_dict[str(t)]= feature_dict[str(t)].loc[feature_dict[str(t)].isin(FEATURES1)]\n",
    "        \n",
    "    elif t<=13: \n",
    "        feature_dict[str(t)] = feat_tmp.sort_values(by='mean', ascending=False).loc[1:800, 'feature']\n",
    "        #feature_dict[str(t)]= feature_dict[str(t)].loc[feature_dict[str(t)].isin(FEATURES2)]\n",
    "\n",
    "    elif t<=22:\n",
    "        feature_dict[str(t)] = feat_tmp.sort_values(by='mean', ascending=False).loc[1:800, 'feature']\n",
    "        #feature_dict[str(t)]= feature_dict[str(t)].loc[feature_dict[str(t)].isin(FEATURES3)]\n",
    "\n",
    "\n",
    "f_save = open('importance_dict.pkl', 'wb')\n",
    "pickle.dump(feature_dict, f_save)\n",
    "f_save.close()"
   ]
  },
  {
   "cell_type": "code",
   "execution_count": null,
   "id": "c3581882",
   "metadata": {
    "execution": {
     "iopub.execute_input": "2023-05-26T19:48:22.598959Z",
     "iopub.status.busy": "2023-05-26T19:48:22.598532Z",
     "iopub.status.idle": "2023-05-26T19:50:14.311401Z",
     "shell.execute_reply": "2023-05-26T19:50:14.309206Z"
    },
    "papermill": {
     "duration": 111.748995,
     "end_time": "2023-05-26T19:50:14.314429",
     "exception": false,
     "start_time": "2023-05-26T19:48:22.565434",
     "status": "completed"
    },
    "tags": []
   },
   "outputs": [],
   "source": [
    "# Use all the data to train the final model\n",
    "\n",
    "# ITERATE THRU QUESTIONS 1 THRU 18\n",
    "for t in range(1,19):\n",
    "\n",
    "    # USE THIS TRAIN DATA WITH THESE QUESTIONS\n",
    "    if t<=3: \n",
    "        grp = '0-4'\n",
    "        df = df1_train\n",
    "        FEATURES = feature_dict[str(t)]\n",
    "    elif t<=13: \n",
    "        grp = '5-12'\n",
    "        df = df2_train\n",
    "        FEATURES = feature_dict[str(t)]\n",
    "    elif t<=22: \n",
    "        grp = '13-22'\n",
    "        df = df3_train\n",
    "        FEATURES = feature_dict[str(t)]\n",
    "    \n",
    "    n_estimators = int(np.median(best_iteration_xgb[str(t)]) + 1)\n",
    "    xgb_params = {\n",
    "        'objective': 'binary:logistic',\n",
    "        'tree_method': 'gpu_hist',\n",
    "        'eval_metric':'logloss',\n",
    "        'learning_rate': 0.02,\n",
    "        'alpha': 8,\n",
    "        'max_depth': 4,\n",
    "        'n_estimators': n_estimators,\n",
    "        'subsample':0.8,\n",
    "        'colsample_bytree': 0.5,\n",
    "        'use_label_encoder': False\n",
    "    }\n",
    "    \n",
    "    print('#'*25)\n",
    "    print(f'### question {t} features {len(FEATURES)}')\n",
    "        \n",
    "    # TRAIN DATA\n",
    "    train_users = df.index.values\n",
    "    train_y = targets.loc[targets.q==t].set_index('session').loc[train_users]\n",
    "\n",
    "    # TRAIN MODEL        \n",
    "    clf =  XGBClassifier(**xgb_params)\n",
    "    clf.fit(df[FEATURES].astype('float32'), train_y['correct'], verbose=0)\n",
    "    clf.save_model(f'XGB_question{t}.xgb')\n",
    "    \n",
    "    print()"
   ]
  },
  {
   "attachments": {},
   "cell_type": "markdown",
   "id": "a214d997",
   "metadata": {
    "papermill": {
     "duration": 0.032027,
     "end_time": "2023-05-26T19:50:14.382872",
     "exception": false,
     "start_time": "2023-05-26T19:50:14.350845",
     "status": "completed"
    },
    "tags": []
   },
   "source": [
    "We save features names as dict for each questions"
   ]
  },
  {
   "cell_type": "code",
   "execution_count": null,
   "id": "8505f4bd",
   "metadata": {},
   "outputs": [],
   "source": [
    "import eli5\n",
    "from eli5.sklearn import PermutationImportance"
   ]
  },
  {
   "cell_type": "code",
   "execution_count": null,
   "id": "fcd301d3",
   "metadata": {},
   "outputs": [],
   "source": [
    "# For the test set that were ruled out before training\n",
    "# All zeros\n",
    "test_xgb = pd.DataFrame(data=np.zeros((len(total_test_idx),18)), index=total_test_idx, columns=[f'meta_{i}' for i in range(1, 19)])\n",
    "\n",
    "# Copy to store true value\n",
    "true = test_xgb.copy()\n",
    "\n",
    "for t in range(1, 19):\n",
    "    # GET TRUE LABELS\n",
    "    tmp = targets.loc[targets.q==t].set_index('session').loc[total_test_idx]\n",
    "    true[f'meta_{t}'] = tmp.correct.values\n",
    "\n",
    "    # PREDICT THE PROBA OF LABELS\n",
    "    # USE THIS TRAIN DATA WITH THESE QUESTIONS\n",
    "    if t<=3: \n",
    "        grp = '0-4'\n",
    "        df = df1_test\n",
    "        FEATURES = feature_dict[str(t)]\n",
    "    elif t<=13: \n",
    "        grp = '5-12'\n",
    "        df = df2_test\n",
    "        FEATURES = feature_dict[str(t)]\n",
    "    elif t<=22: \n",
    "        grp = '13-22'\n",
    "        df = df3_test\n",
    "        FEATURES = feature_dict[str(t)]\n",
    "    \n",
    "    model = XGBClassifier()\n",
    "    model.load_model(f'./XGB_question{t}.xgb')\n",
    "    test_xgb.loc[total_test_idx, f'meta_{t}'] = model.predict_proba(df[FEATURES].astype('float32'))[:,1]\n",
    "    # F1 Score for each question\n",
    "    #qm = f1_score(true[f'meta_{t}'].values, model.predict_proba(df[FEATURES].astype('float32'))[:,1]>best_threshold_xgb.astype(int), average='macro')\n",
    "    #print(f'The question{t} f1 score for the test set is: {qm}')\n",
    "    # perm = PermutationImportance(model, random_state=1).fit(df[FEATURES].astype('float32'), true[f'meta_{t}'])\n",
    "\n",
    "preds = (test_xgb.values.reshape((-1))>best_threshold_xgb).astype('int')\n",
    "m = f1_score(true.values.reshape((-1)), preds, average='macro')   \n",
    "\n",
    "print(f'The overall f1 score for the test set is: {m}')"
   ]
  },
  {
   "cell_type": "code",
   "execution_count": null,
   "id": "289740c8",
   "metadata": {},
   "outputs": [],
   "source": [
    "eli5.show_weights"
   ]
  },
  {
   "cell_type": "code",
   "execution_count": null,
   "id": "82b9df90",
   "metadata": {},
   "outputs": [],
   "source": [
    "# FINALLY Train models with all the data for submission\n",
    "# Use all the data to train the final model\n",
    "\n",
    "# ITERATE THRU QUESTIONS 1 THRU 18\n",
    "for t in range(1,19):\n",
    "\n",
    "    # USE THIS TRAIN DATA WITH THESE QUESTIONS\n",
    "    if t<=3: \n",
    "        grp = '0-4'\n",
    "        df = df1\n",
    "        FEATURES = feature_dict[str(t)]\n",
    "    elif t<=13: \n",
    "        grp = '5-12'\n",
    "        df = df2\n",
    "        FEATURES = feature_dict[str(t)]\n",
    "    elif t<=22: \n",
    "        grp = '13-22'\n",
    "        df = df3\n",
    "        FEATURES = feature_dict[str(t)]\n",
    "    \n",
    "    n_estimators = int(np.median(best_iteration_xgb[str(t)]) + 1)\n",
    "    xgb_params = {\n",
    "        'objective': 'binary:logistic',\n",
    "        'tree_method': 'gpu_hist',\n",
    "        'eval_metric':'logloss',\n",
    "        'learning_rate': 0.02,\n",
    "        'alpha': 8,\n",
    "        'max_depth': 4,\n",
    "        'n_estimators': n_estimators,\n",
    "        'subsample':0.8,\n",
    "        'colsample_bytree': 0.5,\n",
    "        'use_label_encoder': False\n",
    "    }\n",
    "    \n",
    "    print('#'*25)\n",
    "    print(f'### question {t} features {len(FEATURES)}')\n",
    "        \n",
    "    # TRAIN DATA\n",
    "    train_users = df.index.values\n",
    "    train_y = targets.loc[targets.q==t].set_index('session').loc[train_users]\n",
    "\n",
    "    # TRAIN MODEL        \n",
    "    clf =  XGBClassifier(**xgb_params)\n",
    "    clf.fit(df[FEATURES].astype('float32'), train_y['correct'], verbose=0)\n",
    "    clf.save_model(f'XGB_question_final{t}.xgb')\n",
    "    \n",
    "    print()"
   ]
  }
 ],
 "metadata": {
  "kernelspec": {
   "display_name": "Python 3",
   "language": "python",
   "name": "python3"
  },
  "language_info": {
   "codemirror_mode": {
    "name": "ipython",
    "version": 3
   },
   "file_extension": ".py",
   "mimetype": "text/x-python",
   "name": "python",
   "nbconvert_exporter": "python",
   "pygments_lexer": "ipython3",
   "version": "3.7.16"
  },
  "papermill": {
   "default_parameters": {},
   "duration": 1271.756829,
   "end_time": "2023-05-26T19:50:16.871175",
   "environment_variables": {},
   "exception": null,
   "input_path": "__notebook__.ipynb",
   "output_path": "__notebook__.ipynb",
   "parameters": {},
   "start_time": "2023-05-26T19:29:05.114346",
   "version": "2.4.0"
  },
  "widgets": {
   "application/vnd.jupyter.widget-state+json": {
    "state": {
     "0c646c8cb8e54fe6a7b721bf6e906e75": {
      "model_module": "@jupyter-widgets/controls",
      "model_module_version": "1.5.0",
      "model_name": "ProgressStyleModel",
      "state": {
       "_model_module": "@jupyter-widgets/controls",
       "_model_module_version": "1.5.0",
       "_model_name": "ProgressStyleModel",
       "_view_count": null,
       "_view_module": "@jupyter-widgets/base",
       "_view_module_version": "1.2.0",
       "_view_name": "StyleView",
       "bar_color": null,
       "description_width": ""
      }
     },
     "1e907458f37d48108225f32421597538": {
      "model_module": "@jupyter-widgets/controls",
      "model_module_version": "1.5.0",
      "model_name": "HTMLModel",
      "state": {
       "_dom_classes": [],
       "_model_module": "@jupyter-widgets/controls",
       "_model_module_version": "1.5.0",
       "_model_name": "HTMLModel",
       "_view_count": null,
       "_view_module": "@jupyter-widgets/controls",
       "_view_module_version": "1.5.0",
       "_view_name": "HTMLView",
       "description": "",
       "description_tooltip": null,
       "layout": "IPY_MODEL_9837b877e7c34394afba46833239d5e2",
       "placeholder": "​",
       "style": "IPY_MODEL_9ab0eea0d2434332a8f368318bf9d0de",
       "value": " 2032/2032 [00:01&lt;00:00, 1864.95it/s]"
      }
     },
     "21e2617f371b40acbe17d5a18b67c1bb": {
      "model_module": "@jupyter-widgets/controls",
      "model_module_version": "1.5.0",
      "model_name": "HTMLModel",
      "state": {
       "_dom_classes": [],
       "_model_module": "@jupyter-widgets/controls",
       "_model_module_version": "1.5.0",
       "_model_name": "HTMLModel",
       "_view_count": null,
       "_view_module": "@jupyter-widgets/controls",
       "_view_module_version": "1.5.0",
       "_view_name": "HTMLView",
       "description": "",
       "description_tooltip": null,
       "layout": "IPY_MODEL_8d6e7022adb74fcda841d4d058d7d6a0",
       "placeholder": "​",
       "style": "IPY_MODEL_69a99d1d412d4cd0886bed414dd1dde6",
       "value": "100%"
      }
     },
     "253f565e618a468c817ffb35f92107ab": {
      "model_module": "@jupyter-widgets/controls",
      "model_module_version": "1.5.0",
      "model_name": "DescriptionStyleModel",
      "state": {
       "_model_module": "@jupyter-widgets/controls",
       "_model_module_version": "1.5.0",
       "_model_name": "DescriptionStyleModel",
       "_view_count": null,
       "_view_module": "@jupyter-widgets/base",
       "_view_module_version": "1.2.0",
       "_view_name": "StyleView",
       "description_width": ""
      }
     },
     "36343fd8f15740f48a137793d408c9bd": {
      "model_module": "@jupyter-widgets/controls",
      "model_module_version": "1.5.0",
      "model_name": "DescriptionStyleModel",
      "state": {
       "_model_module": "@jupyter-widgets/controls",
       "_model_module_version": "1.5.0",
       "_model_name": "DescriptionStyleModel",
       "_view_count": null,
       "_view_module": "@jupyter-widgets/base",
       "_view_module_version": "1.2.0",
       "_view_name": "StyleView",
       "description_width": ""
      }
     },
     "39e9e811d9ed40e189e8e1b55ec29eef": {
      "model_module": "@jupyter-widgets/controls",
      "model_module_version": "1.5.0",
      "model_name": "ProgressStyleModel",
      "state": {
       "_model_module": "@jupyter-widgets/controls",
       "_model_module_version": "1.5.0",
       "_model_name": "ProgressStyleModel",
       "_view_count": null,
       "_view_module": "@jupyter-widgets/base",
       "_view_module_version": "1.2.0",
       "_view_name": "StyleView",
       "bar_color": null,
       "description_width": ""
      }
     },
     "3a9f70ca456945f68a85837b15c6e82a": {
      "model_module": "@jupyter-widgets/controls",
      "model_module_version": "1.5.0",
      "model_name": "DescriptionStyleModel",
      "state": {
       "_model_module": "@jupyter-widgets/controls",
       "_model_module_version": "1.5.0",
       "_model_name": "DescriptionStyleModel",
       "_view_count": null,
       "_view_module": "@jupyter-widgets/base",
       "_view_module_version": "1.2.0",
       "_view_name": "StyleView",
       "description_width": ""
      }
     },
     "3b3a8e5a4f9149619ac335b2a23142f5": {
      "model_module": "@jupyter-widgets/base",
      "model_module_version": "1.2.0",
      "model_name": "LayoutModel",
      "state": {
       "_model_module": "@jupyter-widgets/base",
       "_model_module_version": "1.2.0",
       "_model_name": "LayoutModel",
       "_view_count": null,
       "_view_module": "@jupyter-widgets/base",
       "_view_module_version": "1.2.0",
       "_view_name": "LayoutView",
       "align_content": null,
       "align_items": null,
       "align_self": null,
       "border": null,
       "bottom": null,
       "display": null,
       "flex": null,
       "flex_flow": null,
       "grid_area": null,
       "grid_auto_columns": null,
       "grid_auto_flow": null,
       "grid_auto_rows": null,
       "grid_column": null,
       "grid_gap": null,
       "grid_row": null,
       "grid_template_areas": null,
       "grid_template_columns": null,
       "grid_template_rows": null,
       "height": null,
       "justify_content": null,
       "justify_items": null,
       "left": null,
       "margin": null,
       "max_height": null,
       "max_width": null,
       "min_height": null,
       "min_width": null,
       "object_fit": null,
       "object_position": null,
       "order": null,
       "overflow": null,
       "overflow_x": null,
       "overflow_y": null,
       "padding": null,
       "right": null,
       "top": null,
       "visibility": null,
       "width": null
      }
     },
     "3c0a5472144744c39acff40016b13747": {
      "model_module": "@jupyter-widgets/controls",
      "model_module_version": "1.5.0",
      "model_name": "HTMLModel",
      "state": {
       "_dom_classes": [],
       "_model_module": "@jupyter-widgets/controls",
       "_model_module_version": "1.5.0",
       "_model_name": "HTMLModel",
       "_view_count": null,
       "_view_module": "@jupyter-widgets/controls",
       "_view_module_version": "1.5.0",
       "_view_name": "HTMLView",
       "description": "",
       "description_tooltip": null,
       "layout": "IPY_MODEL_437fdeffa31f48148c5360b438929d2a",
       "placeholder": "​",
       "style": "IPY_MODEL_253f565e618a468c817ffb35f92107ab",
       "value": "100%"
      }
     },
     "437fdeffa31f48148c5360b438929d2a": {
      "model_module": "@jupyter-widgets/base",
      "model_module_version": "1.2.0",
      "model_name": "LayoutModel",
      "state": {
       "_model_module": "@jupyter-widgets/base",
       "_model_module_version": "1.2.0",
       "_model_name": "LayoutModel",
       "_view_count": null,
       "_view_module": "@jupyter-widgets/base",
       "_view_module_version": "1.2.0",
       "_view_name": "LayoutView",
       "align_content": null,
       "align_items": null,
       "align_self": null,
       "border": null,
       "bottom": null,
       "display": null,
       "flex": null,
       "flex_flow": null,
       "grid_area": null,
       "grid_auto_columns": null,
       "grid_auto_flow": null,
       "grid_auto_rows": null,
       "grid_column": null,
       "grid_gap": null,
       "grid_row": null,
       "grid_template_areas": null,
       "grid_template_columns": null,
       "grid_template_rows": null,
       "height": null,
       "justify_content": null,
       "justify_items": null,
       "left": null,
       "margin": null,
       "max_height": null,
       "max_width": null,
       "min_height": null,
       "min_width": null,
       "object_fit": null,
       "object_position": null,
       "order": null,
       "overflow": null,
       "overflow_x": null,
       "overflow_y": null,
       "padding": null,
       "right": null,
       "top": null,
       "visibility": null,
       "width": null
      }
     },
     "5235272bb66a4adea4e147ac897e1eca": {
      "model_module": "@jupyter-widgets/controls",
      "model_module_version": "1.5.0",
      "model_name": "FloatProgressModel",
      "state": {
       "_dom_classes": [],
       "_model_module": "@jupyter-widgets/controls",
       "_model_module_version": "1.5.0",
       "_model_name": "FloatProgressModel",
       "_view_count": null,
       "_view_module": "@jupyter-widgets/controls",
       "_view_module_version": "1.5.0",
       "_view_name": "ProgressView",
       "bar_style": "success",
       "description": "",
       "description_tooltip": null,
       "layout": "IPY_MODEL_a35b6652389b444b92e309cadd0a4f22",
       "max": 2034,
       "min": 0,
       "orientation": "horizontal",
       "style": "IPY_MODEL_c06bee7e52e54ad5a51f7b15f72b2222",
       "value": 2034
      }
     },
     "682c412167444024b282d88d138ae746": {
      "model_module": "@jupyter-widgets/base",
      "model_module_version": "1.2.0",
      "model_name": "LayoutModel",
      "state": {
       "_model_module": "@jupyter-widgets/base",
       "_model_module_version": "1.2.0",
       "_model_name": "LayoutModel",
       "_view_count": null,
       "_view_module": "@jupyter-widgets/base",
       "_view_module_version": "1.2.0",
       "_view_name": "LayoutView",
       "align_content": null,
       "align_items": null,
       "align_self": null,
       "border": null,
       "bottom": null,
       "display": null,
       "flex": null,
       "flex_flow": null,
       "grid_area": null,
       "grid_auto_columns": null,
       "grid_auto_flow": null,
       "grid_auto_rows": null,
       "grid_column": null,
       "grid_gap": null,
       "grid_row": null,
       "grid_template_areas": null,
       "grid_template_columns": null,
       "grid_template_rows": null,
       "height": null,
       "justify_content": null,
       "justify_items": null,
       "left": null,
       "margin": null,
       "max_height": null,
       "max_width": null,
       "min_height": null,
       "min_width": null,
       "object_fit": null,
       "object_position": null,
       "order": null,
       "overflow": null,
       "overflow_x": null,
       "overflow_y": null,
       "padding": null,
       "right": null,
       "top": null,
       "visibility": null,
       "width": null
      }
     },
     "69a99d1d412d4cd0886bed414dd1dde6": {
      "model_module": "@jupyter-widgets/controls",
      "model_module_version": "1.5.0",
      "model_name": "DescriptionStyleModel",
      "state": {
       "_model_module": "@jupyter-widgets/controls",
       "_model_module_version": "1.5.0",
       "_model_name": "DescriptionStyleModel",
       "_view_count": null,
       "_view_module": "@jupyter-widgets/base",
       "_view_module_version": "1.2.0",
       "_view_name": "StyleView",
       "description_width": ""
      }
     },
     "6b8f85aa719e45fa87f96bf7464ea72e": {
      "model_module": "@jupyter-widgets/base",
      "model_module_version": "1.2.0",
      "model_name": "LayoutModel",
      "state": {
       "_model_module": "@jupyter-widgets/base",
       "_model_module_version": "1.2.0",
       "_model_name": "LayoutModel",
       "_view_count": null,
       "_view_module": "@jupyter-widgets/base",
       "_view_module_version": "1.2.0",
       "_view_name": "LayoutView",
       "align_content": null,
       "align_items": null,
       "align_self": null,
       "border": null,
       "bottom": null,
       "display": null,
       "flex": null,
       "flex_flow": null,
       "grid_area": null,
       "grid_auto_columns": null,
       "grid_auto_flow": null,
       "grid_auto_rows": null,
       "grid_column": null,
       "grid_gap": null,
       "grid_row": null,
       "grid_template_areas": null,
       "grid_template_columns": null,
       "grid_template_rows": null,
       "height": null,
       "justify_content": null,
       "justify_items": null,
       "left": null,
       "margin": null,
       "max_height": null,
       "max_width": null,
       "min_height": null,
       "min_width": null,
       "object_fit": null,
       "object_position": null,
       "order": null,
       "overflow": null,
       "overflow_x": null,
       "overflow_y": null,
       "padding": null,
       "right": null,
       "top": null,
       "visibility": null,
       "width": null
      }
     },
     "6ded109c0bc346c2a78eeaa09de5488d": {
      "model_module": "@jupyter-widgets/controls",
      "model_module_version": "1.5.0",
      "model_name": "FloatProgressModel",
      "state": {
       "_dom_classes": [],
       "_model_module": "@jupyter-widgets/controls",
       "_model_module_version": "1.5.0",
       "_model_name": "FloatProgressModel",
       "_view_count": null,
       "_view_module": "@jupyter-widgets/controls",
       "_view_module_version": "1.5.0",
       "_view_name": "ProgressView",
       "bar_style": "success",
       "description": "",
       "description_tooltip": null,
       "layout": "IPY_MODEL_e8a42882fb2c40649530664d8ce59576",
       "max": 2032,
       "min": 0,
       "orientation": "horizontal",
       "style": "IPY_MODEL_39e9e811d9ed40e189e8e1b55ec29eef",
       "value": 2032
      }
     },
     "768db521c4cd4b9d963eda1f57892520": {
      "model_module": "@jupyter-widgets/controls",
      "model_module_version": "1.5.0",
      "model_name": "HTMLModel",
      "state": {
       "_dom_classes": [],
       "_model_module": "@jupyter-widgets/controls",
       "_model_module_version": "1.5.0",
       "_model_name": "HTMLModel",
       "_view_count": null,
       "_view_module": "@jupyter-widgets/controls",
       "_view_module_version": "1.5.0",
       "_view_name": "HTMLView",
       "description": "",
       "description_tooltip": null,
       "layout": "IPY_MODEL_d6414c7f2c2344b8ad70191fdd940e71",
       "placeholder": "​",
       "style": "IPY_MODEL_3a9f70ca456945f68a85837b15c6e82a",
       "value": " 2028/2028 [00:00&lt;00:00, 2994.95it/s]"
      }
     },
     "77432033d67c4e56b4b261ded51b56f6": {
      "model_module": "@jupyter-widgets/controls",
      "model_module_version": "1.5.0",
      "model_name": "HBoxModel",
      "state": {
       "_dom_classes": [],
       "_model_module": "@jupyter-widgets/controls",
       "_model_module_version": "1.5.0",
       "_model_name": "HBoxModel",
       "_view_count": null,
       "_view_module": "@jupyter-widgets/controls",
       "_view_module_version": "1.5.0",
       "_view_name": "HBoxView",
       "box_style": "",
       "children": [
        "IPY_MODEL_a40294e132e9437aadb545a94cf5275f",
        "IPY_MODEL_6ded109c0bc346c2a78eeaa09de5488d",
        "IPY_MODEL_1e907458f37d48108225f32421597538"
       ],
       "layout": "IPY_MODEL_cf1b71f65ee04fedb1b38b296cb6eff4"
      }
     },
     "8d6e7022adb74fcda841d4d058d7d6a0": {
      "model_module": "@jupyter-widgets/base",
      "model_module_version": "1.2.0",
      "model_name": "LayoutModel",
      "state": {
       "_model_module": "@jupyter-widgets/base",
       "_model_module_version": "1.2.0",
       "_model_name": "LayoutModel",
       "_view_count": null,
       "_view_module": "@jupyter-widgets/base",
       "_view_module_version": "1.2.0",
       "_view_name": "LayoutView",
       "align_content": null,
       "align_items": null,
       "align_self": null,
       "border": null,
       "bottom": null,
       "display": null,
       "flex": null,
       "flex_flow": null,
       "grid_area": null,
       "grid_auto_columns": null,
       "grid_auto_flow": null,
       "grid_auto_rows": null,
       "grid_column": null,
       "grid_gap": null,
       "grid_row": null,
       "grid_template_areas": null,
       "grid_template_columns": null,
       "grid_template_rows": null,
       "height": null,
       "justify_content": null,
       "justify_items": null,
       "left": null,
       "margin": null,
       "max_height": null,
       "max_width": null,
       "min_height": null,
       "min_width": null,
       "object_fit": null,
       "object_position": null,
       "order": null,
       "overflow": null,
       "overflow_x": null,
       "overflow_y": null,
       "padding": null,
       "right": null,
       "top": null,
       "visibility": null,
       "width": null
      }
     },
     "9454081e31cd4ad7b92b708d397b236d": {
      "model_module": "@jupyter-widgets/controls",
      "model_module_version": "1.5.0",
      "model_name": "HBoxModel",
      "state": {
       "_dom_classes": [],
       "_model_module": "@jupyter-widgets/controls",
       "_model_module_version": "1.5.0",
       "_model_name": "HBoxModel",
       "_view_count": null,
       "_view_module": "@jupyter-widgets/controls",
       "_view_module_version": "1.5.0",
       "_view_name": "HBoxView",
       "box_style": "",
       "children": [
        "IPY_MODEL_3c0a5472144744c39acff40016b13747",
        "IPY_MODEL_fd759dbcdc4045e28126519548bc142e",
        "IPY_MODEL_768db521c4cd4b9d963eda1f57892520"
       ],
       "layout": "IPY_MODEL_9cdf22c7def2436f804ed1c8d98d54e8"
      }
     },
     "9837b877e7c34394afba46833239d5e2": {
      "model_module": "@jupyter-widgets/base",
      "model_module_version": "1.2.0",
      "model_name": "LayoutModel",
      "state": {
       "_model_module": "@jupyter-widgets/base",
       "_model_module_version": "1.2.0",
       "_model_name": "LayoutModel",
       "_view_count": null,
       "_view_module": "@jupyter-widgets/base",
       "_view_module_version": "1.2.0",
       "_view_name": "LayoutView",
       "align_content": null,
       "align_items": null,
       "align_self": null,
       "border": null,
       "bottom": null,
       "display": null,
       "flex": null,
       "flex_flow": null,
       "grid_area": null,
       "grid_auto_columns": null,
       "grid_auto_flow": null,
       "grid_auto_rows": null,
       "grid_column": null,
       "grid_gap": null,
       "grid_row": null,
       "grid_template_areas": null,
       "grid_template_columns": null,
       "grid_template_rows": null,
       "height": null,
       "justify_content": null,
       "justify_items": null,
       "left": null,
       "margin": null,
       "max_height": null,
       "max_width": null,
       "min_height": null,
       "min_width": null,
       "object_fit": null,
       "object_position": null,
       "order": null,
       "overflow": null,
       "overflow_x": null,
       "overflow_y": null,
       "padding": null,
       "right": null,
       "top": null,
       "visibility": null,
       "width": null
      }
     },
     "9ab0eea0d2434332a8f368318bf9d0de": {
      "model_module": "@jupyter-widgets/controls",
      "model_module_version": "1.5.0",
      "model_name": "DescriptionStyleModel",
      "state": {
       "_model_module": "@jupyter-widgets/controls",
       "_model_module_version": "1.5.0",
       "_model_name": "DescriptionStyleModel",
       "_view_count": null,
       "_view_module": "@jupyter-widgets/base",
       "_view_module_version": "1.2.0",
       "_view_name": "StyleView",
       "description_width": ""
      }
     },
     "9cdf22c7def2436f804ed1c8d98d54e8": {
      "model_module": "@jupyter-widgets/base",
      "model_module_version": "1.2.0",
      "model_name": "LayoutModel",
      "state": {
       "_model_module": "@jupyter-widgets/base",
       "_model_module_version": "1.2.0",
       "_model_name": "LayoutModel",
       "_view_count": null,
       "_view_module": "@jupyter-widgets/base",
       "_view_module_version": "1.2.0",
       "_view_name": "LayoutView",
       "align_content": null,
       "align_items": null,
       "align_self": null,
       "border": null,
       "bottom": null,
       "display": null,
       "flex": null,
       "flex_flow": null,
       "grid_area": null,
       "grid_auto_columns": null,
       "grid_auto_flow": null,
       "grid_auto_rows": null,
       "grid_column": null,
       "grid_gap": null,
       "grid_row": null,
       "grid_template_areas": null,
       "grid_template_columns": null,
       "grid_template_rows": null,
       "height": null,
       "justify_content": null,
       "justify_items": null,
       "left": null,
       "margin": null,
       "max_height": null,
       "max_width": null,
       "min_height": null,
       "min_width": null,
       "object_fit": null,
       "object_position": null,
       "order": null,
       "overflow": null,
       "overflow_x": null,
       "overflow_y": null,
       "padding": null,
       "right": null,
       "top": null,
       "visibility": null,
       "width": null
      }
     },
     "a35b6652389b444b92e309cadd0a4f22": {
      "model_module": "@jupyter-widgets/base",
      "model_module_version": "1.2.0",
      "model_name": "LayoutModel",
      "state": {
       "_model_module": "@jupyter-widgets/base",
       "_model_module_version": "1.2.0",
       "_model_name": "LayoutModel",
       "_view_count": null,
       "_view_module": "@jupyter-widgets/base",
       "_view_module_version": "1.2.0",
       "_view_name": "LayoutView",
       "align_content": null,
       "align_items": null,
       "align_self": null,
       "border": null,
       "bottom": null,
       "display": null,
       "flex": null,
       "flex_flow": null,
       "grid_area": null,
       "grid_auto_columns": null,
       "grid_auto_flow": null,
       "grid_auto_rows": null,
       "grid_column": null,
       "grid_gap": null,
       "grid_row": null,
       "grid_template_areas": null,
       "grid_template_columns": null,
       "grid_template_rows": null,
       "height": null,
       "justify_content": null,
       "justify_items": null,
       "left": null,
       "margin": null,
       "max_height": null,
       "max_width": null,
       "min_height": null,
       "min_width": null,
       "object_fit": null,
       "object_position": null,
       "order": null,
       "overflow": null,
       "overflow_x": null,
       "overflow_y": null,
       "padding": null,
       "right": null,
       "top": null,
       "visibility": null,
       "width": null
      }
     },
     "a40294e132e9437aadb545a94cf5275f": {
      "model_module": "@jupyter-widgets/controls",
      "model_module_version": "1.5.0",
      "model_name": "HTMLModel",
      "state": {
       "_dom_classes": [],
       "_model_module": "@jupyter-widgets/controls",
       "_model_module_version": "1.5.0",
       "_model_name": "HTMLModel",
       "_view_count": null,
       "_view_module": "@jupyter-widgets/controls",
       "_view_module_version": "1.5.0",
       "_view_name": "HTMLView",
       "description": "",
       "description_tooltip": null,
       "layout": "IPY_MODEL_3b3a8e5a4f9149619ac335b2a23142f5",
       "placeholder": "​",
       "style": "IPY_MODEL_ecf7909b3c8d4fd2add919ef80fcf5e6",
       "value": "100%"
      }
     },
     "b9ddd72d745a4d28b09f7a0c80922473": {
      "model_module": "@jupyter-widgets/controls",
      "model_module_version": "1.5.0",
      "model_name": "HBoxModel",
      "state": {
       "_dom_classes": [],
       "_model_module": "@jupyter-widgets/controls",
       "_model_module_version": "1.5.0",
       "_model_name": "HBoxModel",
       "_view_count": null,
       "_view_module": "@jupyter-widgets/controls",
       "_view_module_version": "1.5.0",
       "_view_name": "HBoxView",
       "box_style": "",
       "children": [
        "IPY_MODEL_21e2617f371b40acbe17d5a18b67c1bb",
        "IPY_MODEL_5235272bb66a4adea4e147ac897e1eca",
        "IPY_MODEL_c3f04d6edd484444aa37d10abd7f408d"
       ],
       "layout": "IPY_MODEL_682c412167444024b282d88d138ae746"
      }
     },
     "c06bee7e52e54ad5a51f7b15f72b2222": {
      "model_module": "@jupyter-widgets/controls",
      "model_module_version": "1.5.0",
      "model_name": "ProgressStyleModel",
      "state": {
       "_model_module": "@jupyter-widgets/controls",
       "_model_module_version": "1.5.0",
       "_model_name": "ProgressStyleModel",
       "_view_count": null,
       "_view_module": "@jupyter-widgets/base",
       "_view_module_version": "1.2.0",
       "_view_name": "StyleView",
       "bar_color": null,
       "description_width": ""
      }
     },
     "c3f04d6edd484444aa37d10abd7f408d": {
      "model_module": "@jupyter-widgets/controls",
      "model_module_version": "1.5.0",
      "model_name": "HTMLModel",
      "state": {
       "_dom_classes": [],
       "_model_module": "@jupyter-widgets/controls",
       "_model_module_version": "1.5.0",
       "_model_name": "HTMLModel",
       "_view_count": null,
       "_view_module": "@jupyter-widgets/controls",
       "_view_module_version": "1.5.0",
       "_view_name": "HTMLView",
       "description": "",
       "description_tooltip": null,
       "layout": "IPY_MODEL_e96a99b70c0740ffad513a3b152594a3",
       "placeholder": "​",
       "style": "IPY_MODEL_36343fd8f15740f48a137793d408c9bd",
       "value": " 2034/2034 [00:00&lt;00:00, 2504.63it/s]"
      }
     },
     "cf1b71f65ee04fedb1b38b296cb6eff4": {
      "model_module": "@jupyter-widgets/base",
      "model_module_version": "1.2.0",
      "model_name": "LayoutModel",
      "state": {
       "_model_module": "@jupyter-widgets/base",
       "_model_module_version": "1.2.0",
       "_model_name": "LayoutModel",
       "_view_count": null,
       "_view_module": "@jupyter-widgets/base",
       "_view_module_version": "1.2.0",
       "_view_name": "LayoutView",
       "align_content": null,
       "align_items": null,
       "align_self": null,
       "border": null,
       "bottom": null,
       "display": null,
       "flex": null,
       "flex_flow": null,
       "grid_area": null,
       "grid_auto_columns": null,
       "grid_auto_flow": null,
       "grid_auto_rows": null,
       "grid_column": null,
       "grid_gap": null,
       "grid_row": null,
       "grid_template_areas": null,
       "grid_template_columns": null,
       "grid_template_rows": null,
       "height": null,
       "justify_content": null,
       "justify_items": null,
       "left": null,
       "margin": null,
       "max_height": null,
       "max_width": null,
       "min_height": null,
       "min_width": null,
       "object_fit": null,
       "object_position": null,
       "order": null,
       "overflow": null,
       "overflow_x": null,
       "overflow_y": null,
       "padding": null,
       "right": null,
       "top": null,
       "visibility": null,
       "width": null
      }
     },
     "d6414c7f2c2344b8ad70191fdd940e71": {
      "model_module": "@jupyter-widgets/base",
      "model_module_version": "1.2.0",
      "model_name": "LayoutModel",
      "state": {
       "_model_module": "@jupyter-widgets/base",
       "_model_module_version": "1.2.0",
       "_model_name": "LayoutModel",
       "_view_count": null,
       "_view_module": "@jupyter-widgets/base",
       "_view_module_version": "1.2.0",
       "_view_name": "LayoutView",
       "align_content": null,
       "align_items": null,
       "align_self": null,
       "border": null,
       "bottom": null,
       "display": null,
       "flex": null,
       "flex_flow": null,
       "grid_area": null,
       "grid_auto_columns": null,
       "grid_auto_flow": null,
       "grid_auto_rows": null,
       "grid_column": null,
       "grid_gap": null,
       "grid_row": null,
       "grid_template_areas": null,
       "grid_template_columns": null,
       "grid_template_rows": null,
       "height": null,
       "justify_content": null,
       "justify_items": null,
       "left": null,
       "margin": null,
       "max_height": null,
       "max_width": null,
       "min_height": null,
       "min_width": null,
       "object_fit": null,
       "object_position": null,
       "order": null,
       "overflow": null,
       "overflow_x": null,
       "overflow_y": null,
       "padding": null,
       "right": null,
       "top": null,
       "visibility": null,
       "width": null
      }
     },
     "e8a42882fb2c40649530664d8ce59576": {
      "model_module": "@jupyter-widgets/base",
      "model_module_version": "1.2.0",
      "model_name": "LayoutModel",
      "state": {
       "_model_module": "@jupyter-widgets/base",
       "_model_module_version": "1.2.0",
       "_model_name": "LayoutModel",
       "_view_count": null,
       "_view_module": "@jupyter-widgets/base",
       "_view_module_version": "1.2.0",
       "_view_name": "LayoutView",
       "align_content": null,
       "align_items": null,
       "align_self": null,
       "border": null,
       "bottom": null,
       "display": null,
       "flex": null,
       "flex_flow": null,
       "grid_area": null,
       "grid_auto_columns": null,
       "grid_auto_flow": null,
       "grid_auto_rows": null,
       "grid_column": null,
       "grid_gap": null,
       "grid_row": null,
       "grid_template_areas": null,
       "grid_template_columns": null,
       "grid_template_rows": null,
       "height": null,
       "justify_content": null,
       "justify_items": null,
       "left": null,
       "margin": null,
       "max_height": null,
       "max_width": null,
       "min_height": null,
       "min_width": null,
       "object_fit": null,
       "object_position": null,
       "order": null,
       "overflow": null,
       "overflow_x": null,
       "overflow_y": null,
       "padding": null,
       "right": null,
       "top": null,
       "visibility": null,
       "width": null
      }
     },
     "e96a99b70c0740ffad513a3b152594a3": {
      "model_module": "@jupyter-widgets/base",
      "model_module_version": "1.2.0",
      "model_name": "LayoutModel",
      "state": {
       "_model_module": "@jupyter-widgets/base",
       "_model_module_version": "1.2.0",
       "_model_name": "LayoutModel",
       "_view_count": null,
       "_view_module": "@jupyter-widgets/base",
       "_view_module_version": "1.2.0",
       "_view_name": "LayoutView",
       "align_content": null,
       "align_items": null,
       "align_self": null,
       "border": null,
       "bottom": null,
       "display": null,
       "flex": null,
       "flex_flow": null,
       "grid_area": null,
       "grid_auto_columns": null,
       "grid_auto_flow": null,
       "grid_auto_rows": null,
       "grid_column": null,
       "grid_gap": null,
       "grid_row": null,
       "grid_template_areas": null,
       "grid_template_columns": null,
       "grid_template_rows": null,
       "height": null,
       "justify_content": null,
       "justify_items": null,
       "left": null,
       "margin": null,
       "max_height": null,
       "max_width": null,
       "min_height": null,
       "min_width": null,
       "object_fit": null,
       "object_position": null,
       "order": null,
       "overflow": null,
       "overflow_x": null,
       "overflow_y": null,
       "padding": null,
       "right": null,
       "top": null,
       "visibility": null,
       "width": null
      }
     },
     "ecf7909b3c8d4fd2add919ef80fcf5e6": {
      "model_module": "@jupyter-widgets/controls",
      "model_module_version": "1.5.0",
      "model_name": "DescriptionStyleModel",
      "state": {
       "_model_module": "@jupyter-widgets/controls",
       "_model_module_version": "1.5.0",
       "_model_name": "DescriptionStyleModel",
       "_view_count": null,
       "_view_module": "@jupyter-widgets/base",
       "_view_module_version": "1.2.0",
       "_view_name": "StyleView",
       "description_width": ""
      }
     },
     "fd759dbcdc4045e28126519548bc142e": {
      "model_module": "@jupyter-widgets/controls",
      "model_module_version": "1.5.0",
      "model_name": "FloatProgressModel",
      "state": {
       "_dom_classes": [],
       "_model_module": "@jupyter-widgets/controls",
       "_model_module_version": "1.5.0",
       "_model_name": "FloatProgressModel",
       "_view_count": null,
       "_view_module": "@jupyter-widgets/controls",
       "_view_module_version": "1.5.0",
       "_view_name": "ProgressView",
       "bar_style": "success",
       "description": "",
       "description_tooltip": null,
       "layout": "IPY_MODEL_6b8f85aa719e45fa87f96bf7464ea72e",
       "max": 2028,
       "min": 0,
       "orientation": "horizontal",
       "style": "IPY_MODEL_0c646c8cb8e54fe6a7b721bf6e906e75",
       "value": 2028
      }
     }
    },
    "version_major": 2,
    "version_minor": 0
   }
  }
 },
 "nbformat": 4,
 "nbformat_minor": 5
}
